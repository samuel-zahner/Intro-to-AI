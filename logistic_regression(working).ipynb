{
  "nbformat": 4,
  "nbformat_minor": 0,
  "metadata": {
    "colab": {
      "name": "toRGB.ipynb",
      "provenance": [],
      "authorship_tag": "ABX9TyNCaIAN2AL7kPUrsb5kZUsY",
      "include_colab_link": true
    },
    "kernelspec": {
      "name": "python3",
      "display_name": "Python 3"
    },
    "language_info": {
      "name": "python"
    }
  },
  "cells": [
    {
      "cell_type": "markdown",
      "metadata": {
        "id": "view-in-github",
        "colab_type": "text"
      },
      "source": [
        "<a href=\"https://colab.research.google.com/github/samuel-zahner/Intro-to-AI/blob/main/logistic_regression(working).ipynb\" target=\"_parent\"><img src=\"https://colab.research.google.com/assets/colab-badge.svg\" alt=\"Open In Colab\"/></a>"
      ]
    },
    {
      "cell_type": "code",
      "metadata": {
        "colab": {
          "base_uri": "https://localhost:8080/"
        },
        "id": "ti3cxpX0nJ1S",
        "outputId": "9417c362-ff3f-403d-83df-7ad238f0b0eb"
      },
      "source": [
        "import numpy as np\n",
        "import matplotlib.pyplot as plt\n",
        "from PIL import Image, ImageOps\n",
        "import math\n",
        "from google.colab import drive\n",
        "drive.mount('/content/gdrive')"
      ],
      "execution_count": 4,
      "outputs": [
        {
          "output_type": "stream",
          "text": [
            "Mounted at /content/gdrive\n"
          ],
          "name": "stdout"
        }
      ]
    },
    {
      "cell_type": "code",
      "metadata": {
        "colab": {
          "base_uri": "https://localhost:8080/",
          "height": 57
        },
        "id": "WybsxAF8nRgK",
        "outputId": "4d5f413b-6622-4408-fa0b-c36302016ccd"
      },
      "source": [
        "image1 = Image.open('/content/gdrive/My Drive/Colab Notebooks/to RGB/bliss.png')\n",
        "image1 = image1.convert('RGB')\n",
        "image1.thumbnail((50,50))\n",
        "image1"
      ],
      "execution_count": 55,
      "outputs": [
        {
          "output_type": "execute_result",
          "data": {
            "image/png": "[encoded data removed]",
            "text/plain": [
              "<PIL.Image.Image image mode=RGB size=50x40 at 0x7F75C9138690>"
            ]
          },
          "metadata": {
            "tags": []
          },
          "execution_count": 55
        }
      ]
    },
    {
      "cell_type": "code",
      "metadata": {
        "colab": {
          "base_uri": "https://localhost:8080/",
          "height": 57
        },
        "id": "R8f1niHzn2r6",
        "outputId": "60882c2f-f8f2-449e-8f1a-6bfa505c02da"
      },
      "source": [
        "image2 = ImageOps.grayscale(image1)\n",
        "image2"
      ],
      "execution_count": 38,
      "outputs": [
        {
          "output_type": "execute_result",
          "data": {
            "image/png": "[encoded data removed]",
            "text/plain": [
              "<PIL.Image.Image image mode=L size=50x40 at 0x7F75C8FC7AD0>"
            ]
          },
          "metadata": {
            "tags": []
          },
          "execution_count": 38
        }
      ]
    },
    {
      "cell_type": "code",
      "metadata": {
        "id": "kge9AbilopyS"
      },
      "source": [
        "def sigmoid(w, x):\n",
        "  z = np.dot(w,x)\n",
        "  h = 1/(1+math.exp(1)**(-z))\n",
        "  return h"
      ],
      "execution_count": 10,
      "outputs": []
    },
    {
      "cell_type": "code",
      "metadata": {
        "id": "9yUj_3j5o8fR"
      },
      "source": [
        "def model(w, x):\n",
        "  red = sigmoid(w[0],x)\n",
        "  green = sigmoid(w[1],x)\n",
        "  blue = sigmoid(w[2],x)\n",
        "\n",
        "  red = 255 * red.mean()\n",
        "  green = 255 * green.mean()\n",
        "  blue = 255 * blue.mean()\n",
        "\n",
        "  #print(x)\n",
        "  #print(red)\n",
        "  return [red, green, blue]"
      ],
      "execution_count": 39,
      "outputs": []
    },
    {
      "cell_type": "code",
      "metadata": {
        "id": "CCS27eGlpU4q"
      },
      "source": [
        "def loss(w, x, y):\n",
        "  loss_red = y[0] * math.log(model(w,x)[0]) + (1-y[0])*math.log(1-model(w, x)[0])\n",
        "  loss_green = y[1] * math.log(model(w,x)[1]) + (1-y[1])*math.log(1-model(w, x)[1])\n",
        "  loss_blue = y[2] * math.log(model(w,x)[2]) + (1-y[2])*math.log(1-model(w, x)[2])\n",
        "  \n",
        "  return [loss_red, loss_green, loss_blue]"
      ],
      "execution_count": 12,
      "outputs": []
    },
    {
      "cell_type": "code",
      "metadata": {
        "id": "aPglEercqhCO"
      },
      "source": [
        "def L(w, x, y):\n",
        "  gradient_red = np.dot((model(w,x)[0] - y[0]),x)\n",
        "  gradient_green =  np.dot((model(w,x)[1] - y[1]),x)\n",
        "  gradient_blue = np.dot((model(w,x)[2] - y[2]),x)\n",
        "\n",
        "  gradient_red = gradient_red.mean()\n",
        "  gradient_green = gradient_green.mean()\n",
        "  gradient_blue = gradient_blue.mean()\n",
        "\n",
        "  return [gradient_red, gradient_green, gradient_blue]"
      ],
      "execution_count": 25,
      "outputs": []
    },
    {
      "cell_type": "code",
      "metadata": {
        "colab": {
          "base_uri": "https://localhost:8080/"
        },
        "id": "_CW7gvsPrrJT",
        "outputId": "5e3c129a-d7e3-4eeb-b166-3b9e756e1b2b"
      },
      "source": [
        "w = [0,0,0]\n",
        "\n",
        "alpha = .00001\n",
        "\n",
        "num_epochs = 100\n",
        "\n",
        "for epoch in range(num_epochs):\n",
        "  for i in range(0, 48):\n",
        "    for j in range(0, 38):\n",
        "      x = [1, image2.getpixel((i,j)), image2.getpixel((i+1,j)), image2.getpixel((i+2,j)), image2.getpixel((i, j+1)), \n",
        "           image2.getpixel((i+1, j+1)), image2.getpixel((i+2, j+1)), image2.getpixel((i, j+2)), image2.getpixel((i+1, j+2)), image2.getpixel((i+2, j+2))]\n",
        "      y = image1.getpixel((i+1, j+1))\n",
        "\n",
        "      gradient_red, gradient_green, gradient_blue = L(w, x, y)\n",
        "\n",
        "      w[0] = w[0] - alpha * gradient_red\n",
        "      w[1] = w[1] - alpha * gradient_green\n",
        "      w[2] = w[2] - alpha * gradient_blue\n",
        "  if epoch %10 == 0:\n",
        "    print(f'epoch: {epoch}')\n",
        "    #print(f'loss: {loss(w,x,y)}')\n",
        "\n"
      ],
      "execution_count": 43,
      "outputs": [
        {
          "output_type": "stream",
          "text": [
            "epoch: 0\n",
            "epoch: 10\n",
            "epoch: 20\n",
            "epoch: 30\n",
            "epoch: 40\n",
            "epoch: 50\n",
            "epoch: 60\n",
            "epoch: 70\n",
            "epoch: 80\n",
            "epoch: 90\n"
          ],
          "name": "stdout"
        }
      ]
    },
    {
      "cell_type": "code",
      "metadata": {
        "colab": {
          "base_uri": "https://localhost:8080/",
          "height": 84
        },
        "id": "t7ep1L6vBmA-",
        "outputId": "9baaaf33-10b9-44d3-eabd-ac015a85a7b5"
      },
      "source": [
        "data = np.zeros((50,40, 3), dtype=np.uint8)\n",
        "print(w)\n",
        "for i in range(0, 48):\n",
        "    for j in range(0, 38):\n",
        "        x = [image2.getpixel((i,j)), image2.getpixel((i+1,j)), image2.getpixel((i+2,j)), image2.getpixel((i, j+1)), \n",
        "           image2.getpixel((i+1, j+1)), image2.getpixel((i+2, j+1)), image2.getpixel((i, j+2)), image2.getpixel((i+1, j+2)), image2.getpixel((i+2, j+2))]\n",
        "        r,g,b = model(w,x)\n",
        "        #print(r,g,b)\n",
        "        data[i+1][j+1] = [r,g,b]\n",
        "image3 = Image.fromarray(data, 'RGB')\n",
        "image3 = image3.rotate(-90)\n",
        "image3"
      ],
      "execution_count": 49,
      "outputs": [
        {
          "output_type": "stream",
          "text": [
            "[-0.029702517008942077, -0.0203331260423214, -0.062052646939449306]\n"
          ],
          "name": "stdout"
        },
        {
          "output_type": "execute_result",
          "data": {
            "image/png": "[encoded data removed]",
            "text/plain": [
              "<PIL.Image.Image image mode=RGB size=40x50 at 0x7F75C8FCE590>"
            ]
          },
          "metadata": {
            "tags": []
          },
          "execution_count": 49
        }
      ]
    }
  ]
}