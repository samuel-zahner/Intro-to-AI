{
 "cells": [
  {
   "cell_type": "code",
   "execution_count": 5,
   "metadata": {},
   "outputs": [],
   "source": [
    "import numpy as np\n",
    "import numpy.random as rand"
   ]
  },
  {
   "cell_type": "code",
   "execution_count": 6,
   "metadata": {},
   "outputs": [],
   "source": [
    "class Cell():\n",
    "    target = 0\n",
    "    cell_type = \"\"\n",
    "    prob_not_found = 0\n",
    "    def __init__(self, cell_type, prob_not_found):\n",
    "        self.cell_type = cell_type\n",
    "        self.prob_not_found = prob_not_found\n",
    "        "
   ]
  },
  {
   "cell_type": "code",
   "execution_count": 8,
   "metadata": {},
   "outputs": [
    {
     "name": "stdout",
     "output_type": "stream",
     "text": [
      "Enter dimension of board: 5\n"
     ]
    }
   ],
   "source": [
    "#create environment\n",
    "#take input from user\n",
    "while True:\n",
    "  try:\n",
    "    dimension = int(input(\"Enter dimension of board: \"))\n",
    "    break\n",
    "  except ValueError:\n",
    "    print(\"Must be an integer\")\n",
    "    \n",
    "mat = [[] for i in range(dimension)] # create a list of empty lists\n",
    "cell_type = \"\"\n",
    "prob_not_found = 0\n",
    "for i in range(dimension):\n",
    "    for j in range(dimension):\n",
    "        p = rand.random()\n",
    "        if p < 0.25:\n",
    "            cell_type = \"flat\"\n",
    "            prob_not_found = 0.1\n",
    "        elif p <0.50:\n",
    "            cell_type = \"hilly\"\n",
    "            prob_not_found = 0.3\n",
    "        elif p <0.75:\n",
    "            cell_type = \"forested\"\n",
    "            prob_not_found = 0.7\n",
    "        else:\n",
    "            cell_type = \"maze of caves\"\n",
    "            prob_not_found = 0.9\n",
    "        mat[i].append(Cell(cell_type, prob_not_found))"
   ]
  },
  {
   "cell_type": "code",
   "execution_count": 12,
   "metadata": {},
   "outputs": [
    {
     "name": "stdout",
     "output_type": "stream",
     "text": [
      "forested\n",
      "maze of caves\n",
      "0.7\n"
     ]
    }
   ],
   "source": [
    "print(mat[0][0].cell_type)\n",
    "print(mat[0][1].cell_type)\n",
    "print(mat[2][2].prob_not_found)"
   ]
  },
  {
   "cell_type": "code",
   "execution_count": null,
   "metadata": {},
   "outputs": [],
   "source": []
  }
 ],
 "metadata": {
  "kernelspec": {
   "display_name": "Python 3",
   "language": "python",
   "name": "python3"
  },
  "language_info": {
   "codemirror_mode": {
    "name": "ipython",
    "version": 3
   },
   "file_extension": ".py",
   "mimetype": "text/x-python",
   "name": "python",
   "nbconvert_exporter": "python",
   "pygments_lexer": "ipython3",
   "version": "3.8.3"
  }
 },
 "nbformat": 4,
 "nbformat_minor": 4
}
