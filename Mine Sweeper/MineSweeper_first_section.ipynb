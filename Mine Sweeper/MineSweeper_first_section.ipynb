{
  "nbformat": 4,
  "nbformat_minor": 0,
  "metadata": {
    "colab": {
      "name": "MineSweeper_first_section.ipynb",
      "provenance": [],
      "collapsed_sections": []
    },
    "kernelspec": {
      "name": "python3",
      "display_name": "Python 3"
    }
  },
  "cells": [
    {
      "cell_type": "code",
      "metadata": {
        "id": "rfBKw3l05m0u"
      },
      "source": [
        "import numpy as np\r\n",
        "import numpy.random as rand"
      ],
      "execution_count": 5,
      "outputs": []
    },
    {
      "cell_type": "code",
      "metadata": {
        "colab": {
          "base_uri": "https://localhost:8080/"
        },
        "id": "VI0Qj-Zy4Nsy",
        "outputId": "ea10277b-17c5-48dc-92b8-8448ac7488b5"
      },
      "source": [
        "#create environment\r\n",
        "#take input from user\r\n",
        "while True:\r\n",
        "  try:\r\n",
        "    dimension = int(input(\"Enter dimension of board: \"))\r\n",
        "    break\r\n",
        "  except ValueError:\r\n",
        "    print(\"Must be an integer\")\r\n",
        "\r\n",
        "while True: \r\n",
        "  try:\r\n",
        "    num_mines = int(input(\"Enter number of mines: \"))\r\n",
        "    if num_mines > dimension**2:\r\n",
        "      raise ValueError\r\n",
        "    break\r\n",
        "  except ValueError:\r\n",
        "    print(\"Must be an integer and less than dimension^2\")\r\n",
        "\r\n"
      ],
      "execution_count": 30,
      "outputs": [
        {
          "output_type": "stream",
          "text": [
            "Enter dimension of board: 10\n",
            "Enter number of mines: 25\n"
          ],
          "name": "stdout"
        }
      ]
    },
    {
      "cell_type": "code",
      "metadata": {
        "colab": {
          "base_uri": "https://localhost:8080/"
        },
        "id": "41CJUr1o50qI",
        "outputId": "4e63b174-6172-4d20-b4be-009d574af4eb"
      },
      "source": [
        "#initialize board\r\n",
        "board = np.zeros((dimension, dimension))\r\n",
        "\r\n",
        "#initialize mines\r\n",
        "counter = 0\r\n",
        "mines_set = set([])\r\n",
        "while counter < num_mines:\r\n",
        "  x = rand.randint(0, dimension)\r\n",
        "  y = rand.randint(0, dimension)\r\n",
        "  if (x,y) in mines_set:\r\n",
        "    continue\r\n",
        "  else:\r\n",
        "    mines_set.add((x,y))\r\n",
        "    board[x][y] = 1\r\n",
        "    counter += 1\r\n",
        "\r\n",
        "print(board)"
      ],
      "execution_count": 31,
      "outputs": [
        {
          "output_type": "stream",
          "text": [
            "[[0. 0. 0. 0. 0. 1. 0. 0. 0. 0.]\n",
            " [0. 0. 0. 0. 0. 0. 1. 0. 1. 0.]\n",
            " [0. 0. 0. 0. 1. 0. 0. 0. 0. 0.]\n",
            " [1. 1. 0. 1. 0. 1. 0. 0. 1. 1.]\n",
            " [1. 0. 1. 0. 0. 1. 0. 0. 0. 0.]\n",
            " [1. 0. 0. 0. 0. 0. 0. 0. 0. 0.]\n",
            " [0. 1. 0. 1. 0. 0. 1. 0. 1. 0.]\n",
            " [1. 0. 0. 0. 1. 0. 1. 0. 0. 0.]\n",
            " [0. 1. 0. 0. 0. 0. 1. 0. 0. 0.]\n",
            " [0. 0. 0. 1. 1. 0. 0. 0. 0. 0.]]\n"
          ],
          "name": "stdout"
        }
      ]
    },
    {
      "cell_type": "code",
      "metadata": {
        "id": "D9GrSTuj7q2j"
      },
      "source": [
        "#clue that our agent will receive\r\n",
        "#returns the total sum of the neighbors of current_position\r\n",
        "def clue(current_position, board,  dimension):\r\n",
        "  x = current_position[0]\r\n",
        "  y = current_position[1]\r\n",
        "  sum = 0\r\n",
        "\r\n",
        "  if x+1 < dimension:\r\n",
        "    sum += board[x+1][y]\r\n",
        "    if y+1 < dimension:\r\n",
        "      sum += board[x+1][y+1]\r\n",
        "    if y-1 >= 0:\r\n",
        "      sum += board[x+1][y-1]\r\n",
        "\r\n",
        "  if x-1 >= 0:\r\n",
        "    sum += board[x-1][y]\r\n",
        "    if y+1 < dimension:\r\n",
        "      sum += board[x-1][y+1]\r\n",
        "    if y-1 >= 0:\r\n",
        "      sum += board[x-1][y-1]\r\n",
        "\r\n",
        "  if y+1 < dimension:\r\n",
        "    sum += board[x][y+1]\r\n",
        "  \r\n",
        "  if y-1 >= 0:\r\n",
        "    sum += board[x][y-1]\r\n",
        "\r\n",
        "  return sum\r\n",
        "  "
      ],
      "execution_count": 8,
      "outputs": []
    },
    {
      "cell_type": "code",
      "metadata": {
        "id": "8PS60DS-jiW4"
      },
      "source": [
        "def neighbors(current_position, board,  dimension):\n",
        "  x = current_position[0]\n",
        "  y = current_position[1]\n",
        "  nodes = set([])\n",
        "\n",
        "  if x+1 < dimension:\n",
        "    nodes.add((x+1,y))\n",
        "    if y+1 < dimension:\n",
        "      nodes.add((x+1,y+1))\n",
        "    if y-1 >= 0:\n",
        "      nodes.add((x+1,y-1))\n",
        "\n",
        "  if x-1 >= 0:\n",
        "    nodes.add((x-1,y))\n",
        "    if y+1 < dimension:\n",
        "      nodes.add((x-1,y+1))\n",
        "    if y-1 >= 0:\n",
        "      nodes.add((x-1,y-1))\n",
        "\n",
        "  if y+1 < dimension:\n",
        "    nodes.add((x,y+1))\n",
        "  \n",
        "  if y-1 >= 0:\n",
        "    nodes.add((x,y-1))\n",
        "\n",
        "  return nodes"
      ],
      "execution_count": 9,
      "outputs": []
    },
    {
      "cell_type": "code",
      "metadata": {
        "id": "sbAIMBYTRlS3"
      },
      "source": [
        "def safe_squares(current_position, board,  dimension):\n",
        "  x = current_position[0]\n",
        "  y = current_position[1]\n",
        "  total = 0\n",
        "\n",
        "  if x+1 < dimension:\n",
        "    total += 1\n",
        "    if y+1 < dimension:\n",
        "      total += 1\n",
        "    if y-1 >= 0:\n",
        "      total += 1\n",
        "  if x-1 >= 0:\n",
        "    total += 1\n",
        "    if y+1 < dimension:\n",
        "      total += 1\n",
        "    if y-1 >= 0:\n",
        "      total += 1\n",
        "  if y+1 < dimension:\n",
        "    total += 1\n",
        "  if y-1 >= 0:\n",
        "    total += 1\n",
        "\n",
        "  mines = clue(current_position, board,  dimension)\n",
        "  safe = total - mines\n",
        "\n",
        "  return safe\n"
      ],
      "execution_count": 20,
      "outputs": []
    },
    {
      "cell_type": "code",
      "metadata": {
        "id": "Q-YtvWzgE9IJ"
      },
      "source": [
        "def basic_algorithm(board, dimension):\n",
        "  mines = set([])\n",
        "  explored_set = set([])\n",
        "  neighbor_fringe = set([])\n",
        "  unexplored_set = set([])\n",
        "  death = 0\n",
        "  for a in range(dimension):\n",
        "    for b in range(dimension):\n",
        "      unexplored_set.add((a,b))\n",
        "  #(coords,mine/safe,clue#)\n",
        "  #implement while loop here for each pair in board that isn't in explored space\n",
        "  # -- not sure about where to put the random point check? maybe at the end after initializing it? --\n",
        "  while len(unexplored_set) > 0:\n",
        "    coord = unexplored_set.pop()\n",
        "    neighbor_fringe.add(coord)\n",
        "    if board[coord[0]][coord[1]] == 1:\n",
        "      death += 1\n",
        "      explored_set.add(coord)\n",
        "      mines.add(coord)\n",
        "      #break\n",
        "    if board[coord[0]][coord[1]] == 0:\n",
        "      #explored_set.add(coord)\n",
        "      clue_num = clue(coord, board, dimension)\n",
        "      #safe = safe_squares((x,y), board, dimension)\n",
        "      neighbor_set = neighbors(coord, board, dimension)\n",
        "      mine_count = 0\n",
        "      hidden = 0\n",
        "      hidden_set = set([])\n",
        "      safe = 0\n",
        "      safe_set = set([])\n",
        "      for i in neighbor_set:\n",
        "        if i in mines:\n",
        "          mine_count += 1\n",
        "        if i in unexplored_set:\n",
        "          hidden += 1\n",
        "          hidden_set.add(i)\n",
        "\n",
        "      for j in neighbor_set:\n",
        "        if j not in unexplored_set and j not in mines:\n",
        "          safe += 1\n",
        "          safe_set.add(i)\n",
        "\n",
        "      #first condition\n",
        "      if clue_num - mine_count == hidden:\n",
        "        for j in hidden_set:\n",
        "          mines.add(j)\n",
        "          unexplored_set.remove(j)\n",
        "\n",
        "    #second condition\n",
        "      if len(neighbor_set) - clue_num - safe == hidden:\n",
        "        for k in hidden_set:\n",
        "          neighbor_fringe.add(k)\n",
        "          unexplored_set.remove(k) \n",
        "  print(death)\n",
        "  return mines   \n"
      ],
      "execution_count": 27,
      "outputs": []
    },
    {
      "cell_type": "code",
      "metadata": {
        "colab": {
          "base_uri": "https://localhost:8080/"
        },
        "id": "N48Dd0Wo_5DU",
        "outputId": "d6f72c53-5419-42ae-adb4-be68f964b16b"
      },
      "source": [
        "mines = basic_algorithm(board,dimension)\n",
        "board_new = np.zeros((dimension, dimension))\n",
        "#initialize mines\n",
        "counter = 0\n",
        "for i in mines:\n",
        "  board_new[i[0]][i[1]] = 1\n",
        "\n",
        "print(board_new)"
      ],
      "execution_count": 32,
      "outputs": [
        {
          "output_type": "stream",
          "text": [
            "21\n",
            "[[0. 0. 0. 0. 0. 1. 0. 0. 0. 0.]\n",
            " [0. 0. 0. 0. 0. 0. 1. 0. 1. 0.]\n",
            " [0. 0. 0. 0. 1. 0. 0. 0. 0. 0.]\n",
            " [1. 1. 0. 1. 0. 1. 0. 0. 1. 1.]\n",
            " [1. 0. 1. 0. 0. 1. 0. 0. 0. 0.]\n",
            " [1. 0. 0. 0. 0. 0. 0. 0. 0. 0.]\n",
            " [0. 1. 0. 1. 0. 0. 1. 0. 1. 0.]\n",
            " [1. 0. 0. 0. 1. 0. 1. 0. 0. 0.]\n",
            " [0. 1. 0. 0. 0. 0. 1. 0. 0. 0.]\n",
            " [0. 0. 0. 1. 1. 0. 0. 0. 0. 0.]]\n"
          ],
          "name": "stdout"
        }
      ]
    },
    {
      "cell_type": "code",
      "metadata": {
        "colab": {
          "base_uri": "https://localhost:8080/"
        },
        "id": "PqnxhuA7AvVX",
        "outputId": "ef9efffc-5b53-47b5-8d75-10cb520c29c2"
      },
      "source": [
        "print(board)"
      ],
      "execution_count": 33,
      "outputs": [
        {
          "output_type": "stream",
          "text": [
            "[[0. 0. 0. 0. 0. 1. 0. 0. 0. 0.]\n",
            " [0. 0. 0. 0. 0. 0. 1. 0. 1. 0.]\n",
            " [0. 0. 0. 0. 1. 0. 0. 0. 0. 0.]\n",
            " [1. 1. 0. 1. 0. 1. 0. 0. 1. 1.]\n",
            " [1. 0. 1. 0. 0. 1. 0. 0. 0. 0.]\n",
            " [1. 0. 0. 0. 0. 0. 0. 0. 0. 0.]\n",
            " [0. 1. 0. 1. 0. 0. 1. 0. 1. 0.]\n",
            " [1. 0. 0. 0. 1. 0. 1. 0. 0. 0.]\n",
            " [0. 1. 0. 0. 0. 0. 1. 0. 0. 0.]\n",
            " [0. 0. 0. 1. 1. 0. 0. 0. 0. 0.]]\n"
          ],
          "name": "stdout"
        }
      ]
    }
  ]
}