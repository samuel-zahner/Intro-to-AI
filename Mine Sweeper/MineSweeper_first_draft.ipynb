{
  "nbformat": 4,
  "nbformat_minor": 0,
  "metadata": {
    "colab": {
      "name": "MineSweeper_first_draft.ipynb",
      "provenance": []
    },
    "kernelspec": {
      "name": "python3",
      "display_name": "Python 3"
    }
  },
  "cells": [
    {
      "cell_type": "code",
      "metadata": {
        "id": "rfBKw3l05m0u"
      },
      "source": [
        "import numpy as np\r\n",
        "import numpy.random as rand"
      ],
      "execution_count": 1,
      "outputs": []
    },
    {
      "cell_type": "code",
      "metadata": {
        "colab": {
          "base_uri": "https://localhost:8080/"
        },
        "id": "VI0Qj-Zy4Nsy",
        "outputId": "43396f4e-ba76-470f-f989-e667438ca71c"
      },
      "source": [
        "#create environment\r\n",
        "#take input from user\r\n",
        "while True:\r\n",
        "  try:\r\n",
        "    dimension = int(input(\"Enter dimension of board: \"))\r\n",
        "    break\r\n",
        "  except ValueError:\r\n",
        "    print(\"Must be an integer\")\r\n",
        "\r\n",
        "while True: \r\n",
        "  try:\r\n",
        "    num_mines = int(input(\"Enter number of mines: \"))\r\n",
        "    if num_mines > dimension**2:\r\n",
        "      raise ValueError\r\n",
        "    break\r\n",
        "  except ValueError:\r\n",
        "    print(\"Must be an integer and less than dimension^2\")\r\n",
        "\r\n"
      ],
      "execution_count": 2,
      "outputs": [
        {
          "output_type": "stream",
          "text": [
            "Enter dimension of board: 10\n",
            "Enter number of mines: 4\n"
          ],
          "name": "stdout"
        }
      ]
    },
    {
      "cell_type": "code",
      "metadata": {
        "colab": {
          "base_uri": "https://localhost:8080/"
        },
        "id": "41CJUr1o50qI",
        "outputId": "a9660fbf-2fa4-43d3-8042-0bec69cfb339"
      },
      "source": [
        "#initialize board\r\n",
        "board = np.zeros((dimension, dimension))\r\n",
        "\r\n",
        "#initialize mines\r\n",
        "counter = 0\r\n",
        "mines_set = set([])\r\n",
        "while counter < num_mines:\r\n",
        "  x = rand.randint(0, dimension)\r\n",
        "  y = rand.randint(0, dimension)\r\n",
        "  if (x,y) in mines_set:\r\n",
        "    continue\r\n",
        "  else:\r\n",
        "    mines_set.add((x,y))\r\n",
        "    board[x][y] = 1\r\n",
        "    counter += 1\r\n",
        "\r\n",
        "print(board)"
      ],
      "execution_count": 3,
      "outputs": [
        {
          "output_type": "stream",
          "text": [
            "[[0. 0. 0. 0. 0. 0. 0. 0. 0. 0.]\n",
            " [0. 0. 0. 0. 0. 0. 0. 0. 0. 0.]\n",
            " [0. 0. 1. 0. 0. 0. 0. 0. 0. 0.]\n",
            " [0. 0. 0. 0. 0. 0. 0. 0. 0. 0.]\n",
            " [0. 0. 0. 1. 0. 1. 0. 0. 0. 0.]\n",
            " [0. 0. 0. 0. 0. 0. 0. 0. 1. 0.]\n",
            " [0. 0. 0. 0. 0. 0. 0. 0. 0. 0.]\n",
            " [0. 0. 0. 0. 0. 0. 0. 0. 0. 0.]\n",
            " [0. 0. 0. 0. 0. 0. 0. 0. 0. 0.]\n",
            " [0. 0. 0. 0. 0. 0. 0. 0. 0. 0.]]\n"
          ],
          "name": "stdout"
        }
      ]
    },
    {
      "cell_type": "code",
      "metadata": {
        "id": "D9GrSTuj7q2j"
      },
      "source": [
        "#clue that our agent will receive\r\n",
        "#returns the total sum of the neighbors of current_position\r\n",
        "def clue(current_position, board,  dimension):\r\n",
        "  x = current_position[0]\r\n",
        "  y = current_position[1]\r\n",
        "  sum = 0\r\n",
        "\r\n",
        "  if x+1 < dimension:\r\n",
        "    sum += board[x+1][y]\r\n",
        "    if y+1 < dimension:\r\n",
        "      sum += board[x+1][y+1]\r\n",
        "    if y-1 >= 0:\r\n",
        "      sum += board[x+1][y-1]\r\n",
        "\r\n",
        "  if x-1 >= 0:\r\n",
        "    sum += board[x-1][y]\r\n",
        "    if y+1 < dimension:\r\n",
        "      sum += board[x-1][y+1]\r\n",
        "    if y-1 >= 0:\r\n",
        "      sum += board[x-1][y-1]\r\n",
        "\r\n",
        "  if y+1 < dimension:\r\n",
        "    sum += board[x][y+1]\r\n",
        "  \r\n",
        "  if y-1 >= 0:\r\n",
        "    sum += board[x][y-1]\r\n",
        "\r\n",
        "  return sum\r\n",
        "  "
      ],
      "execution_count": 4,
      "outputs": []
    },
    {
      "cell_type": "code",
      "metadata": {
        "id": "8PS60DS-jiW4"
      },
      "source": [
        "def neighbors(current_position, board,  dimension):\n",
        "  x = current_position[0]\n",
        "  y = current_position[1]\n",
        "  nodes = set([])\n",
        "\n",
        "  if x+1 < dimension:\n",
        "    nodes.add((x+1,y))\n",
        "    if y+1 < dimension:\n",
        "      nodes.add((x+1,y+1))\n",
        "    if y-1 >= 0:\n",
        "      nodes.add((x+1,y-1))\n",
        "\n",
        "  if x-1 >= 0:\n",
        "    nodes.add((x-1,y))\n",
        "    if y+1 < dimension:\n",
        "      nodes.add((x-1,y+1))\n",
        "    if y-1 >= 0:\n",
        "      nodes.add((x-1,y-1))\n",
        "\n",
        "  if y+1 < dimension:\n",
        "    nodes.add((x,y+1))\n",
        "  \n",
        "  if y-1 >= 0:\n",
        "    nodes.add((x,y-1))\n",
        "\n",
        "  return nodes"
      ],
      "execution_count": null,
      "outputs": []
    },
    {
      "cell_type": "code",
      "metadata": {
        "id": "sbAIMBYTRlS3"
      },
      "source": [
        "def safe_squares(current_position, board,  dimension):\n",
        "  x = current_position[0]\n",
        "  y = current_position[1]\n",
        "  total = 0\n",
        "\n",
        "  if x+1 < dimension:\n",
        "    total += 1\n",
        "    if y+1 < dimension:\n",
        "      total += 1\n",
        "    if y-1 >= 0:\n",
        "      total += 1\n",
        "  if x-1 >= 0:\n",
        "    total += 1\n",
        "    if y+1 < dimension:\n",
        "      total += 1\n",
        "    if y-1 >= 0:\n",
        "      total += 1\n",
        "  if y+1 < dimension:\n",
        "    total += 1\n",
        "  if y-1 >= 0:\n",
        "    total += 1\n",
        "\n",
        "  mines = clue(current_position, board,  dimension)\n",
        "  safe = total - mines\n",
        "\n",
        "  return safe\n"
      ],
      "execution_count": 7,
      "outputs": []
    },
    {
      "cell_type": "code",
      "metadata": {
        "id": "Q-YtvWzgE9IJ"
      },
      "source": [
        "def basic_algorithm(board, dimension):\n",
        "  mines = set([])\n",
        "  explored_set = set([])\n",
        "  #(coords,mine/safe,clue#)\n",
        "  #implement while loop here for each pair in board that isn't in explored space\n",
        "  # -- not sure about where to put the random point check? maybe at the end after initializing it? --\n",
        "  x = random.randint(0, dimension)\n",
        "  y = random.randint(0, dimension)\n",
        "  coord = (x,y)\n",
        "  if board[coord[0]][coord[1]] == 1:\n",
        "    mines.add(coord)\n",
        "    explored_set.add(coord)\n",
        "    #break\n",
        "  \n",
        "  if board[coord[0]][coord[1]] == 0:\n",
        "    explored_set.add(coord)\n",
        "    clue_num = clue((x,y), board, dimension)\n",
        "    #safe = safe_squares((x,y), board, dimension)\n",
        "    neighbor_set = neighbors((x,y), board, dimension)\n",
        "    mine_count = 0\n",
        "    hidden = 0\n",
        "    hidden_set = set([])\n",
        "    for i in neighbor_set:\n",
        "      if i is in mines:\n",
        "        mine_count += 1\n",
        "      if i is in explored_set:\n",
        "        hidden += 1\n",
        "        hidden_set.add(i)\n",
        "\n",
        "    #first condition\n",
        "    if clue_num - mine_count == hidden:\n",
        "      for j in hidden_set:\n",
        "        mines.add(j)\n",
        "        explored_set.add(j)\n",
        "\n",
        "    #second condition (i dont understand) \n",
        "    #if len(neighbor_set) - clue_num -  == \n",
        "\n",
        "    #third condition\n"
      ],
      "execution_count": 5,
      "outputs": []
    }
  ]
}