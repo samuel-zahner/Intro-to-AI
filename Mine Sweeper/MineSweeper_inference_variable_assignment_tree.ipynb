{
 "cells": [
  {
   "cell_type": "code",
   "execution_count": 2,
   "metadata": {
    "executionInfo": {
     "elapsed": 283,
     "status": "ok",
     "timestamp": 1615316161862,
     "user": {
      "displayName": "SAMUEL ZAHNER",
      "photoUrl": "",
      "userId": "02383104914863055151"
     },
     "user_tz": 300
    },
    "id": "rfBKw3l05m0u"
   },
   "outputs": [],
   "source": [
    "import numpy as np\n",
    "import numpy.random as rand"
   ]
  },
  {
   "cell_type": "code",
   "execution_count": 108,
   "metadata": {
    "colab": {
     "base_uri": "https://localhost:8080/"
    },
    "executionInfo": {
     "elapsed": 4964,
     "status": "ok",
     "timestamp": 1615319329259,
     "user": {
      "displayName": "SAMUEL ZAHNER",
      "photoUrl": "",
      "userId": "02383104914863055151"
     },
     "user_tz": 300
    },
    "id": "VI0Qj-Zy4Nsy",
    "outputId": "9f258037-353f-41da-a4dc-4fcd1d7e69a8"
   },
   "outputs": [
    {
     "name": "stdout",
     "output_type": "stream",
     "text": [
      "Enter dimension of board: 20\n",
      "Enter number of mines: 40\n"
     ]
    }
   ],
   "source": [
    "#create environment\n",
    "#take input from user\n",
    "while True:\n",
    "  try:\n",
    "    dimension = int(input(\"Enter dimension of board: \"))\n",
    "    break\n",
    "  except ValueError:\n",
    "    print(\"Must be an integer\")\n",
    "\n",
    "while True: \n",
    "  try:\n",
    "    num_mines = int(input(\"Enter number of mines: \"))\n",
    "    if num_mines > dimension**2:\n",
    "      raise ValueError\n",
    "    break\n",
    "  except ValueError:\n",
    "    print(\"Must be an integer and less than dimension^2\")\n",
    "\n"
   ]
  },
  {
   "cell_type": "code",
   "execution_count": 109,
   "metadata": {
    "colab": {
     "base_uri": "https://localhost:8080/"
    },
    "executionInfo": {
     "elapsed": 251,
     "status": "ok",
     "timestamp": 1615320445821,
     "user": {
      "displayName": "SAMUEL ZAHNER",
      "photoUrl": "",
      "userId": "02383104914863055151"
     },
     "user_tz": 300
    },
    "id": "41CJUr1o50qI",
    "outputId": "e8e46bef-8140-4a7b-f67b-51cbe9b44da7"
   },
   "outputs": [
    {
     "name": "stdout",
     "output_type": "stream",
     "text": [
      "[[0. 0. 0. 0. 1. 0. 0. 0. 0. 0. 0. 0. 0. 0. 0. 1. 0. 0. 0. 0.]\n",
      " [0. 0. 0. 0. 0. 0. 0. 0. 0. 0. 0. 0. 0. 0. 1. 0. 0. 0. 1. 0.]\n",
      " [1. 0. 0. 0. 0. 0. 0. 0. 0. 0. 0. 0. 0. 0. 0. 0. 1. 0. 0. 1.]\n",
      " [0. 0. 0. 0. 0. 0. 0. 0. 0. 0. 1. 0. 0. 0. 1. 0. 0. 0. 0. 0.]\n",
      " [1. 0. 0. 0. 0. 0. 0. 0. 0. 0. 0. 0. 0. 1. 0. 0. 0. 0. 0. 0.]\n",
      " [0. 0. 0. 0. 0. 0. 0. 0. 0. 0. 0. 0. 1. 0. 0. 0. 0. 0. 0. 0.]\n",
      " [0. 0. 0. 0. 0. 0. 0. 0. 0. 0. 0. 0. 0. 0. 0. 0. 0. 0. 0. 0.]\n",
      " [0. 0. 0. 0. 0. 0. 0. 0. 0. 0. 0. 1. 0. 0. 0. 0. 0. 0. 0. 0.]\n",
      " [0. 0. 0. 0. 1. 1. 0. 0. 0. 0. 0. 0. 0. 0. 0. 1. 0. 0. 0. 0.]\n",
      " [0. 1. 0. 0. 1. 1. 0. 0. 0. 0. 0. 1. 0. 1. 0. 0. 0. 1. 0. 1.]\n",
      " [0. 0. 0. 0. 0. 0. 1. 0. 0. 1. 0. 0. 0. 0. 0. 0. 0. 0. 0. 0.]\n",
      " [0. 0. 0. 0. 0. 1. 0. 0. 0. 0. 0. 0. 1. 0. 0. 0. 0. 0. 0. 0.]\n",
      " [0. 0. 0. 0. 0. 0. 0. 0. 0. 0. 0. 0. 0. 0. 0. 0. 1. 0. 0. 0.]\n",
      " [0. 0. 0. 0. 0. 0. 0. 0. 0. 0. 0. 0. 0. 0. 0. 0. 0. 0. 0. 0.]\n",
      " [0. 0. 0. 0. 0. 0. 0. 0. 0. 1. 0. 0. 0. 0. 0. 0. 0. 0. 0. 0.]\n",
      " [0. 0. 0. 0. 1. 0. 0. 0. 0. 0. 0. 0. 0. 0. 0. 0. 0. 0. 0. 0.]\n",
      " [1. 0. 0. 0. 0. 0. 0. 1. 0. 0. 0. 0. 0. 0. 0. 0. 0. 0. 0. 0.]\n",
      " [0. 1. 0. 1. 0. 0. 0. 1. 0. 0. 0. 0. 0. 0. 0. 0. 1. 0. 0. 1.]\n",
      " [0. 0. 0. 0. 0. 0. 0. 0. 0. 0. 0. 0. 0. 0. 0. 0. 0. 0. 0. 0.]\n",
      " [0. 0. 0. 0. 0. 0. 0. 1. 0. 0. 0. 0. 1. 0. 0. 1. 0. 0. 0. 0.]]\n"
     ]
    }
   ],
   "source": [
    "#initialize board\n",
    "board = np.zeros((dimension, dimension))\n",
    "\n",
    "remaining_spaces = set([])\n",
    "for i in range(dimension):\n",
    "  for j in range(dimension):\n",
    "    remaining_spaces.add((i,j))\n",
    "\n",
    "#initialize mines\n",
    "counter = 0\n",
    "mines_set = set([])\n",
    "while counter < num_mines:\n",
    "  x = rand.randint(0, dimension)\n",
    "  y = rand.randint(0, dimension)\n",
    "  if x == 0 and y == 0:\n",
    "    continue\n",
    "  if (x,y) in mines_set:\n",
    "    continue\n",
    "  else:\n",
    "    mines_set.add((x,y))\n",
    "    board[x][y] = 1\n",
    "    counter += 1\n",
    "\n",
    "\n",
    "print(board)"
   ]
  },
  {
   "cell_type": "code",
   "execution_count": 92,
   "metadata": {
    "executionInfo": {
     "elapsed": 285,
     "status": "ok",
     "timestamp": 1615316174247,
     "user": {
      "displayName": "SAMUEL ZAHNER",
      "photoUrl": "",
      "userId": "02383104914863055151"
     },
     "user_tz": 300
    },
    "id": "D9GrSTuj7q2j"
   },
   "outputs": [],
   "source": [
    "#clue that our agent will receive\n",
    "#returns the total sum of the neighbors of current_position\n",
    "def clue(current_position, board,  dimension):\n",
    "  x = current_position[0]\n",
    "  y = current_position[1]\n",
    "  sum = 0\n",
    "  \n",
    "  if x+1 < dimension:\n",
    "    sum += board[x+1][y]\n",
    "    if y+1 < dimension:\n",
    "      sum += board[x+1][y+1]\n",
    "    if y-1 >= 0:\n",
    "      sum += board[x+1][y-1]\n",
    "\n",
    "  if x-1 >= 0:\n",
    "    sum += board[x-1][y]\n",
    "    if y+1 < dimension:\n",
    "      sum += board[x-1][y+1]\n",
    "    if y-1 >= 0:\n",
    "      sum += board[x-1][y-1]\n",
    "\n",
    "  if y+1 < dimension:\n",
    "    sum += board[x][y+1]\n",
    "  \n",
    "  if y-1 >= 0:\n",
    "    sum += board[x][y-1]\n",
    "\n",
    "  return sum\n",
    "  "
   ]
  },
  {
   "cell_type": "code",
   "execution_count": 110,
   "metadata": {
    "colab": {
     "base_uri": "https://localhost:8080/"
    },
    "executionInfo": {
     "elapsed": 8581,
     "status": "ok",
     "timestamp": 1615320458855,
     "user": {
      "displayName": "SAMUEL ZAHNER",
      "photoUrl": "",
      "userId": "02383104914863055151"
     },
     "user_tz": 300
    },
    "id": "tJBiEXXbzo1J",
    "outputId": "a7c4091c-ae5f-4ee0-8171-d21a2935e5ab"
   },
   "outputs": [
    {
     "name": "stdout",
     "output_type": "stream",
     "text": [
      "Found mine\n",
      "Found mine\n",
      "Found mine\n",
      "Found mine\n",
      "Found mine\n",
      "Found mine\n",
      "Found mine\n",
      "Found mine\n",
      "Found mine\n",
      "Found mine\n",
      "Found mine\n",
      "Found mine\n",
      "Found mine\n",
      "Found mine\n",
      "Found mine\n",
      "Found mine\n",
      "Found mine\n",
      "Found mine\n",
      "Found mine\n",
      "Found mine\n",
      "Found mine\n",
      "Found mine\n",
      "Found mine\n",
      "Found mine\n",
      "Found mine\n",
      "Found mine\n",
      "Found mine\n",
      "Found mine\n",
      "Found mine\n",
      "Found mine\n",
      "Found mine\n",
      "Found mine\n",
      "Found mine\n",
      "Found mine\n",
      "Found mine\n",
      "Found mine\n",
      "random death\n",
      "Found mine\n",
      "Found mine\n",
      "Found mine\n",
      "death_counter: 1\n",
      "mine_counter: 39\n",
      "[[0. 0. 0. 0. 1. 0. 0. 0. 0. 0. 0. 0. 0. 0. 0. 1. 0. 0. 0. 0.]\n",
      " [0. 0. 0. 0. 0. 0. 0. 0. 0. 0. 0. 0. 0. 0. 1. 0. 0. 0. 1. 0.]\n",
      " [1. 0. 0. 0. 0. 0. 0. 0. 0. 0. 0. 0. 0. 0. 0. 0. 1. 0. 0. 1.]\n",
      " [0. 0. 0. 0. 0. 0. 0. 0. 0. 0. 1. 0. 0. 0. 1. 0. 0. 0. 0. 0.]\n",
      " [1. 0. 0. 0. 0. 0. 0. 0. 0. 0. 0. 0. 0. 1. 0. 0. 0. 0. 0. 0.]\n",
      " [0. 0. 0. 0. 0. 0. 0. 0. 0. 0. 0. 0. 1. 0. 0. 0. 0. 0. 0. 0.]\n",
      " [0. 0. 0. 0. 0. 0. 0. 0. 0. 0. 0. 0. 0. 0. 0. 0. 0. 0. 0. 0.]\n",
      " [0. 0. 0. 0. 0. 0. 0. 0. 0. 0. 0. 1. 0. 0. 0. 0. 0. 0. 0. 0.]\n",
      " [0. 0. 0. 0. 1. 1. 0. 0. 0. 0. 0. 0. 0. 0. 0. 1. 0. 0. 0. 0.]\n",
      " [0. 1. 0. 0. 1. 1. 0. 0. 0. 0. 0. 1. 0. 1. 0. 0. 0. 1. 0. 1.]\n",
      " [0. 0. 0. 0. 0. 0. 1. 0. 0. 1. 0. 0. 0. 0. 0. 0. 0. 0. 0. 0.]\n",
      " [0. 0. 0. 0. 0. 1. 0. 0. 0. 0. 0. 0. 1. 0. 0. 0. 0. 0. 0. 0.]\n",
      " [0. 0. 0. 0. 0. 0. 0. 0. 0. 0. 0. 0. 0. 0. 0. 0. 1. 0. 0. 0.]\n",
      " [0. 0. 0. 0. 0. 0. 0. 0. 0. 0. 0. 0. 0. 0. 0. 0. 0. 0. 0. 0.]\n",
      " [0. 0. 0. 0. 0. 0. 0. 0. 0. 1. 0. 0. 0. 0. 0. 0. 0. 0. 0. 0.]\n",
      " [0. 0. 0. 0. 1. 0. 0. 0. 0. 0. 0. 0. 0. 0. 0. 0. 0. 0. 0. 0.]\n",
      " [1. 0. 0. 0. 0. 0. 0. 1. 0. 0. 0. 0. 0. 0. 0. 0. 0. 0. 0. 0.]\n",
      " [0. 1. 0. 1. 0. 0. 0. 1. 0. 0. 0. 0. 0. 0. 0. 0. 1. 0. 0. 1.]\n",
      " [0. 0. 0. 0. 0. 0. 0. 0. 0. 0. 0. 0. 0. 0. 0. 0. 0. 0. 0. 0.]\n",
      " [0. 0. 0. 0. 0. 0. 0. 1. 0. 0. 0. 0. 1. 0. 0. 1. 0. 0. 0. 0.]]\n"
     ]
    }
   ],
   "source": [
    "start = (0,0)\n",
    "board_perception = np.zeros((dimension, dimension)) #-1: unknown, 0: clear, 1: mine\n",
    "#clue_perception = np.zeros((dimension, dimension))\n",
    "for i in range(dimension):\n",
    "  for j in range(dimension):\n",
    "    board_perception[i][j] = -1\n",
    "    #clue_perception[i][j] = -1\n",
    "\n",
    "knowledge_base = [] #(0,0): location, 0: value(0 or 1)\n",
    "board_perception[start[0]][start[1]] = 0 #(known value)\n",
    "#clue_perception[start[0]][start[1]] = clue(start, board, dimension)\n",
    "death_counter = 0\n",
    "mine_counter = 0\n",
    "\n",
    "get_neighbors = []\n",
    "for i in range(-1,2):\n",
    "  for j in range(-1,2):\n",
    "    if i==0 and j==0:\n",
    "      continue\n",
    "    get_neighbors.append((i,j))\n",
    "\n",
    "\n",
    "fringe = []\n",
    "fringe.append(start)\n",
    "variable_dict = {}\n",
    "variable_dict[start] = 0\n",
    "\n",
    "while(-1 in board_perception):\n",
    "  #update current position\n",
    "  #print(\"knowledge base: \")\n",
    "  #print(knowledge_base)\n",
    "  #print(\"var_dict: \")\n",
    "  #print(variable_dict)\n",
    "  if len(fringe) > 0:\n",
    "    current_position = fringe.pop(0)\n",
    "    remaining_spaces.remove(current_position)\n",
    "  elif len(remaining_spaces) > 0:\n",
    "    current_position = remaining_spaces.pop()\n",
    "  else: \n",
    "    break\n",
    "  #print(\"current position: \" + str(current_position))\n",
    "  #check if mine \n",
    "  if current_position in mines_set:\n",
    "    death_counter += 1\n",
    "    variable_dict[current_position] = 1\n",
    "    print(\"random death\")\n",
    "    #knowledge_base.append((current_position[0], current_position[1], -1))\n",
    "    board_perception[current_position[0]][current_position[1]] = 1\n",
    "\n",
    "  else:\n",
    "    knowledge_base.append((current_position[0], current_position[1], clue(current_position, board, dimension)))\n",
    "    variable_dict[current_position] = 0\n",
    "    board_perception[current_position[0]][current_position[1]] = 0\n",
    "\n",
    " #loop through neighbors\n",
    "  neighbors = get_valid_neighbors(current_position, remaining_spaces)\n",
    "  #print(\"neighbors: \" + str(neighbors))\n",
    "  for i in neighbors: \n",
    "    if i in variable_dict:\n",
    "        continue\n",
    "    #query if neighbor is clear/mine\n",
    "    query_mine = (i[0], i[1], 1)\n",
    "    query_clear = (i[0], i[1], 0)\n",
    "\n",
    "    #if mine, update board_perception, knowledge_base, and remaining_spaces\n",
    "    if make_inference(knowledge_base, board_perception, clue(current_position, board, dimension), variable_dict, query_mine):\n",
    "      board_perception[i[0]][i[1]] = 1\n",
    "      #knowledge_base.append((i[0], i[1], -1))\n",
    "      variable_dict[i] = 1\n",
    "      print(\"Found mine\")\n",
    "      mine_counter += 1\n",
    "      if i in remaining_spaces:\n",
    "        remaining_spaces.remove(i)\n",
    "    #if clear, update board_perception, knowledge_base, remaining_spaces, and add to fringe to be explored\n",
    "    elif make_inference(knowledge_base, board_perception, clue(current_position, board, dimension), variable_dict, query_clear):\n",
    "      #print(\"inferred clear: \")\n",
    "      #print(i)\n",
    "      variable_dict[i] = 0\n",
    "      board_perception[i[0]][i[1]] = 0\n",
    "      if i not in fringe:\n",
    "        fringe.append(i)\n",
    "    #print(variable_dict)\n",
    "  #loop through neighbors of current_position asserting if they are 0(clear) and 1(mine)\n",
    "  #compare each assertion to current knowledge_base, use proof by contradiction to determine if true\n",
    "  #update knowledge base\n",
    "  #move current_position, check if mine, update board_perception, compute new clue\n",
    "  #continue loop\n",
    "print(\"death_counter: \" + str(death_counter))\n",
    "print(\"mine_found_counter: \" + str(mine_counter))\n",
    "print(board_perception)\n",
    "#Test Case: \n",
    "#query = (1, 0, 1)\n",
    "#True = there was a contradiction found\n",
    "#False = no contradiction\n",
    "#make_inference(knowledge_base, board_perception, query)"
   ]
  },
  {
   "cell_type": "code",
   "execution_count": 8,
   "metadata": {
    "executionInfo": {
     "elapsed": 338,
     "status": "ok",
     "timestamp": 1615318338678,
     "user": {
      "displayName": "SAMUEL ZAHNER",
      "photoUrl": "",
      "userId": "02383104914863055151"
     },
     "user_tz": 300
    },
    "id": "HNWwbuVRKmwn"
   },
   "outputs": [],
   "source": [
    "def get_valid_neighbors(current_node, remaining_spaces):\n",
    "  x, y = current_node\n",
    "  neighbors = set([])\n",
    "  for i in get_neighbors:\n",
    "    neighbor_x = x + i[0]\n",
    "    neighbor_y = y + i[1]\n",
    "\n",
    "    if neighbor_x >= dimension or neighbor_x < 0:\n",
    "      continue\n",
    "    elif neighbor_y >= dimension or neighbor_y < 0:\n",
    "      continue\n",
    "    elif (neighbor_x, neighbor_y) in remaining_spaces:\n",
    "      neighbors.add((neighbor_x, neighbor_y))\n",
    "  return neighbors"
   ]
  },
  {
   "cell_type": "code",
   "execution_count": 29,
   "metadata": {
    "executionInfo": {
     "elapsed": 294,
     "status": "ok",
     "timestamp": 1615317134379,
     "user": {
      "displayName": "SAMUEL ZAHNER",
      "photoUrl": "",
      "userId": "02383104914863055151"
     },
     "user_tz": 300
    },
    "id": "fE16b5mp7HbN"
   },
   "outputs": [],
   "source": [
    "#evaluate an assertion in knowledge_base \n",
    "#variables contains new assertion\n",
    "def evaluate_assertion(assertion, variables, dimension):\n",
    "  x,y,v = assertion #(x,y) -> location, v -> value of cell( 0 or 1)\n",
    "  #print(\"assertion: \" + str(assertion))\n",
    "  #print(variables)\n",
    "  sum = 0\n",
    "  for i in get_neighbors:\n",
    "    #print(\"sum: \" + str(sum))\n",
    "    neighbor_x = x + i[0]\n",
    "    neighbor_y = y + i[1]\n",
    "    if neighbor_x >= dimension or neighbor_x < 0:\n",
    "      continue\n",
    "    elif neighbor_y >= dimension or neighbor_y < 0:\n",
    "      continue\n",
    "    #add values of known cells\n",
    "    value = board_perception[neighbor_x][neighbor_y]\n",
    "    if value != -1:\n",
    "      sum += value\n",
    "    #if neighbor is in variables dictionary, add its value\n",
    "    elif (neighbor_x, neighbor_y) in variables:\n",
    "      sum += variables[(neighbor_x, neighbor_y)]\n",
    "    #cannot compute sum of unkown vales so return truw\n",
    "    else:\n",
    "      #print(\"hidden\")\n",
    "      return True\n",
    "  return sum == v\n",
    "\n"
   ]
  },
  {
   "cell_type": "code",
   "execution_count": 55,
   "metadata": {
    "executionInfo": {
     "elapsed": 282,
     "status": "ok",
     "timestamp": 1615319718816,
     "user": {
      "displayName": "SAMUEL ZAHNER",
      "photoUrl": "",
      "userId": "02383104914863055151"
     },
     "user_tz": 300
    },
    "id": "VsRP7XEbDldR"
   },
   "outputs": [],
   "source": [
    "#will query all neighbors of current position and call evaluate_assertion for each assertion in knowledge_base\n",
    "def make_inference(knowledge_base, board_perception, value, variable_dict, query):\n",
    "  qx, qy, qv = query\n",
    "  #print(\"query: \" + str(query))\n",
    "  if value == 0 and qv == 0:\n",
    "    return True\n",
    "\n",
    "  variable_list = []\n",
    "  for i in get_neighbors:\n",
    "    neighbor_x = x + i[0]\n",
    "    neighbor_y = y + i[1]\n",
    "      \n",
    "\n",
    "    if neighbor_x >= dimension or neighbor_x < 0:\n",
    "      continue\n",
    "    elif neighbor_y >= dimension or neighbor_y < 0:\n",
    "      continue\n",
    "    value = board_perception[i[0]][i[1]]\n",
    "    if value == -1:\n",
    "        variable_list.append((neighbor_x, neighbor_y))\n",
    "    \n",
    "     \n",
    "  if (qx,qy) not in variable_dict:\n",
    "    variable_dict[(qx,qy)] = 1-qv\n",
    "  #constraint satisfaction problem -> loop through all possible assignments and find one solution\n",
    "  #since all possible solutions are 0 or 1, use binary\n",
    "  satisfiable = False\n",
    "  flag = True\n",
    "  #print(\"Length of variable_list: \" + str(len(variable_list)))\n",
    "  for var in range(2**(len(variable_list))):\n",
    "    #print(\"var: \" + str(var))\n",
    "    var_binary = format(var, '#0%db' % (len(variable_list) + 2))\n",
    "    #print(\"var_binary: \" + str(var_binary))\n",
    "    temp_dict = {}\n",
    "    for i in range(2, len(var_binary)):\n",
    "      if len(variable_list) == 0:\n",
    "        break\n",
    "      #print(\"Inner for loop i: \" + str(i))\n",
    "      temp_dict[variable_list[i-2]] = int(var_binary[i])\n",
    "      #q -> not q\n",
    "      #if variable_list[i-2] == (qx,qy):\n",
    "        #temp_dict[variable_list[i-2]] = 1-qv\n",
    "\n",
    "    assertion_dict = {}\n",
    "    assertion_dict = dict(list(variable_dict.items()) + list(temp_dict.items()))\n",
    "    #print(variable_dict)\n",
    "    #print(temp_dict)\n",
    "    #print(assertion_dict)\n",
    "    for assertion in knowledge_base:\n",
    "      #check each assertion in knowledge base with our contradicted query\n",
    "      truth_val = evaluate_assertion(assertion, assertion_dict, dimension)\n",
    "      if not truth_val:\n",
    "        flag = False\n",
    "        break\n",
    "    assertion_dict.clear()\n",
    "    if flag:\n",
    "      satisfiable = True\n",
    "      variable_dict.pop((qx,qy))\n",
    "      break\n",
    "  #return satisfiability of knowledge base\n",
    "  #print(\"satisfiable: \" + str(satisfiable))\n",
    "  return not satisfiable\n",
    "      \n",
    "\n",
    "\n",
    "  "
   ]
  },
  {
   "cell_type": "code",
   "execution_count": null,
   "metadata": {},
   "outputs": [],
   "source": []
  }
 ],
 "metadata": {
  "colab": {
   "authorship_tag": "ABX9TyN+Cx4TnVxWNxzOUznHea2e",
   "name": "MineSweeper_inference.ipynb",
   "provenance": []
  },
  "kernelspec": {
   "display_name": "Python 3",
   "language": "python",
   "name": "python3"
  },
  "language_info": {
   "codemirror_mode": {
    "name": "ipython",
    "version": 3
   },
   "file_extension": ".py",
   "mimetype": "text/x-python",
   "name": "python",
   "nbconvert_exporter": "python",
   "pygments_lexer": "ipython3",
   "version": "3.8.3"
  }
 },
 "nbformat": 4,
 "nbformat_minor": 1
}
