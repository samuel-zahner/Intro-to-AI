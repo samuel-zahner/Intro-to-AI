{
 "cells": [
  {
   "cell_type": "code",
   "execution_count": 1,
   "metadata": {},
   "outputs": [],
   "source": [
    "#%matplotlib inlin\n",
    "import matplotlib.pyplot as plt\n",
    "import matplotlib.animation as animation\n",
    "from IPython.display import HTML\n",
    "import numpy as np\n",
    "import random\n"
   ]
  },
  {
   "cell_type": "code",
   "execution_count": 2,
   "metadata": {},
   "outputs": [],
   "source": [
    "#** code for plotting **\n",
    "\n",
    "step_size = 10\n",
    "start_color = np.array([0,0,255]) #blue\n",
    "goal_color = np.array([0,255,0]) #green\n",
    "fire_color = np.array([0,0,0])#black\n",
    "neighbor_color = np.array([220,220,220])#gray\n",
    "fringe_color = np.array([128,128,128])#yellow\n",
    "explored_color = np.array([255,0,0])#red\n",
    "node_color = np.array([255,165,0])#orange\n",
    "\n",
    "def plot_fire(fire_set, dim):\n",
    "    fig = plt.figure()\n",
    "\n",
    "    prob_map = np.zeros((step_size*dim,step_size*dim,3)).astype(int) + 255\n",
    "    # add grid\n",
    "    prob_map[step_size-1::step_size,:,:] = 0\n",
    "    prob_map[:,step_size-1::step_size,:] = 0\n",
    "\n",
    "\n",
    "    prob_map[0:step_size-1,:step_size-1] = start_color\n",
    "    prob_map[step_size*(dim-1):step_size*(dim-1)+step_size-1,step_size*(dim-1):step_size*(dim-1)+step_size-1] = goal_color\n",
    "    plt.xticks([], [])\n",
    "    plt.yticks([], [])\n",
    "    \n",
    "    for i in range(dim):\n",
    "        for j in range(dim):\n",
    "            if (i,j) in fire_set:\n",
    "                prob_map[step_size*i:step_size*i + step_size-1, step_size*j:step_size*j + step_size-1] = fire_color\n",
    "    plt.imshow(prob_map)\n",
    "    \n",
    "def node_plot(prob_map, node, color, alpha=1.0):\n",
    "    prob_map[node[0]*step_size:node[0]*step_size+step_size-1,node[1]*step_size:node[1]*step_size+step_size-1] = color*alpha\n",
    "    \n",
    "    \n",
    "def path_plot(path, dim, fire_set):\n",
    "    # plot given the info as listed \n",
    "    #fig = plt.figure()\n",
    "    prob_map = np.zeros((step_size*dim,step_size*dim,3)).astype(int) + 255\n",
    "    # add grid\n",
    "    prob_map[step_size-1::step_size,:,:] = 0\n",
    "    prob_map[:,step_size-1::step_size,:] = 0\n",
    "    \n",
    "    for i in range(dim):\n",
    "        for j in range(dim):\n",
    "            if (i,j) in fire_set:\n",
    "                prob_map[step_size*i:step_size*i + step_size-1, step_size*j:step_size*j + step_size-1] = fire_color\n",
    "\n",
    "    for i in range(len(path)):\n",
    "        node = path[i]\n",
    "        node_plot(prob_map, node, node_color, alpha=i/len(path)+1.0)\n",
    "\n",
    "    prob_map[0:step_size-1,:step_size-1] = start_color\n",
    "    prob_map[step_size*(dim-1):step_size*(dim-1)+step_size-1,step_size*(dim-1):step_size*(dim-1)+step_size-1] = goal_color\n",
    "\n",
    "\n",
    "    plt.xticks([], [])\n",
    "    plt.yticks([], [])\n",
    "\n",
    "    img = plt.imshow(prob_map)\n",
    "    return img"
   ]
  },
  {
   "cell_type": "code",
   "execution_count": 3,
   "metadata": {},
   "outputs": [],
   "source": [
    "def dfs_search(dim, fire_set):\n",
    "    transitions = [(0,-1),(-1,0),(0,1),(1,0)]\n",
    "    start = (0,0)\n",
    "    goal = (dim-1, dim-1)\n",
    "    explored_spaces = set([])\n",
    "    fringe = [(start, [])]\n",
    "    #imgs = []\n",
    "    #fig = plt.figure()\n",
    "    win_flag = False\n",
    "\n",
    "    #parent_map = [[(0,0) for i in range(dim)] for i in range(dim)]\n",
    "    #parent_fringe = [(-1,-1)]\n",
    "\n",
    "    while len(fringe) > 0:\n",
    "        node, path = fringe.pop(-1)\n",
    "    \n",
    "        if node in explored_spaces:\n",
    "            continue\n",
    "        if node in fire_set:\n",
    "            continue\n",
    "        \n",
    "        path.append(node)\n",
    "    \n",
    "        if node[0] == goal[0] and node[1] == goal[1]:\n",
    "            print(\"You have found the goal\")\n",
    "            win_flag = True\n",
    "            break\n",
    "        \n",
    "    \n",
    "        for i in range(len(transitions)):\n",
    "            dy, dx = transitions[i]\n",
    "        \n",
    "            x = node[0] + dx\n",
    "            y = node[1] + dy\n",
    "        \n",
    "            if x < 0 or y < 0 or x > dim-1 or y > dim-1:\n",
    "                continue\n",
    "            if (x,y) in explored_spaces:\n",
    "                continue\n",
    "            if (x,y) in fire_set:\n",
    "                continue\n",
    "            if (x,y) not in fringe:\n",
    "                fringe.append(((x,y), path[:]))\n",
    "    \n",
    "        explored_spaces.add(node)\n",
    "        \n",
    "    if win_flag == False:\n",
    "        print(\"There is no path from start to goal\")\n",
    "        return\n",
    "    \n",
    "    \n",
    "    print(\"Path length: \" + str(len(path)-1))\n",
    "    path_plot(path, dim, fire_set)\n",
    "    return True"
   ]
  },
  {
   "cell_type": "code",
   "execution_count": 4,
   "metadata": {},
   "outputs": [],
   "source": [
    "def bfs_search(dim, fire_matrix):\n",
    "    transitions = [(0,-1),(-1,0),(0,1),(1,0)]\n",
    "    start = (0,0)\n",
    "    goal = (dim-1, dim-1)\n",
    "    explored_spaces = set([])\n",
    "    fringe = [(start, [])]\n",
    "    win_flag = False\n",
    "\n",
    "\n",
    "    while len(fringe) > 0:\n",
    "        node, shortest_path = fringe.pop(0)\n",
    "        \n",
    "    \n",
    "        if node in explored_spaces:\n",
    "            continue\n",
    "        if node in fire_set:\n",
    "            continue\n",
    "            \n",
    "        shortest_path.append(node)\n",
    "    \n",
    "        if node[0] == goal[0] and node[1] == goal[1]:\n",
    "            print(\"You have found the goal\")\n",
    "            win_flag = True\n",
    "            break\n",
    "\n",
    "    \n",
    "        for i in range(len(transitions)):\n",
    "            dy, dx = transitions[i]\n",
    "        \n",
    "            x = node[0] + dx\n",
    "            y = node[1] + dy\n",
    "        \n",
    "            if x < 0 or y < 0 or x > dim-1 or y > dim-1:\n",
    "                continue\n",
    "            if (x,y) in explored_spaces:\n",
    "                continue\n",
    "            if (x,y) in fire_set:\n",
    "                continue\n",
    "            if (x,y) not in fringe:\n",
    "                fringe.append(((x,y), shortest_path[:]))\n",
    "       \n",
    "    \n",
    "        explored_spaces.add(node)\n",
    "        \n",
    "    if win_flag == False:\n",
    "        print(\"There is no path from start to goal\")\n",
    "        return False\n",
    "    \n",
    "    \n",
    "    print(\"Shortest path: \" + str(len(shortest_path)-1))\n",
    "    path_plot(shortest_path, dim, fire_set)\n",
    "    return True"
   ]
  },
  {
   "cell_type": "code",
   "execution_count": 5,
   "metadata": {},
   "outputs": [
    {
     "name": "stdout",
     "output_type": "stream",
     "text": [
      "Enter dimension of maze: w\n",
      "Invalid integer. Dimension must be at least 3.\n",
      "Enter dimension of maze: 10\n",
      "Enter probability of fire: 11\n",
      "Invalid integer. Probability must be in the range (0,1).\n",
      "Enter probability of fire: 0.2\n",
      "10\n",
      "0.2\n"
     ]
    },
    {
     "data": {
      "image/png": "[encoded data removed]",
      "text/plain": [
       "<Figure size 432x288 with 1 Axes>"
      ]
     },
     "metadata": {},
     "output_type": "display_data"
    }
   ],
   "source": [
    "#take input from user\n",
    "while True:\n",
    "    try:\n",
    "        dim = int(input(\"Enter dimension of maze: \"))\n",
    "        if dim < 3:\n",
    "            raise ValueError #this will send it to the print message and back to the input option\n",
    "        break\n",
    "    except ValueError:\n",
    "        print(\"Invalid integer. Dimension must be at least 3.\")\n",
    "\n",
    "while True:\n",
    "    try:\n",
    "        p = float(input(\"Enter probability of fire: \"))\n",
    "        if 9 < 0 or p > 1:\n",
    "            raise ValueError #this will send it to the print message and back to the input option\n",
    "        break\n",
    "    except ValueError:\n",
    "        print(\"Invalid integer. Probability must be in the range (0,1).\")\n",
    "\n",
    "\n",
    "\n",
    "#print(dim)\n",
    "#print(p)\n",
    "\n",
    "fire_set = set([])\n",
    "for i in range(dim):\n",
    "    for j in range(dim):\n",
    "        if i == 0 and j == 0 or i == dim-1 and j == dim-1:\n",
    "            continue\n",
    "        if random.uniform(0,1) < p:\n",
    "            fire_set.add((i,j))\n",
    "#print(fire_set)            \n",
    "plot_fire(fire_set, dim)\n",
    "\n"
   ]
  },
  {
   "cell_type": "code",
   "execution_count": 6,
   "metadata": {},
   "outputs": [
    {
     "name": "stderr",
     "output_type": "stream",
     "text": [
      "Clipping input data to the valid range for imshow with RGB data ([0..1] for floats or [0..255] for integers).\n"
     ]
    },
    {
     "name": "stdout",
     "output_type": "stream",
     "text": [
      "You have found the goal\n",
      "Path length: 22\n"
     ]
    },
    {
     "data": {
      "text/plain": [
       "True"
      ]
     },
     "execution_count": 6,
     "metadata": {},
     "output_type": "execute_result"
    },
    {
     "data": {
      "image/png": "[encoded data removed]",
      "text/plain": [
       "<Figure size 432x288 with 1 Axes>"
      ]
     },
     "metadata": {},
     "output_type": "display_data"
    }
   ],
   "source": [
    "#DFS\n",
    "dfs_search(dim, fire_set)"
   ]
  },
  {
   "cell_type": "code",
   "execution_count": 7,
   "metadata": {},
   "outputs": [
    {
     "name": "stderr",
     "output_type": "stream",
     "text": [
      "Clipping input data to the valid range for imshow with RGB data ([0..1] for floats or [0..255] for integers).\n"
     ]
    },
    {
     "name": "stdout",
     "output_type": "stream",
     "text": [
      "You have found the goal\n",
      "Shortest path: 18\n"
     ]
    },
    {
     "data": {
      "text/plain": [
       "True"
      ]
     },
     "execution_count": 7,
     "metadata": {},
     "output_type": "execute_result"
    },
    {
     "data": {
      "image/png": "[encoded data removed]",
      "text/plain": [
       "<Figure size 432x288 with 1 Axes>"
      ]
     },
     "metadata": {},
     "output_type": "display_data"
    }
   ],
   "source": [
    "#BFS\n",
    "bfs_search(dim, fire_set)"
   ]
  }
 ],
 "metadata": {
  "kernelspec": {
   "display_name": "Python 3",
   "language": "python",
   "name": "python3"
  },
  "language_info": {
   "codemirror_mode": {
    "name": "ipython",
    "version": 3
   },
   "file_extension": ".py",
   "mimetype": "text/x-python",
   "name": "python",
   "nbconvert_exporter": "python",
   "pygments_lexer": "ipython3",
   "version": "3.8.3"
  }
 },
 "nbformat": 4,
 "nbformat_minor": 4
}
