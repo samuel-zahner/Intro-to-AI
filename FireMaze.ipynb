{
 "cells": [
  {
   "cell_type": "code",
   "execution_count": 22,
   "metadata": {},
   "outputs": [],
   "source": [
    "#%matplotlib inlin\n",
    "import matplotlib.pyplot as plt\n",
    "import matplotlib.animation as animation\n",
    "from IPython.display import HTML\n",
    "import numpy as np\n",
    "import random"
   ]
  },
  {
   "cell_type": "code",
   "execution_count": 23,
   "metadata": {},
   "outputs": [],
   "source": [
    "#** code for plotting **\n",
    "\n",
    "step_size = 10\n",
    "start_color = np.array([0,0,255]) #green\n",
    "goal_color = np.array([0,255,0]) #red\n",
    "fire_color = np.array([0,0,0])#black\n",
    "\n",
    "def plot_fire(fire_matrix, dim):\n",
    "    fig = plt.figure()\n",
    "\n",
    "    prob_map = np.zeros((step_size*dim,step_size*dim,3)).astype(int) + 255\n",
    "    # add grid\n",
    "    prob_map[step_size-1::step_size,:,:] = 0\n",
    "    prob_map[:,step_size-1::step_size,:] = 0\n",
    "\n",
    "\n",
    "    prob_map[0:step_size-1,:step_size-1] = start_color\n",
    "    prob_map[step_size*(dim-1):step_size*(dim-1)+step_size-1,step_size*(dim-1):step_size*(dim-1)+step_size-1] = goal_color\n",
    "    plt.xticks([], [])\n",
    "    plt.yticks([], [])\n",
    "    \n",
    "    for i in range(dim):\n",
    "        for j in range(dim):\n",
    "            if fire_matrix[i][j] == 1:\n",
    "                prob_map[step_size*i:step_size*i + step_size-1, step_size*j:step_size*j + step_size-1] = fire_color\n",
    "    plt.imshow(prob_map)"
   ]
  },
  {
   "cell_type": "code",
   "execution_count": 32,
   "metadata": {},
   "outputs": [
    {
     "name": "stdout",
     "output_type": "stream",
     "text": [
      "Enter dimension of maze: 10\n",
      "Enter probability of fire: 0.1\n",
      "10\n",
      "0.1\n"
     ]
    },
    {
     "data": {
      "image/png": "[encoded data removed]",
      "text/plain": [
       "<Figure size 432x288 with 1 Axes>"
      ]
     },
     "metadata": {},
     "output_type": "display_data"
    }
   ],
   "source": [
    "#take input from user\n",
    "dim = int(input(\"Enter dimension of maze: \"))\n",
    "p = float(input(\"Enter probability of fire: \"))\n",
    "\n",
    "print(dim)\n",
    "print(p)\n",
    "\n",
    "fire_matrix = [ [ 0 for i in range(dim) ] for j in range(dim) ] \n",
    "\n",
    "for i in range(dim):\n",
    "    for j in range(dim):\n",
    "        if i == 0 and j == 0 or i == dim-1 and j == dim-1:\n",
    "            continue\n",
    "        if random.uniform(0,1) < p:\n",
    "            fire_matrix[i][j] = 1\n",
    "            \n",
    "plot_fire(fire_matrix, dim)"
   ]
  },
  {
   "cell_type": "code",
   "execution_count": null,
   "metadata": {},
   "outputs": [],
   "source": [
    "#DFS search\n",
    "transitions = [(1,0),(-1,0),(0,1),(0,-1)]\n",
    "start = (0,0)\n",
    "goal = (dim-1, dim-1)\n",
    "explored_spaces = set([])\n",
    "fringe = [start]\n",
    "\n",
    "parent_map = [[(0,0) for i in range(dim)] for i in range(dim)]\n",
    "parent_fringe = [(-1,-1)]\n",
    "\n",
    "while len(fringe) > 0:\n",
    "    "
   ]
  }
 ],
 "metadata": {
  "kernelspec": {
   "display_name": "Python 3",
   "language": "python",
   "name": "python3"
  },
  "language_info": {
   "codemirror_mode": {
    "name": "ipython",
    "version": 3
   },
   "file_extension": ".py",
   "mimetype": "text/x-python",
   "name": "python",
   "nbconvert_exporter": "python",
   "pygments_lexer": "ipython3",
   "version": "3.8.3"
  }
 },
 "nbformat": 4,
 "nbformat_minor": 4
}
