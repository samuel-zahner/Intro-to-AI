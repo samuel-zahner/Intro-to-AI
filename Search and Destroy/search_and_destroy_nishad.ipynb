{
  "nbformat": 4,
  "nbformat_minor": 0,
  "metadata": {
    "kernelspec": {
      "display_name": "Python 3",
      "language": "python",
      "name": "python3"
    },
    "language_info": {
      "codemirror_mode": {
        "name": "ipython",
        "version": 3
      },
      "file_extension": ".py",
      "mimetype": "text/x-python",
      "name": "python",
      "nbconvert_exporter": "python",
      "pygments_lexer": "ipython3",
      "version": "3.8.3"
    },
    "colab": {
      "name": "search_and_destroy_nishad.ipynb",
      "provenance": []
    }
  },
  "cells": [
    {
      "cell_type": "markdown",
      "metadata": {
        "id": "FTSkWibV5HAZ"
      },
      "source": [
        "# Creating Environment"
      ]
    },
    {
      "cell_type": "code",
      "metadata": {
        "id": "AxJ7PceLlrTC"
      },
      "source": [
        "import numpy as np\n",
        "import numpy.random as rand"
      ],
      "execution_count": null,
      "outputs": []
    },
    {
      "cell_type": "code",
      "metadata": {
        "id": "xg09V9wulrTH"
      },
      "source": [
        "class Cell():\n",
        "    target = 0\n",
        "    cell_type = \"\"\n",
        "    prob_not_found = 0\n",
        "    def __init__(self, cell_type, prob_not_found):\n",
        "        self.cell_type = cell_type\n",
        "        self.prob_not_found = prob_not_found\n",
        "        "
      ],
      "execution_count": null,
      "outputs": []
    },
    {
      "cell_type": "code",
      "metadata": {
        "colab": {
          "base_uri": "https://localhost:8080/"
        },
        "id": "RR_Llj6WlrTI",
        "outputId": "13c76739-4f1e-4524-ab34-0bc5760565b2"
      },
      "source": [
        "#create environment\n",
        "#take input from user\n",
        "while True:\n",
        "  try:\n",
        "    dimension = int(input(\"Enter dimension of board: \"))\n",
        "    break\n",
        "  except ValueError:\n",
        "    print(\"Must be an integer\")\n",
        "    \n",
        "mat = [[] for i in range(dimension)] # create a list of empty lists\n",
        "cell_type = \"\"\n",
        "prob_not_found = 0\n",
        "for i in range(dimension):\n",
        "    for j in range(dimension):\n",
        "        p = rand.random()\n",
        "        if p < 0.25:\n",
        "            cell_type = \"flat\"\n",
        "            prob_not_found = 0.1\n",
        "        elif p <0.50:\n",
        "            cell_type = \"hilly\"\n",
        "            prob_not_found = 0.3\n",
        "        elif p <0.75:\n",
        "            cell_type = \"forested\"\n",
        "            prob_not_found = 0.7\n",
        "        else:\n",
        "            cell_type = \"maze of caves\"\n",
        "            prob_not_found = 0.9\n",
        "        mat[i].append(Cell(cell_type, prob_not_found))\n",
        "target = np.random.randint(dimension, size = 2)"
      ],
      "execution_count": null,
      "outputs": [
        {
          "output_type": "stream",
          "text": [
            "Enter dimension of board: 2\n"
          ],
          "name": "stdout"
        }
      ]
    },
    {
      "cell_type": "code",
      "metadata": {
        "colab": {
          "base_uri": "https://localhost:8080/"
        },
        "id": "mtlJ8bvmlrTJ",
        "outputId": "bace60f2-e843-47e2-e37d-8a839398eea0"
      },
      "source": [
        "print(mat[0][0].cell_type)\n",
        "print(mat[0][1].cell_type)\n",
        "print(mat[1][0].cell_type)\n",
        "print(mat[1][1].cell_type)\n",
        "print(mat[1][0].prob_not_found)\n",
        "print(target)"
      ],
      "execution_count": null,
      "outputs": [
        {
          "output_type": "stream",
          "text": [
            "flat\n",
            "forested\n",
            "maze of caves\n",
            "maze of caves\n",
            "0.9\n",
            "[0 1]\n"
          ],
          "name": "stdout"
        }
      ]
    },
    {
      "cell_type": "markdown",
      "metadata": {
        "id": "SceDHdge5EHd"
      },
      "source": [
        "# Basic Agent 1"
      ]
    },
    {
      "cell_type": "code",
      "metadata": {
        "id": "6DdJnq6IoXhZ"
      },
      "source": [
        "def get_valid_neighbors(current_node):\n",
        "  get_neighbors = [] #list of possible neighbors\n",
        "  for i in range(-1,2):\n",
        "    for j in range(-1,2):\n",
        "      if i==0 and j==0:\n",
        "        continue\n",
        "      get_neighbors.append((i,j))\n",
        "  x, y = current_node\n",
        "  neighbors = set([])\n",
        "  for i in get_neighbors:\n",
        "    neighbor_x = x + i[0]\n",
        "    neighbor_y = y + i[1]\n",
        "\n",
        "    if neighbor_x >= dimension or neighbor_x < 0:\n",
        "      continue\n",
        "    elif neighbor_y >= dimension or neighbor_y < 0:\n",
        "      continue\n",
        "    neighbors.add((neighbor_x, neighbor_y))\n",
        "  return neighbors"
      ],
      "execution_count": null,
      "outputs": []
    },
    {
      "cell_type": "code",
      "metadata": {
        "id": "mXcI46IBVxYP"
      },
      "source": [
        "def belief_state_initialize(dimension):\n",
        "  belief_state = np.full((dimension,dimension),1/(dimension*dimension))\n",
        "  return belief_state"
      ],
      "execution_count": null,
      "outputs": []
    },
    {
      "cell_type": "code",
      "metadata": {
        "id": "mbc7uCw7qY3t"
      },
      "source": [
        "def search_current(current_cell, matrix, target):\n",
        "  found_target = False\n",
        "  if current_cell is target:\n",
        "    if random.randrange(0, 1) > matrix[current_cell[0]][current_cell[1]].prob_not_found:\n",
        "      found_target = True\n",
        "  return found_target"
      ],
      "execution_count": null,
      "outputs": []
    },
    {
      "cell_type": "code",
      "metadata": {
        "id": "Sme-6xApJ8B6"
      },
      "source": [
        "def Bayes_fn(current, belief_state, map):\n",
        "    belief_in = belief_state[current[0]][current[1]]\n",
        "    denom = belief_in * map[current[0]][current[1]].prob_not_found + (1 - belief_in) *1\n",
        "    prob = belief_in * map[current[0]][current[1]].prob_not_found / denom\n",
        "    return prob"
      ],
      "execution_count": null,
      "outputs": []
    },
    {
      "cell_type": "code",
      "metadata": {
        "id": "drt3m5M1OF1e"
      },
      "source": [
        "def Bayes_other(neighbor, current, belief_state, map):\n",
        "    belief_in = belief_state[neighbor[0]][neighbor[1]]\n",
        "    belief_curr = belief_state[current[0]][current[1]]\n",
        "    marginalization = belief_curr * map[current[0]][current[1]].prob_not_found + (1 - belief_curr) *1\n",
        "    prob = belief_in / marginalization\n",
        "    return prob"
      ],
      "execution_count": null,
      "outputs": []
    },
    {
      "cell_type": "code",
      "metadata": {
        "id": "vOPzrw3r5Gf_"
      },
      "source": [
        "def basic_agent_1(map, dimension, target):\n",
        "  #creating a search space map\n",
        "  unsearched_spaces = set()\n",
        "  for i in range(dimension):\n",
        "    for j in range(dimension):\n",
        "      unsearched_spaces.add((i,j))\n",
        "  #starts at random point\n",
        "  belief_state = belief_state_initialize(dimension)\n",
        "  found_target = False\n",
        "  current = np.random.randint(dimension, size = 2)\n",
        "  print(current)\n",
        "  path = set()\n",
        "  path.add((current[0],current[1]))\n",
        "\n",
        "  #loop when target isn't found\n",
        "\n",
        "  #while found_target is False:\n",
        "  for i in range(4):\n",
        "    \n",
        "    found_target = search_current(current, map, target)\n",
        "    if found_target:\n",
        "      break\n",
        "    neighbors = get_valid_neighbors(current)\n",
        "    max_belief = Bayes_fn(current, belief_state, map)\n",
        "    belief_state[current[0]][current[1]] = max_belief\n",
        "    next_node = np.random.randint(dimension, size = 2)\n",
        "    #neighbors_probabilities = probability_neighbor_nodes(current, belief_state, map, neighbors)\n",
        "    for i in neighbors:\n",
        "      prob_other = Bayes_other(i, current, belief_state, map)\n",
        "      belief_state[i[0]][i[1]] = prob_other\n",
        "      if max_belief < prob_other:\n",
        "        max_belief = prob_other\n",
        "        next_node = (i[0],i[1])\n",
        "    current = next_node\n",
        "    #print(current)\n",
        "    path.add((current[0],current[1]))\n",
        "    print(current)\n",
        "    print(belief_state)\n",
        "    #print(path)\n",
        "  return found_target"
      ],
      "execution_count": null,
      "outputs": []
    },
    {
      "cell_type": "code",
      "metadata": {
        "colab": {
          "base_uri": "https://localhost:8080/"
        },
        "id": "-WVYEEW0ZRkX",
        "outputId": "574530c7-6e2a-4832-9182-6bfa877d0cdc"
      },
      "source": [
        "print(mat[0][0].cell_type)\n",
        "print(mat[1][0].cell_type)\n",
        "print(mat[0][1].cell_type)\n",
        "print(mat[1][1].cell_type)\n",
        "print(target)"
      ],
      "execution_count": null,
      "outputs": [
        {
          "output_type": "stream",
          "text": [
            "flat\n",
            "maze of caves\n",
            "forested\n",
            "maze of caves\n",
            "[0 1]\n"
          ],
          "name": "stdout"
        }
      ]
    },
    {
      "cell_type": "code",
      "metadata": {
        "colab": {
          "base_uri": "https://localhost:8080/"
        },
        "id": "qQpKo0u6CKml",
        "outputId": "9925efb5-00c1-40b2-c0aa-59ab6ef0747e"
      },
      "source": [
        "path = basic_agent_1(mat, dimension, target)"
      ],
      "execution_count": null,
      "outputs": [
        {
          "output_type": "stream",
          "text": [
            "[1 0]\n",
            "(0, 1)\n",
            "[[0.25590551 0.25590551]\n",
            " [0.23076923 0.25590551]]\n",
            "(0, 0)\n",
            "[[0.27172218 0.19402985]\n",
            " [0.24503231 0.27172218]]\n",
            "(1, 1)\n",
            "[[0.03596825 0.200521  ]\n",
            " [0.25322971 0.28081248]]\n",
            "[0 1]\n",
            "[[0.03692852 0.20587442]\n",
            " [0.25999033 0.26003329]]\n"
          ],
          "name": "stdout"
        }
      ]
    }
  ]
}