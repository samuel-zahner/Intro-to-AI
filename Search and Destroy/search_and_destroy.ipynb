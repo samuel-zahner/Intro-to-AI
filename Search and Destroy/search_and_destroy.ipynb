{
 "cells": [
  {
   "cell_type": "code",
   "execution_count": 1,
   "metadata": {},
   "outputs": [],
   "source": [
    "import numpy as np\n",
    "import numpy.random as rand"
   ]
  },
  {
   "cell_type": "code",
   "execution_count": 2,
   "metadata": {},
   "outputs": [],
   "source": [
    "class Cell():\n",
    "    target = 0\n",
    "    cell_type = \"\"\n",
    "    prob_not_found = 0\n",
    "    def __init__(self, cell_type, prob_not_found):\n",
    "        self.cell_type = cell_type\n",
    "        self.prob_not_found = prob_not_found\n",
    "        "
   ]
  },
  {
   "cell_type": "code",
   "execution_count": 3,
   "metadata": {},
   "outputs": [
    {
     "name": "stdout",
     "output_type": "stream",
     "text": [
      "Enter dimension of board: 2\n"
     ]
    }
   ],
   "source": [
    "#create environment\n",
    "#take input from user\n",
    "while True:\n",
    "  try:\n",
    "    dimension = int(input(\"Enter dimension of board: \"))\n",
    "    break\n",
    "  except ValueError:\n",
    "    print(\"Must be an integer\")\n",
    "    \n",
    "env = [[] for i in range(dimension)] # create a list of empty lists\n",
    "cell_type = \"\"\n",
    "prob_not_found = 0\n",
    "for i in range(dimension):\n",
    "    for j in range(dimension):\n",
    "        p = rand.random()\n",
    "        if p < 0.25:\n",
    "            cell_type = \"flat\"\n",
    "            prob_not_found = 0.1\n",
    "        elif p <0.50:\n",
    "            cell_type = \"hilly\"\n",
    "            prob_not_found = 0.3\n",
    "        elif p <0.75:\n",
    "            cell_type = \"forested\"\n",
    "            prob_not_found = 0.7\n",
    "        else:\n",
    "            cell_type = \"maze of caves\"\n",
    "            prob_not_found = 0.9\n",
    "        env[i].append(Cell(cell_type, prob_not_found))"
   ]
  },
  {
   "cell_type": "code",
   "execution_count": 4,
   "metadata": {},
   "outputs": [],
   "source": [
    "env[0][0].cell_type = \"flat\"\n",
    "env[0][0].prob_not_found = 0.1\n",
    "env[0][1].cell_type = \"hilly\"\n",
    "env[0][1].prob_not_found = 0.3\n",
    "env[1][0].cell_type = \"forested\"\n",
    "env[1][0].prob_not_found = 0.7\n",
    "env[1][0].target = 1\n",
    "env[1][1].cell_type = \"maze of caves\"\n",
    "env[1][1].prob_not_found = 0.9"
   ]
  },
  {
   "cell_type": "code",
   "execution_count": 6,
   "metadata": {},
   "outputs": [],
   "source": [
    "def search_cell(current_position):\n",
    "    x = current_position[0]\n",
    "    y = current_position[1]\n",
    "    \n",
    "    if env[x][y].target == 1:\n",
    "        p = rand.random()\n",
    "        if p > env[x][y].prob_not_found:\n",
    "            return True\n",
    "    return False"
   ]
  },
  {
   "cell_type": "code",
   "execution_count": 39,
   "metadata": {},
   "outputs": [],
   "source": [
    "#variable assignment tree\n",
    "def bayes_theorem(current_position, updating_position):\n",
    "    x = current_position[0]\n",
    "    y = current_position[1]\n",
    "    i = updating_position[0]\n",
    "    j = updating_position[1]\n",
    "    \n",
    "    numerator = belief[i][j]\n",
    "    #print(f\"numerator: {numerator}\")\n",
    "    denominator = (1 - belief[x][y]) + belief[x][y]*env[x][y].prob_not_found\n",
    "    #print(f\"denominator: {denominator}\")\n",
    "    return numerator/denominator "
   ]
  },
  {
   "cell_type": "code",
   "execution_count": 40,
   "metadata": {},
   "outputs": [],
   "source": [
    "def bayes_current(current_position):\n",
    "    x = current_position[0]\n",
    "    y = current_position[1]\n",
    "    \n",
    "    numerator = belief[x][y] * env[x][y].prob_not_found\n",
    "    denominator = (1 - belief[x][y]) + belief[x][y]*env[x][y].prob_not_found\n",
    "    return numerator/denominator "
   ]
  },
  {
   "cell_type": "code",
   "execution_count": 41,
   "metadata": {},
   "outputs": [],
   "source": [
    "def get_valid_neighbors(current_node):\n",
    "  get_neighbors = [] #list of possible neighbors\n",
    "  for i in range(-1,2):\n",
    "    for j in range(-1,2):\n",
    "      if i==0 and j==0:\n",
    "        continue\n",
    "      get_neighbors.append((i,j))\n",
    "  x, y = current_node\n",
    "  neighbors = set([])\n",
    "  for i in get_neighbors:\n",
    "    neighbor_x = x + i[0]\n",
    "    neighbor_y = y + i[1]\n",
    "\n",
    "    if neighbor_x >= dimension or neighbor_x < 0:\n",
    "      continue\n",
    "    elif neighbor_y >= dimension or neighbor_y < 0:\n",
    "      continue\n",
    "    neighbors.add((neighbor_x, neighbor_y))\n",
    "  return neighbors"
   ]
  },
  {
   "cell_type": "code",
   "execution_count": 45,
   "metadata": {},
   "outputs": [
    {
     "name": "stdout",
     "output_type": "stream",
     "text": [
      "[[0.25 0.25]\n",
      " [0.25 0.25]]\n",
      "current_position: [0, 0]\n",
      "[[0.03225806 0.32258065]\n",
      " [0.32258065 0.32258065]]\n",
      "sum of belief: 1.0\n",
      "current_position: (0, 1)\n",
      "[[0.04166667 0.125     ]\n",
      " [0.41666667 0.41666667]]\n",
      "sum of belief: 0.9999999999999999\n",
      "current_position: (1, 0)\n",
      "[[0.04761905 0.14285714]\n",
      " [0.33333333 0.47619048]]\n",
      "sum of belief: 0.9999999999999999\n",
      "current_position: (1, 1)\n",
      "[[0.05 0.15]\n",
      " [0.35 0.45]]\n",
      "sum of belief: 1.0\n",
      "current_position: (1, 0)\n",
      "[[0.05586592 0.16759777]\n",
      " [0.27374302 0.5027933 ]]\n",
      "sum of belief: 1.0\n",
      "current_position: (1, 1)\n",
      "[[0.05882353 0.17647059]\n",
      " [0.28823529 0.47647059]]\n",
      "sum of belief: 1.0\n",
      "current_position: (1, 0)\n",
      "Found target at (1, 0)\n"
     ]
    }
   ],
   "source": [
    "belief = np.zeros((dimension,dimension))\n",
    "for i in range(dimension):\n",
    "    for j in range(dimension):\n",
    "        belief[i][j] = 1/(dimension*dimension)\n",
    "print(belief)\n",
    "searching = True\n",
    "current_position = [0,0]\n",
    "while searching:\n",
    "    print(f\"current_position: {current_position}\")\n",
    "    #search cell\n",
    "    query = search_cell(current_position)\n",
    "    if query:\n",
    "        print(f\"Found target at {current_position}\")\n",
    "        searching = False\n",
    "        break\n",
    "        \n",
    "    #update belief\n",
    "    for i in range(dimension):\n",
    "        for j in range(dimension):\n",
    "            if i == current_position[0] and j == current_position[1]:\n",
    "                continue\n",
    "            #Bayes Theorem\n",
    "            calculated_belief = bayes_theorem(current_position, (i,j))\n",
    "            belief[i][j] = calculated_belief #update belief\n",
    "    belief[current_position[0]][current_position[1]] = bayes_current(current_position)\n",
    "    print(belief)\n",
    "    \n",
    "    #choose next position\n",
    "    max_belief = 0\n",
    "    total_belief = belief[current_position[0]][current_position[1]]\n",
    "    for i in get_valid_neighbors(current_position):\n",
    "        total_belief += belief[i[0]][i[1]]\n",
    "        if belief[i[0]][i[1]] > max_belief:\n",
    "            max_belief = belief[i[0]][i[1]]\n",
    "            current_position = i\n",
    "    print(f\"sum of belief: {total_belief}\")"
   ]
  },
  {
   "cell_type": "code",
   "execution_count": null,
   "metadata": {},
   "outputs": [],
   "source": []
  },
  {
   "cell_type": "code",
   "execution_count": null,
   "metadata": {},
   "outputs": [],
   "source": []
  }
 ],
 "metadata": {
  "kernelspec": {
   "display_name": "Python 3",
   "language": "python",
   "name": "python3"
  },
  "language_info": {
   "codemirror_mode": {
    "name": "ipython",
    "version": 3
   },
   "file_extension": ".py",
   "mimetype": "text/x-python",
   "name": "python",
   "nbconvert_exporter": "python",
   "pygments_lexer": "ipython3",
   "version": "3.8.3"
  }
 },
 "nbformat": 4,
 "nbformat_minor": 4
}
