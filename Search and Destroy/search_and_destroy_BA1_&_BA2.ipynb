{
  "nbformat": 4,
  "nbformat_minor": 0,
  "metadata": {
    "kernelspec": {
      "display_name": "Python 3",
      "language": "python",
      "name": "python3"
    },
    "language_info": {
      "codemirror_mode": {
        "name": "ipython",
        "version": 3
      },
      "file_extension": ".py",
      "mimetype": "text/x-python",
      "name": "python",
      "nbconvert_exporter": "python",
      "pygments_lexer": "ipython3",
      "version": "3.8.3"
    },
    "colab": {
      "name": "search_and_destroy_BA1_&_BA2.ipynb",
      "provenance": []
    }
  },
  "cells": [
    {
      "cell_type": "markdown",
      "metadata": {
        "id": "qF5dx8tIRT9n"
      },
      "source": [
        "#**Import Statements + Global Functions**"
      ]
    },
    {
      "cell_type": "code",
      "metadata": {
        "id": "cLyF-YMZ91QV"
      },
      "source": [
        "import numpy as np\n",
        "import numpy.random as rand"
      ],
      "execution_count": 1,
      "outputs": []
    },
    {
      "cell_type": "code",
      "metadata": {
        "id": "mYlu9tVU91Qd"
      },
      "source": [
        "class Cell():\n",
        "    target = 0\n",
        "    cell_type = \"\"\n",
        "    prob_not_found = 0\n",
        "    def __init__(self, cell_type, prob_not_found):\n",
        "        self.cell_type = cell_type\n",
        "        self.prob_not_found = prob_not_found\n",
        "        "
      ],
      "execution_count": 38,
      "outputs": []
    },
    {
      "cell_type": "code",
      "metadata": {
        "colab": {
          "base_uri": "https://localhost:8080/"
        },
        "id": "F3rYj9nB91Qe",
        "outputId": "5c040938-a34d-4da2-b9fd-72674e343c95"
      },
      "source": [
        "#create environment\n",
        "#take input from user\n",
        "while True:\n",
        "  try:\n",
        "    dimension = int(input(\"Enter dimension of board: \"))\n",
        "    break\n",
        "  except ValueError:\n",
        "    print(\"Must be an integer\")\n",
        "    \n",
        "env = [[] for i in range(dimension)] # create a list of empty lists\n",
        "cell_type = \"\"\n",
        "prob_not_found = 0\n",
        "for i in range(dimension):\n",
        "    for j in range(dimension):\n",
        "        p = rand.random()\n",
        "        if p < 0.25:\n",
        "            cell_type = \"flat\"\n",
        "            prob_not_found = 0.1\n",
        "        elif p <0.50:\n",
        "            cell_type = \"hilly\"\n",
        "            prob_not_found = 0.3\n",
        "        elif p <0.75:\n",
        "            cell_type = \"forested\"\n",
        "            prob_not_found = 0.7\n",
        "        else:\n",
        "            cell_type = \"maze of caves\"\n",
        "            prob_not_found = 0.9\n",
        "        env[i].append(Cell(cell_type, prob_not_found))"
      ],
      "execution_count": 97,
      "outputs": [
        {
          "output_type": "stream",
          "text": [
            "Enter dimension of board: 5\n"
          ],
          "name": "stdout"
        }
      ]
    },
    {
      "cell_type": "code",
      "metadata": {
        "id": "Wj8aooW691Qf"
      },
      "source": [
        "env[0][0].cell_type = \"flat\"\n",
        "env[0][0].prob_not_found = 0.1\n",
        "env[0][1].cell_type = \"hilly\"\n",
        "env[0][1].prob_not_found = 0.3\n",
        "env[1][0].cell_type = \"forested\"\n",
        "env[1][0].prob_not_found = 0.7\n",
        "env[1][0].target = 1\n",
        "env[1][1].cell_type = \"maze of caves\"\n",
        "env[1][1].prob_not_found = 0.9"
      ],
      "execution_count": 91,
      "outputs": []
    },
    {
      "cell_type": "code",
      "metadata": {
        "id": "bFB_O7G9Sskw"
      },
      "source": [
        "env[1][0].target = 1"
      ],
      "execution_count": 98,
      "outputs": []
    },
    {
      "cell_type": "code",
      "metadata": {
        "colab": {
          "base_uri": "https://localhost:8080/"
        },
        "id": "LcHptnBXTE0N",
        "outputId": "db5fa546-a796-42b0-fbad-40deb6b734a7"
      },
      "source": [
        "print(env[1][0].target)"
      ],
      "execution_count": 99,
      "outputs": [
        {
          "output_type": "stream",
          "text": [
            "1\n"
          ],
          "name": "stdout"
        }
      ]
    },
    {
      "cell_type": "code",
      "metadata": {
        "id": "iT85c5aq91Qg"
      },
      "source": [
        "def search_cell(current_position):\n",
        "    x = current_position[0]\n",
        "    y = current_position[1]\n",
        "    \n",
        "    if env[x][y].target == 1:\n",
        "        p = rand.random()\n",
        "        if p > env[x][y].prob_not_found:\n",
        "            return True\n",
        "    return False"
      ],
      "execution_count": 69,
      "outputs": []
    },
    {
      "cell_type": "markdown",
      "metadata": {
        "id": "b_-kbaEvRkeu"
      },
      "source": [
        "# **Basic Agent 1**"
      ]
    },
    {
      "cell_type": "code",
      "metadata": {
        "id": "vs-9JfVi91Qg"
      },
      "source": [
        "#variable assignment tree\n",
        "def bayes_theorem(current_position, updating_position):\n",
        "    x = current_position[0]\n",
        "    y = current_position[1]\n",
        "    i = updating_position[0]\n",
        "    j = updating_position[1]\n",
        "    \n",
        "    numerator = belief[i][j]\n",
        "    #print(f\"numerator: {numerator}\")\n",
        "    denominator = (1 - belief[x][y]) + belief[x][y]*env[x][y].prob_not_found\n",
        "    #print(f\"denominator: {denominator}\")\n",
        "    return numerator/denominator "
      ],
      "execution_count": 44,
      "outputs": []
    },
    {
      "cell_type": "code",
      "metadata": {
        "id": "Jm4ea2J491Qg"
      },
      "source": [
        "def bayes_current(current_position):\n",
        "    x = current_position[0]\n",
        "    y = current_position[1]\n",
        "    \n",
        "    numerator = belief[x][y] * env[x][y].prob_not_found\n",
        "    denominator = (1 - belief[x][y]) + belief[x][y]*env[x][y].prob_not_found\n",
        "    return numerator/denominator "
      ],
      "execution_count": 45,
      "outputs": []
    },
    {
      "cell_type": "code",
      "metadata": {
        "id": "nuAv6PBB91Qh"
      },
      "source": [
        "def get_valid_neighbors(current_node):\n",
        "  get_neighbors = [] #list of possible neighbors\n",
        "  for i in range(-1,2):\n",
        "    for j in range(-1,2):\n",
        "      if i==0 and j==0:\n",
        "        continue\n",
        "      get_neighbors.append((i,j))\n",
        "  x, y = current_node\n",
        "  neighbors = set([])\n",
        "  for i in get_neighbors:\n",
        "    neighbor_x = x + i[0]\n",
        "    neighbor_y = y + i[1]\n",
        "\n",
        "    if neighbor_x >= dimension or neighbor_x < 0:\n",
        "      continue\n",
        "    elif neighbor_y >= dimension or neighbor_y < 0:\n",
        "      continue\n",
        "    neighbors.add((neighbor_x, neighbor_y))\n",
        "  return neighbors"
      ],
      "execution_count": 46,
      "outputs": []
    },
    {
      "cell_type": "code",
      "metadata": {
        "colab": {
          "base_uri": "https://localhost:8080/"
        },
        "id": "fsKeQiQ891Qh",
        "outputId": "30e44eac-b2f4-4d2e-8273-1c536f24ed5a"
      },
      "source": [
        "belief = np.zeros((dimension,dimension))\n",
        "for i in range(dimension):\n",
        "    for j in range(dimension):\n",
        "        belief[i][j] = 1/(dimension*dimension)\n",
        "print(belief)\n",
        "searching = True\n",
        "current_position = [0,0]\n",
        "while searching:\n",
        "    print(f\"current_position: {current_position}\")\n",
        "    #search cell\n",
        "    query = search_cell(current_position)\n",
        "    if query:\n",
        "        print(f\"Found target at {current_position}\")\n",
        "        searching = False\n",
        "        break\n",
        "        \n",
        "    #update belief\n",
        "    for i in range(dimension):\n",
        "        for j in range(dimension):\n",
        "            if i == current_position[0] and j == current_position[1]:\n",
        "                continue\n",
        "            #Bayes Theorem\n",
        "            calculated_belief = bayes_theorem(current_position, (i,j))\n",
        "            belief[i][j] = calculated_belief #update belief\n",
        "    belief[current_position[0]][current_position[1]] = bayes_current(current_position)\n",
        "    print(belief)\n",
        "    \n",
        "    #choose next position\n",
        "    max_belief = 0\n",
        "    total_belief = belief[current_position[0]][current_position[1]]\n",
        "    for i in get_valid_neighbors(current_position):\n",
        "        total_belief += belief[i[0]][i[1]]\n",
        "        if belief[i[0]][i[1]] > max_belief:\n",
        "            max_belief = belief[i[0]][i[1]]\n",
        "            current_position = i\n",
        "\n",
        "    #print(f\"sum of belief: {total_belief}\")\n",
        "    print(f\"sum of belief: {sum(sum(belief))}\")\n",
        "    print()"
      ],
      "execution_count": 76,
      "outputs": [
        {
          "output_type": "stream",
          "text": [
            "[[0.25 0.25]\n",
            " [0.25 0.25]]\n",
            "current_position: [0, 0]\n",
            "[[0.18918919 0.27027027]\n",
            " [0.27027027 0.27027027]]\n",
            "sum of belief: 0.9999999999999999\n",
            "\n",
            "current_position: (0, 1)\n",
            "[[0.20588235 0.20588235]\n",
            " [0.29411765 0.29411765]]\n",
            "sum of belief: 0.9999999999999998\n",
            "\n",
            "current_position: (1, 0)\n",
            "Found target at (1, 0)\n"
          ],
          "name": "stdout"
        }
      ]
    },
    {
      "cell_type": "markdown",
      "metadata": {
        "id": "N9ZudiZlRtj4"
      },
      "source": [
        "# **Basic Agent 2**"
      ]
    },
    {
      "cell_type": "code",
      "metadata": {
        "colab": {
          "base_uri": "https://localhost:8080/"
        },
        "id": "cvH2mIuBRyrc",
        "outputId": "46a59a5b-3720-49f8-f32c-ca4184026f82"
      },
      "source": [
        "belief = np.zeros((dimension,dimension))\n",
        "for i in range(dimension):\n",
        "    for j in range(dimension):\n",
        "        belief[i][j] = 1/(dimension*dimension)\n",
        "print(belief)\n",
        "searching = True\n",
        "current_position = [0,0]\n",
        "while searching:\n",
        "    print(f\"current_position: {current_position}\")\n",
        "    #search cell\n",
        "    query = search_cell(current_position)\n",
        "    if query:\n",
        "        print(f\"Found target at {current_position}\")\n",
        "        searching = False\n",
        "        break\n",
        "        \n",
        "    #update belief\n",
        "    for i in range(dimension):\n",
        "        for j in range(dimension):\n",
        "            if i == current_position[0] and j == current_position[1]:\n",
        "                continue\n",
        "            #Bayes Theorem\n",
        "            calculated_belief = bayes_theorem(current_position, (i,j))\n",
        "            belief[i][j] = calculated_belief #update belief\n",
        "    belief[current_position[0]][current_position[1]] = bayes_current(current_position)\n",
        "    print(belief)\n",
        "    \n",
        "    #choose next position\n",
        "    max_belief = 0\n",
        "    total_belief = belief[current_position[0]][current_position[1]]*(1-env[current_position[0]][current_position[1]].prob_not_found)\n",
        "    for i in get_valid_neighbors(current_position):\n",
        "        total_belief += belief[i[0]][i[1]]*(1 - env[i[0]][i[1]].prob_not_found)\n",
        "        if belief[i[0]][i[1]]*(1-env[i[0]][i[1]].prob_not_found) > max_belief:\n",
        "            max_belief = belief[i[0]][i[1]]\n",
        "            current_position = i\n",
        "    #print(f\"sum of belief: {total_belief}\")\n",
        "    print(f\"sum of belief: {sum(sum(belief))}\")\n",
        "    print()"
      ],
      "execution_count": 100,
      "outputs": [
        {
          "output_type": "stream",
          "text": [
            "[[0.04 0.04 0.04 0.04 0.04]\n",
            " [0.04 0.04 0.04 0.04 0.04]\n",
            " [0.04 0.04 0.04 0.04 0.04]\n",
            " [0.04 0.04 0.04 0.04 0.04]\n",
            " [0.04 0.04 0.04 0.04 0.04]]\n",
            "current_position: [0, 0]\n",
            "[[0.01234568 0.04115226 0.04115226 0.04115226 0.04115226]\n",
            " [0.04115226 0.04115226 0.04115226 0.04115226 0.04115226]\n",
            " [0.04115226 0.04115226 0.04115226 0.04115226 0.04115226]\n",
            " [0.04115226 0.04115226 0.04115226 0.04115226 0.04115226]\n",
            " [0.04115226 0.04115226 0.04115226 0.04115226 0.04115226]]\n",
            "sum of belief: 1.0\n",
            "\n",
            "current_position: (0, 1)\n",
            "[[0.01282051 0.0042735  0.04273504 0.04273504 0.04273504]\n",
            " [0.04273504 0.04273504 0.04273504 0.04273504 0.04273504]\n",
            " [0.04273504 0.04273504 0.04273504 0.04273504 0.04273504]\n",
            " [0.04273504 0.04273504 0.04273504 0.04273504 0.04273504]\n",
            " [0.04273504 0.04273504 0.04273504 0.04273504 0.04273504]]\n",
            "sum of belief: 1.0\n",
            "\n",
            "current_position: (1, 2)\n",
            "[[0.01333333 0.00444444 0.04444444 0.04444444 0.04444444]\n",
            " [0.04444444 0.04444444 0.00444444 0.04444444 0.04444444]\n",
            " [0.04444444 0.04444444 0.04444444 0.04444444 0.04444444]\n",
            " [0.04444444 0.04444444 0.04444444 0.04444444 0.04444444]\n",
            " [0.04444444 0.04444444 0.04444444 0.04444444 0.04444444]]\n",
            "sum of belief: 1.0\n",
            "\n",
            "current_position: (1, 3)\n",
            "[[0.01351351 0.0045045  0.04504505 0.04504505 0.04504505]\n",
            " [0.04504505 0.04504505 0.0045045  0.03153153 0.04504505]\n",
            " [0.04504505 0.04504505 0.04504505 0.04504505 0.04504505]\n",
            " [0.04504505 0.04504505 0.04504505 0.04504505 0.04504505]\n",
            " [0.04504505 0.04504505 0.04504505 0.04504505 0.04504505]]\n",
            "sum of belief: 1.0\n",
            "\n",
            "current_position: (2, 2)\n",
            "[[0.01395349 0.00465116 0.04651163 0.04651163 0.04651163]\n",
            " [0.04651163 0.04651163 0.00465116 0.03255814 0.04651163]\n",
            " [0.04651163 0.04651163 0.01395349 0.04651163 0.04651163]\n",
            " [0.04651163 0.04651163 0.04651163 0.04651163 0.04651163]\n",
            " [0.04651163 0.04651163 0.04651163 0.04651163 0.04651163]]\n",
            "sum of belief: 1.0\n",
            "\n",
            "current_position: (1, 1)\n",
            "[[0.01456311 0.00485437 0.04854369 0.04854369 0.04854369]\n",
            " [0.04854369 0.00485437 0.00485437 0.03398058 0.04854369]\n",
            " [0.04854369 0.04854369 0.01456311 0.04854369 0.04854369]\n",
            " [0.04854369 0.04854369 0.04854369 0.04854369 0.04854369]\n",
            " [0.04854369 0.04854369 0.04854369 0.04854369 0.04854369]]\n",
            "sum of belief: 1.0\n",
            "\n",
            "current_position: (1, 0)\n",
            "Found target at (1, 0)\n"
          ],
          "name": "stdout"
        }
      ]
    },
    {
      "cell_type": "markdown",
      "metadata": {
        "id": "gGy9i02cTPqL"
      },
      "source": [
        "# **Improved Agent**"
      ]
    },
    {
      "cell_type": "code",
      "metadata": {
        "id": "tcjLDhYDTWY0"
      },
      "source": [
        "belief = np.zeros((dimension,dimension))\n",
        "for i in range(dimension):\n",
        "    for j in range(dimension):\n",
        "        belief[i][j] = env[current_position[0]][current_position[1]].prob_not_found/(dimension*dimension)\n",
        "print(belief)\n",
        "searching = True\n",
        "current_position = [0,0]\n",
        "while searching:\n",
        "    print(f\"current_position: {current_position}\")\n",
        "    #search cell\n",
        "    query = search_cell(current_position)\n",
        "    if query:\n",
        "        print(f\"Found target at {current_position}\")\n",
        "        searching = False\n",
        "        break\n",
        "        \n",
        "    #update belief\n",
        "    for i in range(dimension):\n",
        "        for j in range(dimension):\n",
        "            if i == current_position[0] and j == current_position[1]:\n",
        "                continue\n",
        "            #Bayes Theorem\n",
        "            calculated_belief = bayes_theorem(current_position, (i,j))\n",
        "            belief[i][j] = calculated_belief #update belief\n",
        "    belief[current_position[0]][current_position[1]] = bayes_current(current_position) * env[current_position[0]][current_position[1]].prob_not_found\n",
        "    print(belief)\n",
        "    \n",
        "    #choose next position\n",
        "    max_belief = 0\n",
        "    total_belief = belief[current_position[0]][current_position[1]]\n",
        "    for i in get_valid_neighbors(current_position):\n",
        "        total_belief += belief[i[0]][i[1]]\n",
        "        if belief[i[0]][i[1]] > max_belief:\n",
        "            max_belief = belief[i[0]][i[1]]\n",
        "            current_position = i\n",
        "    print(f\"sum of belief: {total_belief}\")"
      ],
      "execution_count": null,
      "outputs": []
    }
  ]
}