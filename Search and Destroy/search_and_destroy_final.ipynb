{
  "nbformat": 4,
  "nbformat_minor": 0,
  "metadata": {
    "kernelspec": {
      "display_name": "Python 3",
      "language": "python",
      "name": "python3"
    },
    "language_info": {
      "codemirror_mode": {
        "name": "ipython",
        "version": 3
      },
      "file_extension": ".py",
      "mimetype": "text/x-python",
      "name": "python",
      "nbconvert_exporter": "python",
      "pygments_lexer": "ipython3",
      "version": "3.8.3"
    },
    "colab": {
      "name": "search_and_destroy_final.ipynb",
      "provenance": []
    }
  },
  "cells": [
    {
      "cell_type": "markdown",
      "metadata": {
        "id": "qF5dx8tIRT9n"
      },
      "source": [
        "#**Import Statements + Creating Environment**"
      ]
    },
    {
      "cell_type": "code",
      "metadata": {
        "id": "cLyF-YMZ91QV"
      },
      "source": [
        "import numpy as np\n",
        "import numpy.random as rand"
      ],
      "execution_count": 1,
      "outputs": []
    },
    {
      "cell_type": "code",
      "metadata": {
        "id": "mYlu9tVU91Qd"
      },
      "source": [
        "class Cell():\n",
        "    target = 0\n",
        "    cell_type = \"\"\n",
        "    prob_not_found = 0\n",
        "    def __init__(self, cell_type, prob_not_found):\n",
        "        self.cell_type = cell_type\n",
        "        self.prob_not_found = prob_not_found\n",
        "        "
      ],
      "execution_count": 2,
      "outputs": []
    },
    {
      "cell_type": "code",
      "metadata": {
        "colab": {
          "base_uri": "https://localhost:8080/"
        },
        "id": "F3rYj9nB91Qe",
        "outputId": "0a9bbc37-7e64-4d80-d491-7bfd36bff523"
      },
      "source": [
        "#create environment\n",
        "#take input from user\n",
        "while True:\n",
        "  try:\n",
        "    dimension = int(input(\"Enter dimension of board: \"))\n",
        "    break\n",
        "  except ValueError:\n",
        "    print(\"Must be an integer\")\n",
        "    \n",
        "env = [[] for i in range(dimension)] # create a list of empty lists\n",
        "cell_type = \"\"\n",
        "prob_not_found = 0\n",
        "for i in range(dimension):\n",
        "    for j in range(dimension):\n",
        "        p = rand.random()\n",
        "        if p < 0.25:\n",
        "            cell_type = \"flat\"\n",
        "            prob_not_found = 0.1\n",
        "        elif p <0.50:\n",
        "            cell_type = \"hilly\"\n",
        "            prob_not_found = 0.3\n",
        "        elif p <0.75:\n",
        "            cell_type = \"forested\"\n",
        "            prob_not_found = 0.7\n",
        "        else:\n",
        "            cell_type = \"maze of caves\"\n",
        "            prob_not_found = 0.9\n",
        "        env[i].append(Cell(cell_type, prob_not_found))"
      ],
      "execution_count": 9,
      "outputs": [
        {
          "output_type": "stream",
          "text": [
            "Enter dimension of board: 3\n"
          ],
          "name": "stdout"
        }
      ]
    },
    {
      "cell_type": "code",
      "metadata": {
        "id": "bFB_O7G9Sskw"
      },
      "source": [
        "#set target in environment\n",
        "env[0][0].target = 1"
      ],
      "execution_count": 10,
      "outputs": []
    },
    {
      "cell_type": "code",
      "metadata": {
        "colab": {
          "base_uri": "https://localhost:8080/"
        },
        "id": "LcHptnBXTE0N",
        "outputId": "f2b74639-7629-4df8-ba84-e0e785f11038"
      },
      "source": [
        "print(env[0][0].target)"
      ],
      "execution_count": 12,
      "outputs": [
        {
          "output_type": "stream",
          "text": [
            "1\n"
          ],
          "name": "stdout"
        }
      ]
    },
    {
      "cell_type": "markdown",
      "metadata": {
        "id": "DMWwY_rzBR9Q"
      },
      "source": [
        "# **Helper Functions**"
      ]
    },
    {
      "cell_type": "code",
      "metadata": {
        "id": "iT85c5aq91Qg"
      },
      "source": [
        "def search_cell(current_position):\n",
        "    x = current_position[0]\n",
        "    y = current_position[1]\n",
        "    \n",
        "    if env[x][y].target == 1:\n",
        "        p = rand.random()\n",
        "        if p > env[x][y].prob_not_found:\n",
        "            return True\n",
        "    return False"
      ],
      "execution_count": 13,
      "outputs": []
    },
    {
      "cell_type": "code",
      "metadata": {
        "id": "vs-9JfVi91Qg"
      },
      "source": [
        "#variable assignment tree\n",
        "def bayes_theorem(current_position, updating_position, belief):\n",
        "    x = current_position[0]\n",
        "    y = current_position[1]\n",
        "    i = updating_position[0]\n",
        "    j = updating_position[1]\n",
        "    \n",
        "    numerator = belief[i][j]\n",
        "    #print(f\"numerator: {numerator}\")\n",
        "    denominator = (1 - belief[x][y]) + belief[x][y]*env[x][y].prob_not_found\n",
        "    #print(f\"denominator: {denominator}\")\n",
        "    return numerator/denominator "
      ],
      "execution_count": 21,
      "outputs": []
    },
    {
      "cell_type": "code",
      "metadata": {
        "id": "Jm4ea2J491Qg"
      },
      "source": [
        "def bayes_current(current_position, belief):\n",
        "    x = current_position[0]\n",
        "    y = current_position[1]\n",
        "    \n",
        "    numerator = belief[x][y] * env[x][y].prob_not_found\n",
        "    denominator = (1 - belief[x][y]) + belief[x][y]*env[x][y].prob_not_found\n",
        "    return numerator/denominator "
      ],
      "execution_count": 22,
      "outputs": []
    },
    {
      "cell_type": "code",
      "metadata": {
        "id": "nuAv6PBB91Qh"
      },
      "source": [
        "def get_valid_neighbors(current_node):\n",
        "  get_neighbors = [] #list of possible neighbors\n",
        "  for i in range(-1,2):\n",
        "    for j in range(-1,2):\n",
        "      if i==0 and j==0:\n",
        "        continue\n",
        "      get_neighbors.append((i,j))\n",
        "  x, y = current_node\n",
        "  neighbors = set([])\n",
        "  for i in get_neighbors:\n",
        "    neighbor_x = x + i[0]\n",
        "    neighbor_y = y + i[1]\n",
        "\n",
        "    if neighbor_x >= dimension or neighbor_x < 0:\n",
        "      continue\n",
        "    elif neighbor_y >= dimension or neighbor_y < 0:\n",
        "      continue\n",
        "    neighbors.add((neighbor_x, neighbor_y))\n",
        "  return neighbors"
      ],
      "execution_count": 23,
      "outputs": []
    },
    {
      "cell_type": "markdown",
      "metadata": {
        "id": "b_-kbaEvRkeu"
      },
      "source": [
        "# **Basic Agent 1**"
      ]
    },
    {
      "cell_type": "code",
      "metadata": {
        "id": "fsKeQiQ891Qh"
      },
      "source": [
        "def basic_1(dimension, env):\n",
        "  belief = np.zeros((dimension,dimension))\n",
        "  for i in range(dimension):\n",
        "      for j in range(dimension):\n",
        "          belief[i][j] = 1/(dimension*dimension)\n",
        "  #print(belief)\n",
        "  searching = True\n",
        "  current_position = [np.random.randint(0,dimension),np.random.randint(0,dimension)]\n",
        "  count = 1\n",
        "  while searching:\n",
        "      #print(f\"current_position: {current_position}\")\n",
        "      #search cell\n",
        "      query = search_cell(current_position)\n",
        "      if query:\n",
        "          #print(f\"Found target at {current_position}\")\n",
        "          searching = False\n",
        "          break\n",
        "      count += 1    \n",
        "      #update belief\n",
        "      for i in range(dimension):\n",
        "          for j in range(dimension):\n",
        "              if i == current_position[0] and j == current_position[1]:\n",
        "                  continue\n",
        "              #Bayes Theorem\n",
        "              calculated_belief = bayes_theorem(current_position, (i,j), belief)\n",
        "              belief[i][j] = calculated_belief #update belief\n",
        "      belief[current_position[0]][current_position[1]] = bayes_current(current_position, belief)\n",
        "      #print(belief)\n",
        "      \n",
        "      #choose next position\n",
        "      max_belief = 0\n",
        "      total_belief = belief[current_position[0]][current_position[1]]\n",
        "      for i in get_valid_neighbors(current_position):\n",
        "          total_belief += belief[i[0]][i[1]]\n",
        "          if belief[i[0]][i[1]] > max_belief:\n",
        "              max_belief = belief[i[0]][i[1]]\n",
        "              current_position = i\n",
        "\n",
        "      #print(f\"sum of belief: {total_belief}\")\n",
        "      #print(f\"sum of belief: {sum(sum(belief))}\")\n",
        "      #print()\n",
        "  return count"
      ],
      "execution_count": 47,
      "outputs": []
    },
    {
      "cell_type": "code",
      "metadata": {
        "colab": {
          "base_uri": "https://localhost:8080/"
        },
        "id": "cqMOPtXnAqL2",
        "outputId": "9b1ab254-b175-4b98-960e-565317587323"
      },
      "source": [
        "path = basic_1(dimension, env)\n",
        "print(path)"
      ],
      "execution_count": 39,
      "outputs": [
        {
          "output_type": "stream",
          "text": [
            "38\n"
          ],
          "name": "stdout"
        }
      ]
    },
    {
      "cell_type": "markdown",
      "metadata": {
        "id": "N9ZudiZlRtj4"
      },
      "source": [
        "# **Basic Agent 2**"
      ]
    },
    {
      "cell_type": "code",
      "metadata": {
        "id": "cvH2mIuBRyrc"
      },
      "source": [
        "def basic_2(dimension, env):\n",
        "  belief = np.zeros((dimension,dimension))\n",
        "  for i in range(dimension):\n",
        "      for j in range(dimension):\n",
        "          belief[i][j] = 1/(dimension*dimension)\n",
        "  #print(belief)\n",
        "  searching = True\n",
        "  current_position = [np.random.randint(0,dimension),np.random.randint(0,dimension)]\n",
        "  count = 1\n",
        "  while searching:\n",
        "      #print(f\"current_position: {current_position}\")\n",
        "      #search cell\n",
        "      query = search_cell(current_position)\n",
        "      if query:\n",
        "          #print(f\"Found target at {current_position}\")\n",
        "          searching = False\n",
        "          break\n",
        "      count += 1   \n",
        "      #update belief\n",
        "      for i in range(dimension):\n",
        "          for j in range(dimension):\n",
        "              if i == current_position[0] and j == current_position[1]:\n",
        "                  continue\n",
        "              #Bayes Theorem\n",
        "              calculated_belief = bayes_theorem(current_position, (i,j), belief)\n",
        "              belief[i][j] = calculated_belief #update belief\n",
        "      belief[current_position[0]][current_position[1]] = bayes_current(current_position, belief)\n",
        "      #print(belief)\n",
        "      \n",
        "      #choose next position\n",
        "      max_belief = 0\n",
        "      total_belief = belief[current_position[0]][current_position[1]]*(1-env[current_position[0]][current_position[1]].prob_not_found)\n",
        "      for i in get_valid_neighbors(current_position):\n",
        "          total_belief += belief[i[0]][i[1]]*(1 - env[i[0]][i[1]].prob_not_found)\n",
        "          if belief[i[0]][i[1]]*(1-env[i[0]][i[1]].prob_not_found) > max_belief:\n",
        "              max_belief = belief[i[0]][i[1]]\n",
        "              current_position = i\n",
        "      #print(f\"sum of belief: {total_belief}\")\n",
        "      #print(f\"sum of belief: {sum(sum(belief))}\")\n",
        "      #print()\n",
        "  return count"
      ],
      "execution_count": 46,
      "outputs": []
    },
    {
      "cell_type": "code",
      "metadata": {
        "colab": {
          "base_uri": "https://localhost:8080/"
        },
        "id": "LEpqTQwLAaE4",
        "outputId": "1e0ccb85-39c4-4d4e-8ff5-de7a1da534f5"
      },
      "source": [
        "path = basic_2(dimension,env)\n",
        "print(path)"
      ],
      "execution_count": 29,
      "outputs": [
        {
          "output_type": "stream",
          "text": [
            "Found target at (0, 0)\n",
            "57\n"
          ],
          "name": "stdout"
        }
      ]
    },
    {
      "cell_type": "markdown",
      "metadata": {
        "id": "gGy9i02cTPqL"
      },
      "source": [
        "# **Improved Agent**"
      ]
    },
    {
      "cell_type": "code",
      "metadata": {
        "id": "tgeYM8lQ6Yjj"
      },
      "source": [
        "def improved_agent(dimension, env):\n",
        "  belief = np.zeros((dimension,dimension))\n",
        "  belief_find = np.zeros((dimension,dimension))\n",
        "  for i in range(dimension):\n",
        "      for j in range(dimension):\n",
        "          belief[i][j] = 1/(dimension*dimension)\n",
        "  for i in range(dimension):\n",
        "      for j in range(dimension):\n",
        "          belief_find[i][j] = 1/(dimension*dimension) * (1-env[i][j].prob_not_found)\n",
        "  a= sum(sum(belief_find))\n",
        "  for i in range(dimension):\n",
        "      for j in range(dimension):\n",
        "          belief_find[i][j] = belief_find[i][j]/a\n",
        "  #print(belief)\n",
        "  #print(belief_find)\n",
        "  searching = True\n",
        "  current_position = [np.random.randint(0,dimension),np.random.randint(0,dimension)]\n",
        "  count = 1 \n",
        "  while searching:\n",
        "      #print(f\"current_position: {current_position}\")\n",
        "      #search cell\n",
        "      query = search_cell(current_position)\n",
        "      if query:\n",
        "          #print(f\"Found target at {current_position}\")\n",
        "          searching = False\n",
        "          break\n",
        "      count += 1\n",
        "      #update belief\n",
        "      for i in range(dimension):\n",
        "          for j in range(dimension):\n",
        "              if i == current_position[0] and j == current_position[1]:\n",
        "                  continue\n",
        "              #Bayes Theorem\n",
        "              calculated_belief = bayes_theorem(current_position, (i,j), belief)\n",
        "              belief[i][j] = calculated_belief #update belief\n",
        "              belief_find[i][j] = belief[i][j]*(1-env[i][j].prob_not_found) #update belief_find\n",
        "\n",
        "      belief[current_position[0]][current_position[1]] = bayes_current(current_position, belief)\n",
        "      belief_find[current_position[0]][current_position[1]] = belief[current_position[0]][current_position[1]]*(1-env[current_position[0]][current_position[1]].prob_not_found)\n",
        "      for i in range(dimension):\n",
        "          for j in range(dimension):\n",
        "            belief_find[i][j] = belief_find[i][j]/sum(sum(belief_find))\n",
        "      #print(belief)\n",
        "      \n",
        "      #choose next position\n",
        "      max_belief = 0\n",
        "      total_belief = belief[current_position[0]][current_position[1]] + belief_find[current_position[0]][current_position[1]]\n",
        "      for i in get_valid_neighbors(current_position):\n",
        "          total_belief += (belief[i[0]][i[1]] + belief_find[i[0]][i[1]])\n",
        "          if (belief[i[0]][i[1]] + belief_find[i[0]][i[1]]) > max_belief:\n",
        "              max_belief = (belief[i[0]][i[1]] + belief_find[i[0]][i[1]])\n",
        "              current_position = i\n",
        "      #print(f\"sum of belief: {total_belief}\")\n",
        "      #print(f\"sum of belief: {sum(sum(belief))}\")\n",
        "      #print(f\"sum of belief: {sum(sum(belief_find))}\")\n",
        "      #print()\n",
        "\n",
        "  return count"
      ],
      "execution_count": 42,
      "outputs": []
    },
    {
      "cell_type": "code",
      "metadata": {
        "colab": {
          "base_uri": "https://localhost:8080/"
        },
        "id": "-e_Kb-RPAFNP",
        "outputId": "5eae1fa5-7491-47cf-f42a-dd590a38887a"
      },
      "source": [
        "path = improved_agent(dimension, env)\n",
        "print(path)"
      ],
      "execution_count": 31,
      "outputs": [
        {
          "output_type": "stream",
          "text": [
            "Found target at (0, 0)\n",
            "22\n"
          ],
          "name": "stdout"
        }
      ]
    },
    {
      "cell_type": "markdown",
      "metadata": {
        "id": "lgEl_RGLB7pa"
      },
      "source": [
        "# **Agent Averages**"
      ]
    },
    {
      "cell_type": "markdown",
      "metadata": {
        "id": "GM-A-bYjDjgD"
      },
      "source": [
        "**Average for Basic Agent 1**"
      ]
    },
    {
      "cell_type": "code",
      "metadata": {
        "id": "Lx3RDjBVCCc5",
        "colab": {
          "base_uri": "https://localhost:8080/"
        },
        "outputId": "7cd00d41-3abe-4bd9-8b8f-271b15b4767e"
      },
      "source": [
        "num_searches = []\n",
        "\n",
        "for i in range(30):\n",
        "  dimension = 10\n",
        "  env = [[] for i in range(dimension)] # create a list of empty lists\n",
        "  cell_type = \"\"\n",
        "  prob_not_found = 0\n",
        "  for i in range(dimension):\n",
        "      for j in range(dimension):\n",
        "          p = rand.random()\n",
        "          if p < 0.25:\n",
        "              cell_type = \"flat\"\n",
        "              prob_not_found = 0.1\n",
        "          elif p <0.50:\n",
        "              cell_type = \"hilly\"\n",
        "              prob_not_found = 0.3\n",
        "          elif p <0.75:\n",
        "              cell_type = \"forested\"\n",
        "              prob_not_found = 0.7\n",
        "          else:\n",
        "              cell_type = \"maze of caves\"\n",
        "              prob_not_found = 0.9\n",
        "          env[i].append(Cell(cell_type, prob_not_found))\n",
        "  x = np.random.randint(0,dimension)\n",
        "  y = np.random.randint(0,dimension)\n",
        "  env[x][y].target = 1\n",
        "  #print((x,y))\n",
        "  num_searches.append(basic_1(dimension, env))\n",
        "\n",
        "average_basic_agent_1 = sum(num_searches)/len(num_searches) \n",
        "#print()\n",
        "print(average_basic_agent_1) "
      ],
      "execution_count": 48,
      "outputs": [
        {
          "output_type": "stream",
          "text": [
            "348.8666666666667\n"
          ],
          "name": "stdout"
        }
      ]
    },
    {
      "cell_type": "markdown",
      "metadata": {
        "id": "pj-t4wuXGln_"
      },
      "source": [
        "**Average for Basic Agent 2**"
      ]
    },
    {
      "cell_type": "code",
      "metadata": {
        "colab": {
          "base_uri": "https://localhost:8080/"
        },
        "id": "AR4CRlhNGloC",
        "outputId": "76fd8e47-8541-47be-ea0a-46b3415043e4"
      },
      "source": [
        "num_searches = []\n",
        "\n",
        "for i in range(30):\n",
        "  dimension = 10\n",
        "  env = [[] for i in range(dimension)] # create a list of empty lists\n",
        "  cell_type = \"\"\n",
        "  prob_not_found = 0\n",
        "  for i in range(dimension):\n",
        "      for j in range(dimension):\n",
        "          p = rand.random()\n",
        "          if p < 0.25:\n",
        "              cell_type = \"flat\"\n",
        "              prob_not_found = 0.1\n",
        "          elif p <0.50:\n",
        "              cell_type = \"hilly\"\n",
        "              prob_not_found = 0.3\n",
        "          elif p <0.75:\n",
        "              cell_type = \"forested\"\n",
        "              prob_not_found = 0.7\n",
        "          else:\n",
        "              cell_type = \"maze of caves\"\n",
        "              prob_not_found = 0.9\n",
        "          env[i].append(Cell(cell_type, prob_not_found))\n",
        "  x = np.random.randint(0,dimension)\n",
        "  y = np.random.randint(0,dimension)\n",
        "  env[x][y].target = 1\n",
        "  #print((x,y))\n",
        "  num_searches.append(basic_2(dimension, env))\n",
        "\n",
        "average_basic_agent_2 = sum(num_searches)/len(num_searches) \n",
        "#print()\n",
        "print(average_basic_agent_2) "
      ],
      "execution_count": 44,
      "outputs": [
        {
          "output_type": "stream",
          "text": [
            "407.6333333333333\n"
          ],
          "name": "stdout"
        }
      ]
    },
    {
      "cell_type": "markdown",
      "metadata": {
        "id": "8pTVvyB5GmC_"
      },
      "source": [
        "**Average for Improved Agent**"
      ]
    },
    {
      "cell_type": "code",
      "metadata": {
        "id": "dwkmMc33GmDA",
        "colab": {
          "base_uri": "https://localhost:8080/"
        },
        "outputId": "a1e8a29a-0dd6-46f1-eb30-57d6d5e0c034"
      },
      "source": [
        "num_searches = []\n",
        "\n",
        "for i in range(10):\n",
        "  dimension = 10\n",
        "  env = [[] for i in range(dimension)] # create a list of empty lists\n",
        "  cell_type = \"\"\n",
        "  prob_not_found = 0\n",
        "  for i in range(dimension):\n",
        "      for j in range(dimension):\n",
        "          p = rand.random()\n",
        "          if p < 0.25:\n",
        "              cell_type = \"flat\"\n",
        "              prob_not_found = 0.1\n",
        "          elif p <0.50:\n",
        "              cell_type = \"hilly\"\n",
        "              prob_not_found = 0.3\n",
        "          elif p <0.75:\n",
        "              cell_type = \"forested\"\n",
        "              prob_not_found = 0.7\n",
        "          else:\n",
        "              cell_type = \"maze of caves\"\n",
        "              prob_not_found = 0.9\n",
        "          env[i].append(Cell(cell_type, prob_not_found))\n",
        "  x = np.random.randint(0,dimension)\n",
        "  y = np.random.randint(0,dimension)\n",
        "  env[x][y].target = 1\n",
        "  #print((x,y))\n",
        "  num_searches.append(improved_agent(dimension, env))\n",
        "\n",
        "average_improved_agent = sum(num_searches)/len(num_searches) \n",
        "#print()\n",
        "print(average_improved_agent) "
      ],
      "execution_count": 49,
      "outputs": [
        {
          "output_type": "stream",
          "text": [
            "215.5\n"
          ],
          "name": "stdout"
        }
      ]
    }
  ]
}