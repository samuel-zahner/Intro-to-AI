{
  "nbformat": 4,
  "nbformat_minor": 0,
  "metadata": {
    "colab": {
      "name": "FireMaze_final.ipynb",
      "provenance": [],
      "include_colab_link": true
    },
    "kernelspec": {
      "display_name": "Python 3",
      "language": "python",
      "name": "python3"
    },
    "language_info": {
      "codemirror_mode": {
        "name": "ipython",
        "version": 3
      },
      "file_extension": ".py",
      "mimetype": "text/x-python",
      "name": "python",
      "nbconvert_exporter": "python",
      "pygments_lexer": "ipython3",
      "version": "3.8.3"
    }
  },
  "cells": [
    {
      "cell_type": "markdown",
      "metadata": {
        "id": "view-in-github",
        "colab_type": "text"
      },
      "source": [
        "<a href=\"https://colab.research.google.com/github/samuel-zahner/Intro-to-AI/blob/main/FireMaze_final.ipynb\" target=\"_parent\"><img src=\"https://colab.research.google.com/assets/colab-badge.svg\" alt=\"Open In Colab\"/></a>"
      ]
    },
    {
      "cell_type": "code",
      "metadata": {
        "id": "n2Th1OCQJBkL"
      },
      "source": [
        "#%matplotlib inlin\n",
        "import matplotlib.pyplot as plt\n",
        "import matplotlib.animation as animation\n",
        "from IPython.display import HTML\n",
        "import numpy as np\n",
        "import random\n",
        "import heapq\n",
        "import timeit\n",
        "import time as tm\n"
      ],
      "execution_count": null,
      "outputs": []
    },
    {
      "cell_type": "markdown",
      "metadata": {
        "id": "tggsy1JjJBkR"
      },
      "source": [
        "## Code for Plotting"
      ]
    },
    {
      "cell_type": "code",
      "metadata": {
        "id": "vgFztEOnJBkS"
      },
      "source": [
        "#** code for plotting **\n",
        "\n",
        "step_size = 10\n",
        "start_color = np.array([0,0,255]) #blue\n",
        "goal_color = np.array([0,255,0]) #green\n",
        "obstacle_color = np.array([0,0,0])#black\n",
        "neighbor_color = np.array([220,220,220])#gray\n",
        "fringe_color = np.array([128,128,128])#yellow\n",
        "fire_color = np.array([255,0,0])#red\n",
        "node_color = np.array([255,165,0])#orange\n",
        "\n",
        "#plotting obstacles in maze given a set\n",
        "def plot_obstacle(obstacle_set, dim):\n",
        "    fig = plt.figure()\n",
        "\n",
        "    prob_map = np.zeros((step_size*dim,step_size*dim,3)).astype(int) + 255\n",
        "    # add grid\n",
        "    prob_map[step_size-1::step_size,:,:] = 0\n",
        "    prob_map[:,step_size-1::step_size,:] = 0\n",
        "\n",
        "    \n",
        "    #setting specific grid boxes to their color\n",
        "    prob_map[0:step_size-1,:step_size-1] = start_color\n",
        "    prob_map[step_size*(dim-1):step_size*(dim-1)+step_size-1,step_size*(dim-1):step_size*(dim-1)+step_size-1] = goal_color\n",
        "    plt.xticks([], [])\n",
        "    plt.yticks([], [])\n",
        "    \n",
        "    for i in range(dim):\n",
        "        for j in range(dim):\n",
        "            if (i,j) in obstacle_set:\n",
        "                prob_map[step_size*i:step_size*i + step_size-1, step_size*j:step_size*j + step_size-1] = obstacle_color\n",
        "    plt.imshow(prob_map)\n",
        "    \n",
        "#setting the color for a specific node\n",
        "def node_plot(prob_map, node, color, alpha=1.0):\n",
        "    prob_map[node[0]*step_size:node[0]*step_size+step_size-1,node[1]*step_size:node[1]*step_size+step_size-1] = color*alpha\n",
        "    \n",
        "\n",
        "#plot the given path from start to goal\n",
        "def path_plot(path, dim, obstacle_set):\n",
        "    # plot given the info as listed \n",
        "    prob_map = np.zeros((step_size*dim,step_size*dim,3)).astype(int) + 255\n",
        "    # add grid\n",
        "    prob_map[step_size-1::step_size,:,:] = 0\n",
        "    prob_map[:,step_size-1::step_size,:] = 0\n",
        "    \n",
        "    for i in range(dim):\n",
        "        for j in range(dim):\n",
        "            if (i,j) in obstacle_set:\n",
        "                prob_map[step_size*i:step_size*i + step_size-1, step_size*j:step_size*j + step_size-1] = obstacle_color\n",
        "    \n",
        "    #plot path nodes through node_plot()\n",
        "    for i in range(len(path)):\n",
        "        node = path[i]\n",
        "        node_plot(prob_map, node, node_color, alpha=i/len(path)+1.0)\n",
        "\n",
        "    prob_map[0:step_size-1,:step_size-1] = start_color\n",
        "    prob_map[step_size*(dim-1):step_size*(dim-1)+step_size-1,step_size*(dim-1):step_size*(dim-1)+step_size-1] = goal_color\n",
        "\n",
        "\n",
        "    plt.xticks([], [])\n",
        "    plt.yticks([], [])\n",
        "\n",
        "    img = plt.imshow(prob_map)\n",
        "    return img"
      ],
      "execution_count": null,
      "outputs": []
    },
    {
      "cell_type": "markdown",
      "metadata": {
        "id": "hNZ-fXmVJBkS"
      },
      "source": [
        "## DFS"
      ]
    },
    {
      "cell_type": "code",
      "metadata": {
        "id": "jjEUn0fPJBkT"
      },
      "source": [
        "#Depth first search algorithm\n",
        "#returns boolean of whether there is a path \n",
        "def dfs_search(dim, obstacle_set):\n",
        "    transitions = [(0,-1),(-1,0),(0,1),(1,0)]\n",
        "    start = (0,0)\n",
        "    goal = (dim-1, dim-1)\n",
        "    explored_spaces = set([])\n",
        "    fringe = [(start, [])] #fringe keeps track of the path taken to get to each node\n",
        "    win_flag = False\n",
        "\n",
        "    \n",
        "    while len(fringe) > 0:\n",
        "        node, path = fringe.pop(-1)#pop most recently added node\n",
        "    \n",
        "        #do not append to path if node is in explored_spaces or obstacle_set\n",
        "        if node in explored_spaces:\n",
        "            continue\n",
        "        if node in obstacle_set:\n",
        "            continue\n",
        "        \n",
        "        #append node to path\n",
        "        path.append(node)\n",
        "    \n",
        "        if node[0] == goal[0] and node[1] == goal[1]:\n",
        "            #print(\"You have found the goal\")\n",
        "            win_flag = True\n",
        "            break\n",
        "        \n",
        "        #expand all of the neighbors of current node and add to fringe\n",
        "        for i in range(len(transitions)):\n",
        "            dy, dx = transitions[i]\n",
        "        \n",
        "            x = node[0] + dx\n",
        "            y = node[1] + dy\n",
        "            \n",
        "            #check if node is valid\n",
        "            if x < 0 or y < 0 or x > dim-1 or y > dim-1:\n",
        "                continue\n",
        "            if (x,y) in explored_spaces:\n",
        "                continue\n",
        "            if (x,y) in obstacle_set:\n",
        "                continue\n",
        "            if (x,y) not in fringe:\n",
        "                fringe.append(((x,y), path[:]))\n",
        "    \n",
        "        explored_spaces.add(node)\n",
        "        \n",
        "    if win_flag == False:\n",
        "        #print(\"There is no path from start to goal\")\n",
        "        return False\n",
        "    \n",
        "    #print(\"Path length: \" + str(len(path)-1))\n",
        "    #path_plot(path, dim, fire_set)\n",
        "    return True"
      ],
      "execution_count": null,
      "outputs": []
    },
    {
      "cell_type": "markdown",
      "metadata": {
        "id": "Cda6_ExkJBkT"
      },
      "source": [
        "## BFS"
      ]
    },
    {
      "cell_type": "code",
      "metadata": {
        "id": "LGoUSXKEJBkT"
      },
      "source": [
        "#Breadth First Search algorithm\n",
        "#Returns boolean of whether there is a path and the number of nodes it explored\n",
        "def bfs_search(dim, obstacle_set):\n",
        "    transitions = [(0,-1),(-1,0),(0,1),(1,0)]\n",
        "    start = (0,0)\n",
        "    goal = (dim-1, dim-1)\n",
        "    explored_spaces = set([])\n",
        "    fringe = [(start, [])]\n",
        "    win_flag = False\n",
        "    num_explored = 0\n",
        "\n",
        "\n",
        "    while len(fringe) > 0:\n",
        "        node, shortest_path = fringe.pop(0)#pop the first element added to the fringe\n",
        "        \n",
        "        #check if node is valid\n",
        "        if node in explored_spaces:\n",
        "            continue\n",
        "        if node in obstacle_set:\n",
        "            continue\n",
        "            \n",
        "        #append node to path\n",
        "        shortest_path.append(node)\n",
        "        \n",
        "        #increase counter to keep track of total nodes explored\n",
        "        num_explored += 1\n",
        "        if node[0] == goal[0] and node[1] == goal[1]:\n",
        "            #print(\"You have found the goal\")\n",
        "            win_flag = True\n",
        "            break\n",
        "\n",
        "        #expand neighbors and add to fringe\n",
        "        for i in range(len(transitions)):\n",
        "            dy, dx = transitions[i]\n",
        "        \n",
        "            x = node[0] + dx\n",
        "            y = node[1] + dy\n",
        "        \n",
        "            #check if neighbor is valid\n",
        "            if x < 0 or y < 0 or x > dim-1 or y > dim-1:\n",
        "                continue\n",
        "            if (x,y) in explored_spaces:\n",
        "                continue\n",
        "            if (x,y) in obstacle_set:\n",
        "                continue\n",
        "            if (x,y) not in fringe:\n",
        "                fringe.append(((x,y), shortest_path[:]))\n",
        "       \n",
        "    \n",
        "        explored_spaces.add(node)\n",
        "        \n",
        "    if win_flag == False:\n",
        "        #print(\"There is no path from start to goal\")\n",
        "        return (False, num_explored)\n",
        "    \n",
        "    \n",
        "    #print(\"Shortest path: \" + str(len(shortest_path)-1))\n",
        "    #path_plot(shortest_path, dim, fire_set)\n",
        "    return (True, num_explored)"
      ],
      "execution_count": null,
      "outputs": []
    },
    {
      "cell_type": "markdown",
      "metadata": {
        "id": "v0oZb5ErJBkU"
      },
      "source": [
        "## A*"
      ]
    },
    {
      "cell_type": "code",
      "metadata": {
        "id": "cNMSFOpTJBkU"
      },
      "source": [
        "#helper method to calculate euclidean heuristic\n",
        "def euclidean(start,end):\n",
        "    #print(start, end)\n",
        "    distance = ((end[0]-start[0])**2 + (end[1]-start[1])**2)**0.5\n",
        "    return distance"
      ],
      "execution_count": null,
      "outputs": []
    },
    {
      "cell_type": "code",
      "metadata": {
        "id": "84ITZDlPJBkU"
      },
      "source": [
        "#A* search\n",
        "#returns boolean if there is a path and number of nodes it explored\n",
        "def A_search(dim, obstacle_set):\n",
        "    transitions = [(0,-1),(-1,0),(0,1),(1,0)]\n",
        "    start = (0,0)\n",
        "    goal = (dim-1, dim-1)\n",
        "    explored_spaces = set([])\n",
        "    #fringe is a heap, sorted by the least heuristic\n",
        "    #heuristic = distance traveled so far + euclidean estimate\n",
        "    fringe = [(euclidean(start,goal), 0, start, [])]\n",
        "    heapq.heapify(fringe)\n",
        "    win_flag = False\n",
        "    num_explored = 0\n",
        "\n",
        "\n",
        "    while len(fringe) > 0:\n",
        "        #print(fringe)\n",
        "        heuristic, distance, node, path = heapq.heappop(fringe)#pop the minimum value from the fringe\n",
        "        \n",
        "        #check if node is valid\n",
        "        if node in explored_spaces:\n",
        "            continue\n",
        "        if node in obstacle_set:\n",
        "            continue\n",
        "            \n",
        "        path.append(node)#append to path \n",
        "        \n",
        "        num_explored += 1\n",
        "        if node[0] == goal[0] and node[1] == goal[1]:\n",
        "            #print(\"You have found the goal\")\n",
        "            win_flag = True\n",
        "            break\n",
        "        \n",
        "        #for each new node popped, increase the distance traveled by 1\n",
        "        distance += 1\n",
        "        #expand neighbors and add to fringe\n",
        "        for i in range(len(transitions)):\n",
        "            dy, dx = transitions[i]\n",
        "        \n",
        "            x = node[0] + dx\n",
        "            y = node[1] + dy\n",
        "            \n",
        "            #check if valid\n",
        "            if x < 0 or y < 0 or x > dim-1 or y > dim-1:\n",
        "                continue\n",
        "            if (x,y) in explored_spaces:\n",
        "                continue\n",
        "            if (x,y) in obstacle_set:\n",
        "                continue\n",
        "            if (x,y) not in fringe:\n",
        "                #heappush pushes to the fringe while keeping the heap intact\n",
        "                heapq.heappush(fringe, (distance + euclidean((x,y),goal), distance, (x,y), path[:]))\n",
        "       \n",
        "        explored_spaces.add(node)\n",
        "        \n",
        "    if win_flag == False:\n",
        "        #print(\"There is no path from start to goal\")\n",
        "        return (False, num_explored)\n",
        "    \n",
        "    \n",
        "    #print(\"A* path: \" + str(len(path)-1))\n",
        "    #path_plot(path, dim, fire_set)\n",
        "    return (True, num_explored)"
      ],
      "execution_count": null,
      "outputs": []
    },
    {
      "cell_type": "markdown",
      "metadata": {
        "id": "iCymtsDfJBkV"
      },
      "source": [
        "## Plot Obstacle Maze"
      ]
    },
    {
      "cell_type": "code",
      "metadata": {
        "colab": {
          "base_uri": "https://localhost:8080/",
          "height": 286
        },
        "id": "E1mnfzGEJBkW",
        "outputId": "3f5b6c11-be45-4d86-df85-13b677256853"
      },
      "source": [
        "#take input from user\n",
        "while True:\n",
        "    try:\n",
        "        dim = int(input(\"Enter dimension of maze: \"))\n",
        "        if dim < 3:\n",
        "            raise ValueError #this will send it to the print message and back to the input option\n",
        "        break\n",
        "    except ValueError:\n",
        "        print(\"Invalid integer. Dimension must be at least 3.\")\n",
        "\n",
        "while True:\n",
        "    try:\n",
        "        p = float(input(\"Enter probability of obstacles: \"))\n",
        "        if p < 0 or p > 1:\n",
        "            raise ValueError #this will send it to the print message and back to the input option\n",
        "        break\n",
        "    except ValueError:\n",
        "        print(\"Invalid integer. Probability must be in the range (0,1).\")\n",
        "\n",
        "\n",
        "\n",
        "#print(dim)\n",
        "#print(p)\n",
        "\n",
        "#add to obstacle set\n",
        "obstacle_set = set([])\n",
        "for i in range(dim):\n",
        "    for j in range(dim):\n",
        "        if i == 0 and j == 0 or i == dim-1 and j == dim-1:\n",
        "            continue\n",
        "        if random.uniform(0,1) < p:\n",
        "            obstacle_set.add((i,j))\n",
        "            \n",
        "plot_obstacle(obstacle_set, dim)\n",
        "\n"
      ],
      "execution_count": null,
      "outputs": [
        {
          "output_type": "stream",
          "text": [
            "Enter dimension of maze: 10\n",
            "Enter probability of obstacles: .2\n"
          ],
          "name": "stdout"
        },
        {
          "output_type": "display_data",
          "data": {
            "image/png": "[encoded data removed]",
            "text/plain": [
              "<Figure size 432x288 with 1 Axes>"
            ]
          },
          "metadata": {
            "tags": []
          }
        }
      ]
    },
    {
      "cell_type": "code",
      "metadata": {
        "colab": {
          "base_uri": "https://localhost:8080/"
        },
        "id": "7L6BoTbKJBkX",
        "outputId": "969be8f8-8987-463f-e84b-8e64a723dc9d"
      },
      "source": [
        "#DFS\n",
        "dfs_search(dim, obstacle_set)"
      ],
      "execution_count": null,
      "outputs": [
        {
          "output_type": "execute_result",
          "data": {
            "text/plain": [
              "True"
            ]
          },
          "metadata": {
            "tags": []
          },
          "execution_count": 15
        }
      ]
    },
    {
      "cell_type": "code",
      "metadata": {
        "colab": {
          "base_uri": "https://localhost:8080/"
        },
        "id": "Vj3UJTqfJBkX",
        "outputId": "6a353097-9ce2-43ed-fc6c-bc169297e287"
      },
      "source": [
        "#BFS\n",
        "print(bfs_search(dim, obstacle_set))"
      ],
      "execution_count": null,
      "outputs": [
        {
          "output_type": "stream",
          "text": [
            "(True, 68)\n"
          ],
          "name": "stdout"
        }
      ]
    },
    {
      "cell_type": "code",
      "metadata": {
        "colab": {
          "base_uri": "https://localhost:8080/"
        },
        "id": "qOFGKiFpJBkY",
        "outputId": "b0458e8e-569d-493a-e34d-3ea566aa24c2"
      },
      "source": [
        "#A*\n",
        "print(A_search(dim, obstacle_set))"
      ],
      "execution_count": null,
      "outputs": [
        {
          "output_type": "stream",
          "text": [
            "(True, 58)\n"
          ],
          "name": "stdout"
        }
      ]
    },
    {
      "cell_type": "markdown",
      "metadata": {
        "id": "sg-fIfTiJBkY"
      },
      "source": [
        "## DFS Probability Density Chart"
      ]
    },
    {
      "cell_type": "code",
      "metadata": {
        "colab": {
          "base_uri": "https://localhost:8080/",
          "height": 296
        },
        "id": "GwabG6n8JBkY",
        "outputId": "01091f03-87fd-4d4f-eff9-5f54745b96cf"
      },
      "source": [
        "#Probability Density Chart for DFS\n",
        "success = 0\n",
        "probabilities = []\n",
        "success_percentage = []\n",
        "dim = 80 #max dimension set to 80 X 80\n",
        "for p in np.arange(0,1,0.01):\n",
        "  success = 0\n",
        "  #get 50 examples for each value of p\n",
        "  for count in range(50):\n",
        "    obstacle_set = set([])\n",
        "    #get new obstacle_set\n",
        "    for i in range(dim):\n",
        "        for j in range(dim):\n",
        "            if i == 0 and j == 0 or i == dim-1 and j == dim-1:\n",
        "                continue\n",
        "            if random.uniform(0,1) < p:\n",
        "                obstacle_set.add((i,j))\n",
        "    #determine if success or not\n",
        "    if dfs_search(dim, obstacle_set) == True:\n",
        "      success += 1\n",
        "  probabilities.append(p)  \n",
        "  success_percentage.append(success/50)\n",
        "\n",
        "#plot results\n",
        "plt.plot(probabilities, success_percentage)\n",
        "plt.ylabel(\"probability S can be reached from G\")\n",
        "plt.xlabel(\"obstacle density p\")\n"
      ],
      "execution_count": null,
      "outputs": [
        {
          "output_type": "execute_result",
          "data": {
            "text/plain": [
              "Text(0.5, 0, 'obstacle density p')"
            ]
          },
          "metadata": {
            "tags": []
          },
          "execution_count": 14
        },
        {
          "output_type": "display_data",
          "data": {
            "image/png": "[encoded data removed]",
            "text/plain": [
              "<Figure size 432x288 with 1 Axes>"
            ]
          },
          "metadata": {
            "tags": [],
            "needs_background": "light"
          }
        }
      ]
    },
    {
      "cell_type": "markdown",
      "metadata": {
        "id": "OU7u3F6OJBkY"
      },
      "source": [
        "## A* and BFS number of nodes explored chart"
      ]
    },
    {
      "cell_type": "code",
      "metadata": {
        "colab": {
          "base_uri": "https://localhost:8080/",
          "height": 375
        },
        "id": "SNiDCnAyJBkZ",
        "outputId": "3225a1af-b40c-4964-e6f9-3a4fb8066b2e"
      },
      "source": [
        "#A* and BFS chart\n",
        "\n",
        "counter = 0\n",
        "probabilities = []\n",
        "explored_spaces = []\n",
        "dim = 80 #max dimension set to 80 X 80\n",
        "for p in np.arange(0,1,0.01):\n",
        "  counter = 0\n",
        "  #50 examples for each value of p\n",
        "  for count in range(50):\n",
        "    obstacle_set = set([])\n",
        "    #get new obstacles\n",
        "    for i in range(dim):\n",
        "        for j in range(dim):\n",
        "            if i == 0 and j == 0 or i == dim-1 and j == dim-1:\n",
        "                continue\n",
        "            if random.uniform(0,1) < p:\n",
        "                obstacle_set.add((i,j))\n",
        "    #subtract BFS - A* for number of nodes explored            \n",
        "    counter += (int(bfs_search(dim, obstacle_set)[1]) - int(A_search(dim, obstacle_set)[1]))\n",
        "            \n",
        "    #print(bfs_search(dim, obstacle_set)[1])\n",
        "    #print(A_search(dim, obstacle_set)[1])\n",
        "    #print(counter)\n",
        "      \n",
        "  probabilities.append(p)  \n",
        "  explored_spaces.append(counter/50)\n",
        "\n",
        "#plot results\n",
        "plt.plot(probabilities, explored_spaces)\n",
        "plt.ylabel(\"number nodes explored by BFS - number of nodes explored by A*\")\n",
        "plt.xlabel(\"obstacle density p\")"
      ],
      "execution_count": null,
      "outputs": [
        {
          "output_type": "execute_result",
          "data": {
            "text/plain": [
              "Text(0.5, 0, 'obstacle density p')"
            ]
          },
          "metadata": {
            "tags": []
          },
          "execution_count": 15
        },
        {
          "output_type": "display_data",
          "data": {
            "image/png": "[encoded data removed]",
            "text/plain": [
              "<Figure size 432x288 with 1 Axes>"
            ]
          },
          "metadata": {
            "tags": [],
            "needs_background": "light"
          }
        }
      ]
    },
    {
      "cell_type": "markdown",
      "metadata": {
        "id": "oVEdl2b0e0NJ"
      },
      "source": [
        "## Problem 4"
      ]
    },
    {
      "cell_type": "code",
      "metadata": {
        "colab": {
          "base_uri": "https://localhost:8080/"
        },
        "id": "6qaDa--wnXcZ",
        "outputId": "cb7acc17-4d6d-4512-c325-73cfda6932f7"
      },
      "source": [
        "#Timing DFS\r\n",
        "dim = 8000\r\n",
        "obstacle_set = set([])\r\n",
        "for i in range(dim):\r\n",
        "    for j in range(dim):\r\n",
        "        if i == 0 and j == 0 or i == dim-1 and j == dim-1:\r\n",
        "            continue\r\n",
        "        if random.uniform(0,1) < .3:\r\n",
        "            obstacle_set.add((i,j))\r\n",
        "start_ = tm.time()\r\n",
        "dfs_search(dim, obstacle_set)\r\n",
        "end = tm.time()\r\n",
        "print(end-start_)"
      ],
      "execution_count": null,
      "outputs": [
        {
          "output_type": "stream",
          "text": [
            "55.55554485321045\n"
          ],
          "name": "stdout"
        }
      ]
    },
    {
      "cell_type": "markdown",
      "metadata": {
        "id": "T4sxi8PIpo5K"
      },
      "source": [
        "10000 --> 99.1225\r\n",
        "\r\n",
        "9000 --> 78.365\r\n",
        "\r\n",
        "8000 --> 55.556"
      ]
    },
    {
      "cell_type": "code",
      "metadata": {
        "id": "j1NWk4exeseC"
      },
      "source": [
        "#Timing DFS\n",
        "time_ = 0\n",
        "dim = 12000\n",
        "while time_ <= 60:\n",
        "  dim += 1\n",
        "  obstacle_set = set([])\n",
        "  for i in range(dim):\n",
        "      for j in range(dim):\n",
        "          if i == 0 and j == 0 or i == dim-1 and j == dim-1:\n",
        "              continue\n",
        "          if random.uniform(0,1) < .3:\n",
        "              obstacle_set.add((i,j))\n",
        "  print(dim)\n",
        "  start_ = tm.time()\n",
        "  dfs_search(dim, obstacle_set)\n",
        "  end_ = tm.time()\n",
        "  time = end - start\n",
        "  print('time:  ',time)\n",
        "print(\"time taken:  \", time)\n",
        "print(\"dim size:   \",dim-1)"
      ],
      "execution_count": null,
      "outputs": []
    },
    {
      "cell_type": "code",
      "metadata": {
        "colab": {
          "base_uri": "https://localhost:8080/"
        },
        "id": "J5j0GWjRtwGZ",
        "outputId": "c3182b1c-9252-4671-ff9b-e88b2e24ebb3"
      },
      "source": [
        "#Timing BFS\r\n",
        "dim = 1150\r\n",
        "obstacle_set = set([])\r\n",
        "for i in range(dim):\r\n",
        "    for j in range(dim):\r\n",
        "        if i == 0 and j == 0 or i == dim-1 and j == dim-1:\r\n",
        "            continue\r\n",
        "        if random.uniform(0,1) < .3:\r\n",
        "            obstacle_set.add((i,j))\r\n",
        "start_ = tm.time()\r\n",
        "bfs_search(dim, obstacle_set)\r\n",
        "end = tm.time()\r\n",
        "print(end-start_)"
      ],
      "execution_count": null,
      "outputs": [
        {
          "output_type": "stream",
          "text": [
            "59.50907802581787\n"
          ],
          "name": "stdout"
        }
      ]
    },
    {
      "cell_type": "markdown",
      "metadata": {
        "id": "AslASfput7Ft"
      },
      "source": [
        "1150 --> 58.9778"
      ]
    },
    {
      "cell_type": "code",
      "metadata": {
        "colab": {
          "base_uri": "https://localhost:8080/"
        },
        "id": "88iVoVUECA8W",
        "outputId": "e89ee10b-92d5-46e8-daa2-40cbf280042c"
      },
      "source": [
        "#Timing A*\n",
        "dim = 900\n",
        "obstacle_set = set([])\n",
        "for i in range(dim):\n",
        "    for j in range(dim):\n",
        "        if i == 0 and j == 0 or i == dim-1 and j == dim-1:\n",
        "            continue\n",
        "        if random.uniform(0,1) < .3:\n",
        "            obstacle_set.add((i,j))\n",
        "start_ = tm.time()\n",
        "A_search(dim, obstacle_set)\n",
        "end = tm.time()\n",
        "print(end-start_)"
      ],
      "execution_count": null,
      "outputs": [
        {
          "output_type": "stream",
          "text": [
            "52.68498229980469\n"
          ],
          "name": "stdout"
        }
      ]
    },
    {
      "cell_type": "markdown",
      "metadata": {
        "id": "IYxQHfYsCSjb"
      },
      "source": [
        "900 --> 52.6849"
      ]
    },
    {
      "cell_type": "markdown",
      "metadata": {
        "id": "oWPP2J1WJBkZ"
      },
      "source": [
        "## Advancing fire by flammability"
      ]
    },
    {
      "cell_type": "code",
      "metadata": {
        "id": "CIH6vpq1JBkZ"
      },
      "source": [
        "#Add Fire to maze\n",
        "def advance_fire_one_step(obstacle_set, fire_set,dim,q):\n",
        "    for i in range(dim):\n",
        "        for j in range(dim):\n",
        "            node = (i,j)\n",
        "            if node not in obstacle_set and node not in fire_set:\n",
        "                count = 0\n",
        "                if (node[0]+1,node[1]) in fire_set and node[0]+1 < dim:\n",
        "                    count += 1\n",
        "                if (node[0]-1,node[1]) in fire_set and node[0]+1 > -1:\n",
        "                    count += 1\n",
        "                if (node[0],node[1]+1) in fire_set and node[1]+1 < dim:\n",
        "                    count += 1\n",
        "                if (node[0],node[1]-1) in fire_set and node[1]+1 > -1:\n",
        "                    count += 1\n",
        "                prob = 1 - (1-q)**count\n",
        "                if random.uniform(0,1) <= prob:\n",
        "                    fire_set.add((i,j)) #append node to fire_set\n",
        "    return fire_set"
      ],
      "execution_count": null,
      "outputs": []
    },
    {
      "cell_type": "code",
      "metadata": {
        "id": "B0o6LrInJBkZ"
      },
      "source": [
        "#plot path with fire and obstacles\n",
        "def path_fire_plot(path, dim, obstacle_set, fire_set):\n",
        "    # plot given the info as listed \n",
        "    #fig = plt.figure()\n",
        "    prob_map = np.zeros((step_size*dim,step_size*dim,3)).astype(int) + 255\n",
        "    # add grid\n",
        "    prob_map[step_size-1::step_size,:,:] = 0\n",
        "    prob_map[:,step_size-1::step_size,:] = 0\n",
        "    \n",
        "    for i in range(dim):\n",
        "        for j in range(dim):\n",
        "            if (i,j) in obstacle_set:\n",
        "                prob_map[step_size*i:step_size*i + step_size-1, step_size*j:step_size*j + step_size-1] = obstacle_color\n",
        "    for i in range(dim):\n",
        "        for j in range(dim):\n",
        "            if (i,j) in fire_set:\n",
        "                prob_map[step_size*i:step_size*i + step_size-1, step_size*j:step_size*j + step_size-1] = fire_color\n",
        "    for i in range(len(path)):\n",
        "        node = path[i]\n",
        "        node_plot(prob_map, node, node_color, alpha=i/len(path)+1.0)\n",
        "\n",
        "    prob_map[0:step_size-1,:step_size-1] = start_color\n",
        "    prob_map[step_size*(dim-1):step_size*(dim-1)+step_size-1,step_size*(dim-1):step_size*(dim-1)+step_size-1] = goal_color\n",
        "\n",
        "\n",
        "    plt.xticks([], [])\n",
        "    plt.yticks([], [])\n",
        "\n",
        "    img = plt.imshow(prob_map)\n",
        "    return img"
      ],
      "execution_count": null,
      "outputs": []
    },
    {
      "cell_type": "code",
      "metadata": {
        "id": "XHgs4FmGJBkZ"
      },
      "source": [
        "#plot the where the current node is with the obstacles and current state of fire\n",
        "def plot_obstacles_fire(obstacle_set, fire_set, dim, current_node):\n",
        "    fig = plt.figure()\n",
        "\n",
        "    prob_map = np.zeros((step_size*dim,step_size*dim,3)).astype(int) + 255\n",
        "    # add grid\n",
        "    prob_map[step_size-1::step_size,:,:] = 0\n",
        "    prob_map[:,step_size-1::step_size,:] = 0\n",
        "\n",
        "\n",
        "    prob_map[0:step_size-1,:step_size-1] = start_color\n",
        "    prob_map[step_size*(dim-1):step_size*(dim-1)+step_size-1,step_size*(dim-1):step_size*(dim-1)+step_size-1] = goal_color\n",
        "    plt.xticks([], [])\n",
        "    plt.yticks([], [])\n",
        "    \n",
        "    for i in range(dim):\n",
        "        for j in range(dim):\n",
        "            if (i,j) in obstacle_set:\n",
        "                prob_map[step_size*i:step_size*i + step_size-1, step_size*j:step_size*j + step_size-1] = obstacle_color\n",
        "    for i in range(dim):\n",
        "        for j in range(dim):\n",
        "            if (i,j) in fire_set:\n",
        "                prob_map[step_size*i:step_size*i + step_size-1, step_size*j:step_size*j + step_size-1] = fire_color\n",
        "    node_plot(prob_map, current_node, node_color, alpha=1.0)\n",
        "    plt.imshow(prob_map)"
      ],
      "execution_count": null,
      "outputs": []
    },
    {
      "cell_type": "markdown",
      "metadata": {
        "id": "XNpSyznuJBkZ"
      },
      "source": [
        "## STAGE 1 (plan from the start)"
      ]
    },
    {
      "cell_type": "code",
      "metadata": {
        "id": "M-Ple4tuJBka"
      },
      "source": [
        "#STAGE 1\n",
        "#this algorithm is A* \n",
        "#returns path from start to goal\n",
        "def plan(start, goal, obstacle_set, fire_set):\n",
        "    transitions = [(0,-1),(-1,0),(0,1),(1,0)]\n",
        "    explored_spaces = set([])\n",
        "     #fringe is a heap, sorted by the least heuristic\n",
        "    #heuristic = distance traveled so far + euclidean estimate\n",
        "    fringe = [(euclidean(start,goal), 0, start, [])]\n",
        "    heapq.heapify(fringe)\n",
        "    win_flag = False\n",
        "\n",
        "\n",
        "    while len(fringe) > 0:\n",
        "        #print(fringe)\n",
        "        heuristic, distance, node, path = heapq.heappop(fringe)#pops the minimum element\n",
        "        \n",
        "        #check if node is valid\n",
        "        if node in explored_spaces:\n",
        "            continue\n",
        "        if node in obstacle_set:\n",
        "            continue\n",
        "        if node in fire_set:\n",
        "            continue\n",
        "            \n",
        "        path.append(node)#append node to path\n",
        "        if node[0] == goal[0] and node[1] == goal[1]:\n",
        "            #print(\"You have found the goal\")\n",
        "            win_flag = True\n",
        "            break\n",
        "\n",
        "        #for each new node popped, increase the distance traveled by 1\n",
        "        distance += 1\n",
        "        \n",
        "        #expand neighbors and add to fringe\n",
        "        for i in range(len(transitions)):\n",
        "            dy, dx = transitions[i]\n",
        "        \n",
        "            x = node[0] + dx\n",
        "            y = node[1] + dy\n",
        "        \n",
        "            #check if valid\n",
        "            if x < 0 or y < 0 or x > dim-1 or y > dim-1:\n",
        "                continue\n",
        "            if (x,y) in explored_spaces:\n",
        "                continue\n",
        "            if (x,y) in obstacle_set:\n",
        "                continue\n",
        "            if (x,y) in fire_set:\n",
        "                continue\n",
        "            if (x,y) not in fringe:\n",
        "                #heappush pushes to the fringe while keeping the heap intact\n",
        "                heapq.heappush(fringe, (distance + euclidean((x,y),goal), distance, (x,y), path[:]))\n",
        "       \n",
        "        explored_spaces.add(node)\n",
        "        \n",
        "    if win_flag == False:\n",
        "        print(\"There is no path from start to goal\")\n",
        "        return path, win_flag\n",
        "    \n",
        "    \n",
        "    #print(\"A* path: \" + str(len(path)-1))\n",
        "    #path_plot(path, dim, obstacle_set)\n",
        "    return path, win_flag\n",
        "    "
      ],
      "execution_count": null,
      "outputs": []
    },
    {
      "cell_type": "code",
      "metadata": {
        "id": "sqelBEG5JBka"
      },
      "source": [
        "#steps through the planned path \n",
        "#advances the fire each step\n",
        "#prints the result\n",
        "def execute_plan(start, goal, obstacle_set, fire_set, path, dim):\n",
        "    for i in range(len(path)):\n",
        "        fire_set = advance_fire_one_step(obstacle_set, fire_set, dim, q=0.1)#advances the fire\n",
        "        node = path[i]\n",
        "        #check if current node is on fire\n",
        "        if node in fire_set:\n",
        "            print(\"Dead!\")\n",
        "            return\n",
        "        plot_obstacles_fire(obstacle_set, fire_set, dim, node)\n",
        "    print(\"You won!\")"
      ],
      "execution_count": null,
      "outputs": []
    },
    {
      "cell_type": "code",
      "metadata": {
        "colab": {
          "base_uri": "https://localhost:8080/",
          "height": 1000
        },
        "id": "-6PHC_KLJBka",
        "outputId": "ab94c77f-f150-4d1b-8230-a748afbbf61c"
      },
      "source": [
        "obstacle_set = set([])\n",
        "dim = 10\n",
        "for i in range(dim):\n",
        "    for j in range(dim):\n",
        "        if i == 0 and j == 0 or i == dim-1 and j == dim-1:\n",
        "            continue\n",
        "        if random.uniform(0,1) < .3:\n",
        "            obstacle_set.add((i,j))\n",
        "start = (0,0)\n",
        "goal = (dim-1, dim-1)\n",
        "fire_set = set([])\n",
        "fire_set.add((7,2))\n",
        "fire_set.add((4,8))\n",
        "\n",
        "plot_obstacles_fire(obstacle_set, fire_set, dim, (0,0))\n",
        "planned_path, win_flag = plan(start, goal, obstacle_set, fire_set)\n",
        "if(win_flag):\n",
        "    print(\"here\")\n",
        "    execute_plan(start, goal, obstacle_set, fire_set, planned_path, dim)"
      ],
      "execution_count": null,
      "outputs": [
        {
          "output_type": "stream",
          "text": [
            "here\n",
            "You won!\n"
          ],
          "name": "stdout"
        },
        {
          "output_type": "display_data",
          "data": {
            "image/png": "[encoded data removed]",
            "text/plain": [
              "<Figure size 432x288 with 1 Axes>"
            ]
          },
          "metadata": {
            "tags": []
          }
        },
        {
          "output_type": "display_data",
          "data": {
            "image/png": "[encoded data removed]",
            "text/plain": [
              "<Figure size 432x288 with 1 Axes>"
            ]
          },
          "metadata": {
            "tags": []
          }
        },
        {
          "output_type": "display_data",
          "data": {
            "image/png": "[encoded data removed]",
            "text/plain": [
              "<Figure size 432x288 with 1 Axes>"
            ]
          },
          "metadata": {
            "tags": []
          }
        },
        {
          "output_type": "display_data",
          "data": {
            "image/png": "[encoded data removed]",
            "text/plain": [
              "<Figure size 432x288 with 1 Axes>"
            ]
          },
          "metadata": {
            "tags": []
          }
        },
        {
          "output_type": "display_data",
          "data": {
            "image/png": "[encoded data removed]",
            "text/plain": [
              "<Figure size 432x288 with 1 Axes>"
            ]
          },
          "metadata": {
            "tags": []
          }
        },
        {
          "output_type": "display_data",
          "data": {
            "image/png": "[encoded data removed]",
            "text/plain": [
              "<Figure size 432x288 with 1 Axes>"
            ]
          },
          "metadata": {
            "tags": []
          }
        },
        {
          "output_type": "display_data",
          "data": {
            "image/png": "[encoded data removed]",
            "text/plain": [
              "<Figure size 432x288 with 1 Axes>"
            ]
          },
          "metadata": {
            "tags": []
          }
        },
        {
          "output_type": "display_data",
          "data": {
            "image/png": "[encoded data removed]",
            "text/plain": [
              "<Figure size 432x288 with 1 Axes>"
            ]
          },
          "metadata": {
            "tags": []
          }
        },
        {
          "output_type": "display_data",
          "data": {
            "image/png": "[encoded data removed]",
            "text/plain": [
              "<Figure size 432x288 with 1 Axes>"
            ]
          },
          "metadata": {
            "tags": []
          }
        },
        {
          "output_type": "display_data",
          "data": {
            "image/png": "[encoded data removed]",
            "text/plain": [
              "<Figure size 432x288 with 1 Axes>"
            ]
          },
          "metadata": {
            "tags": []
          }
        },
        {
          "output_type": "display_data",
          "data": {
            "image/png": "[encoded data removed]",
            "text/plain": [
              "<Figure size 432x288 with 1 Axes>"
            ]
          },
          "metadata": {
            "tags": []
          }
        },
        {
          "output_type": "display_data",
          "data": {
            "image/png": "[encoded data removed]",
            "text/plain": [
              "<Figure size 432x288 with 1 Axes>"
            ]
          },
          "metadata": {
            "tags": []
          }
        },
        {
          "output_type": "display_data",
          "data": {
            "image/png": "[encoded data removed]",
            "text/plain": [
              "<Figure size 432x288 with 1 Axes>"
            ]
          },
          "metadata": {
            "tags": []
          }
        },
        {
          "output_type": "display_data",
          "data": {
            "image/png": "[encoded data removed]",
            "text/plain": [
              "<Figure size 432x288 with 1 Axes>"
            ]
          },
          "metadata": {
            "tags": []
          }
        },
        {
          "output_type": "display_data",
          "data": {
            "image/png": "[encoded data removed]",
            "text/plain": [
              "<Figure size 432x288 with 1 Axes>"
            ]
          },
          "metadata": {
            "tags": []
          }
        },
        {
          "output_type": "display_data",
          "data": {
            "image/png": "[encoded data removed]",
            "text/plain": [
              "<Figure size 432x288 with 1 Axes>"
            ]
          },
          "metadata": {
            "tags": []
          }
        },
        {
          "output_type": "display_data",
          "data": {
            "image/png": "[encoded data removed]",
            "text/plain": [
              "<Figure size 432x288 with 1 Axes>"
            ]
          },
          "metadata": {
            "tags": []
          }
        },
        {
          "output_type": "display_data",
          "data": {
            "image/png": "[encoded data removed]",
            "text/plain": [
              "<Figure size 432x288 with 1 Axes>"
            ]
          },
          "metadata": {
            "tags": []
          }
        },
        {
          "output_type": "display_data",
          "data": {
            "image/png": "[encoded data removed]",
            "text/plain": [
              "<Figure size 432x288 with 1 Axes>"
            ]
          },
          "metadata": {
            "tags": []
          }
        },
        {
          "output_type": "display_data",
          "data": {
            "image/png": "[encoded data removed]",
            "text/plain": [
              "<Figure size 432x288 with 1 Axes>"
            ]
          },
          "metadata": {
            "tags": []
          }
        }
      ]
    },
    {
      "cell_type": "markdown",
      "metadata": {
        "id": "BOvUqoqwJBka"
      },
      "source": [
        "## STAGE 2 (dynamic planning)"
      ]
    },
    {
      "cell_type": "code",
      "metadata": {
        "id": "H7tWh7tDJBka"
      },
      "source": [
        "#executes given path\n",
        "#plans a new path after each step - taking into account how the fire spread\n",
        "#advances fire after each step\n",
        "def execute_each_step(start, goal, obstacle_set, fire_set, path, dim):\n",
        "    dead = False\n",
        "    node = start\n",
        "    while not dead:\n",
        "        if node == goal:\n",
        "            print(\"You win!\")\n",
        "            break\n",
        "        node = path[1]\n",
        "        fire_set = advance_fire_one_step(obstacle_set, fire_set, dim, q=0.1)#advance fire \n",
        "        #set new start as path[1] and plan again\n",
        "        path, win_flag = plan(path[1], goal, obstacle_set, fire_set)\n",
        "        if win_flag == False:\n",
        "            print(\"No path\")\n",
        "            dead = True\n",
        "            break\n",
        "        \n",
        "        #check if node is on fire\n",
        "        if node in fire_set:\n",
        "            print(\"Dead!\")\n",
        "            dead = True\n",
        "            break\n",
        "        plot_obstacles_fire(obstacle_set, fire_set, dim, node)"
      ],
      "execution_count": null,
      "outputs": []
    },
    {
      "cell_type": "code",
      "metadata": {
        "id": "GZbzDpoEJBka",
        "colab": {
          "base_uri": "https://localhost:8080/",
          "height": 1000
        },
        "outputId": "d1845289-3239-4c8b-f78e-199cead2cce8"
      },
      "source": [
        "obstacle_set = set([])\n",
        "dim = 10\n",
        "for i in range(dim):\n",
        "    for j in range(dim):\n",
        "        if i == 0 and j == 0 or i == dim-1 and j == dim-1:\n",
        "            continue\n",
        "        if random.uniform(0,1) < .3:\n",
        "            obstacle_set.add((i,j))\n",
        "fire_set_two = set([])\n",
        "fire_set_two.add((7,2))\n",
        "fire_set_two.add((4,8))\n",
        "\n",
        "starting_path, win_flag = plan(start, goal, obstacle_set, fire_set_two)\n",
        "if win_flag:\n",
        "    execute_each_step(start, goal, obstacle_set, fire_set_two, starting_path, dim)\n"
      ],
      "execution_count": null,
      "outputs": [
        {
          "output_type": "stream",
          "text": [
            "You win!\n"
          ],
          "name": "stdout"
        },
        {
          "output_type": "display_data",
          "data": {
            "image/png": "[encoded data removed]",
            "text/plain": [
              "<Figure size 432x288 with 1 Axes>"
            ]
          },
          "metadata": {
            "tags": []
          }
        },
        {
          "output_type": "display_data",
          "data": {
            "image/png": "[encoded data removed]",
            "text/plain": [
              "<Figure size 432x288 with 1 Axes>"
            ]
          },
          "metadata": {
            "tags": []
          }
        },
        {
          "output_type": "display_data",
          "data": {
            "image/png": "[encoded data removed]",
            "text/plain": [
              "<Figure size 432x288 with 1 Axes>"
            ]
          },
          "metadata": {
            "tags": []
          }
        },
        {
          "output_type": "display_data",
          "data": {
            "image/png": "[encoded data removed]",
            "text/plain": [
              "<Figure size 432x288 with 1 Axes>"
            ]
          },
          "metadata": {
            "tags": []
          }
        },
        {
          "output_type": "display_data",
          "data": {
            "image/png": "[encoded data removed]",
            "text/plain": [
              "<Figure size 432x288 with 1 Axes>"
            ]
          },
          "metadata": {
            "tags": []
          }
        },
        {
          "output_type": "display_data",
          "data": {
            "image/png": "[encoded data removed]",
            "text/plain": [
              "<Figure size 432x288 with 1 Axes>"
            ]
          },
          "metadata": {
            "tags": []
          }
        },
        {
          "output_type": "display_data",
          "data": {
            "image/png": "[encoded data removed]",
            "text/plain": [
              "<Figure size 432x288 with 1 Axes>"
            ]
          },
          "metadata": {
            "tags": []
          }
        },
        {
          "output_type": "display_data",
          "data": {
            "image/png": "[encoded data removed]",
            "text/plain": [
              "<Figure size 432x288 with 1 Axes>"
            ]
          },
          "metadata": {
            "tags": []
          }
        },
        {
          "output_type": "display_data",
          "data": {
            "image/png": "[encoded data removed]",
            "text/plain": [
              "<Figure size 432x288 with 1 Axes>"
            ]
          },
          "metadata": {
            "tags": []
          }
        },
        {
          "output_type": "display_data",
          "data": {
            "image/png": "[encoded data removed]",
            "text/plain": [
              "<Figure size 432x288 with 1 Axes>"
            ]
          },
          "metadata": {
            "tags": []
          }
        },
        {
          "output_type": "display_data",
          "data": {
            "image/png": "[encoded data removed]",
            "text/plain": [
              "<Figure size 432x288 with 1 Axes>"
            ]
          },
          "metadata": {
            "tags": []
          }
        },
        {
          "output_type": "display_data",
          "data": {
            "image/png": "[encoded data removed]",
            "text/plain": [
              "<Figure size 432x288 with 1 Axes>"
            ]
          },
          "metadata": {
            "tags": []
          }
        },
        {
          "output_type": "display_data",
          "data": {
            "image/png": "[encoded data removed]",
            "text/plain": [
              "<Figure size 432x288 with 1 Axes>"
            ]
          },
          "metadata": {
            "tags": []
          }
        },
        {
          "output_type": "display_data",
          "data": {
            "image/png": "[encoded data removed]",
            "text/plain": [
              "<Figure size 432x288 with 1 Axes>"
            ]
          },
          "metadata": {
            "tags": []
          }
        },
        {
          "output_type": "display_data",
          "data": {
            "image/png": "[encoded data removed]",
            "text/plain": [
              "<Figure size 432x288 with 1 Axes>"
            ]
          },
          "metadata": {
            "tags": []
          }
        },
        {
          "output_type": "display_data",
          "data": {
            "image/png": "[encoded data removed]",
            "text/plain": [
              "<Figure size 432x288 with 1 Axes>"
            ]
          },
          "metadata": {
            "tags": []
          }
        },
        {
          "output_type": "display_data",
          "data": {
            "image/png": "[encoded data removed]",
            "text/plain": [
              "<Figure size 432x288 with 1 Axes>"
            ]
          },
          "metadata": {
            "tags": []
          }
        },
        {
          "output_type": "display_data",
          "data": {
            "image/png": "[encoded data removed]",
            "text/plain": [
              "<Figure size 432x288 with 1 Axes>"
            ]
          },
          "metadata": {
            "tags": []
          }
        }
      ]
    },
    {
      "cell_type": "markdown",
      "metadata": {
        "id": "hDoq40Dtl_vM"
      },
      "source": [
        "## STAGE 3 (reworked algorithm)"
      ]
    },
    {
      "cell_type": "markdown",
      "metadata": {
        "id": "0MlmLF_-l_vM"
      },
      "source": [
        "What do?:\n",
        "\n",
        "- Create fire neighbors set\n",
        "- A* or BFS and check path to avoid nodes in fire_neighbors set\n",
        "- exception case: if only path left, have to go down"
      ]
    },
    {
      "cell_type": "code",
      "metadata": {
        "id": "jwEezbFbosnV"
      },
      "source": [
        "def advance_fire_one_step_stage3(obstacle_set,fire_set,dim,q):\n",
        "    for i in range(dim):\n",
        "        for j in range(dim):\n",
        "            node = (i,j)\n",
        "            if node not in obstacle_set and node not in fire_set:\n",
        "                count = 0\n",
        "                if (node[0]+1,node[1]) in fire_set and node[0]+1 < dim:\n",
        "                    count += 1\n",
        "                if (node[0]-1,node[1]) in fire_set and node[0]+1 > -1:\n",
        "                    count += 1\n",
        "                if (node[0],node[1]+1) in fire_set and node[1]+1 < dim:\n",
        "                    count += 1\n",
        "                if (node[0],node[1]-1) in fire_set and node[1]+1 > -1:\n",
        "                    count += 1\n",
        "                prob = 1 - (1-q)**count\n",
        "                if random.uniform(0,1) <= prob:\n",
        "                    fire_set.add((i,j)) #append node to fire_set\n",
        "    fire_neighbors = fire_neighbors_fnc(fire_set,dim,obstacle_set)\n",
        "    return fire_set,fire_neighbors"
      ],
      "execution_count": null,
      "outputs": []
    },
    {
      "cell_type": "code",
      "metadata": {
        "id": "i67ml4fel_vN"
      },
      "source": [
        "def fire_neighbors_fnc(fire_set, dim, obstacle_set):\n",
        "  fire_neighbors = set([])\n",
        "\n",
        "  for node in fire_set:\n",
        "\n",
        "    if (node[0]+1,node[1]) not in fire_set and (node[0]+1,node[1]) not in obstacle_set:\n",
        "      if node[0]+1 < dim:\n",
        "        fire_neighbors.add((node[0]+1,node[1]))\n",
        "\n",
        "    if (node[0]-1,node[1]) in fire_set and (node[0]-1,node[1]) not in obstacle_set:\n",
        "      if node[0]-1 > -1:\n",
        "        fire_neighbors.add((node[0]-1,node[1]))\n",
        "\n",
        "    if (node[0],node[1]+1) in fire_set and (node[0],node[1]+1) not in obstacle_set:\n",
        "      if node[1]+1 < dim:\n",
        "        fire_neighbors.add((node[0],node[1]+1))    \n",
        "\n",
        "    if (node[0],node[1]-1) in fire_set and (node[0],node[1]-1) not in obstacle_set:\n",
        "      if node[1]-1 > 0:\n",
        "        fire_neighbors.add((node[0],node[1]-1))   \n",
        "\n",
        "  return fire_neighbors"
      ],
      "execution_count": null,
      "outputs": []
    },
    {
      "cell_type": "code",
      "metadata": {
        "id": "8TDfc7_CsSoS"
      },
      "source": [
        "def new_plan(start, goal, obstacle_set, fire_set, fire_neighbors):\n",
        "    transitions = [(0,-1),(-1,0),(0,1),(1,0)]\n",
        "    explored_spaces = set([])\n",
        "     #fringe is a heap, sorted by the least heuristic\n",
        "    #heuristic = distance traveled so far + euclidean estimate\n",
        "    fringe = [(euclidean(start,goal), 0, start, [])]\n",
        "    heapq.heapify(fringe)\n",
        "    win_flag = False\n",
        "\n",
        "\n",
        "    while len(fringe) > 0:\n",
        "        #print(fringe)\n",
        "        heuristic, distance, node, path = heapq.heappop(fringe)#pops the minimum element\n",
        "        \n",
        "        #check if node is valid\n",
        "        if node in explored_spaces:\n",
        "            continue\n",
        "        if node in obstacle_set:\n",
        "            continue\n",
        "        if node in fire_set:\n",
        "            continue\n",
        "        #if node in fire_neighbors:\n",
        "            #continue\n",
        "            \n",
        "        path.append(node)#append node to path\n",
        "        if node[0] == goal[0] and node[1] == goal[1]:\n",
        "            #print(\"You have found the goal\")\n",
        "            win_flag = True\n",
        "            break\n",
        "\n",
        "        #for each new node popped, increase the distance traveled by 1\n",
        "        distance += 1\n",
        "        \n",
        "        #expand neighbors and add to fringe\n",
        "        for i in range(len(transitions)):\n",
        "            dy, dx = transitions[i]\n",
        "        \n",
        "            x = node[0] + dx\n",
        "            y = node[1] + dy\n",
        "        \n",
        "            #check if valid\n",
        "            if x < 0 or y < 0 or x > dim-1 or y > dim-1:\n",
        "                continue\n",
        "            if (x,y) in explored_spaces:\n",
        "                continue\n",
        "            if (x,y) in obstacle_set:\n",
        "                continue\n",
        "            if (x,y) in fire_set:\n",
        "                continue\n",
        "            if (x,y) in fire_neighbors:\n",
        "                continue\n",
        "            if (x,y) not in fringe:\n",
        "                #heappush pushes to the fringe while keeping the heap intact\n",
        "                heapq.heappush(fringe, (distance + euclidean((x,y),goal), distance, (x,y), path[:]))\n",
        "       \n",
        "        explored_spaces.add(node)\n",
        "    #accounts for path being empty (means they died when fire in (0,0))\n",
        "    if path is None:\n",
        "        return path, False         \n",
        "    if win_flag == False:\n",
        "        print(\"There is no path from start to goal\")\n",
        "        path, flag = plan(path[0], goal, obstacle_set, fire_set)\n",
        "        if flag == False:\n",
        "            print(\"No path\")\n",
        "        return path, flag\n",
        "    \n",
        "    \n",
        "    #print(\"A* path: \" + str(len(path)-1))\n",
        "    path_plot(path, dim, obstacle_set)\n",
        "    return path, win_flag"
      ],
      "execution_count": null,
      "outputs": []
    },
    {
      "cell_type": "code",
      "metadata": {
        "id": "d3_eizoMrNDc"
      },
      "source": [
        "def execute_each_step_stage3(start, goal, obstacle_set, fire_set, fire_neighbors, path, dim):\n",
        "    dead = False\n",
        "    node = start\n",
        "    \n",
        "    while not dead:\n",
        "        if node == goal:\n",
        "            print(\"You win!\")\n",
        "            break\n",
        "        node = path[1]\n",
        "        fire_set = advance_fire_one_step(obstacle_set, fire_set, dim, q=0.1)#advance fire \n",
        "        #set new start as path[1] and plan again\n",
        "        path, flag = new_plan(path[1], goal, obstacle_set, fire_set, fire_neighbors)\n",
        "        if flag == False:\n",
        "            print(\"No path\")\n",
        "            dead = True\n",
        "            break\n",
        "        \n",
        "        #check if node is on fire\n",
        "        if node in fire_set:\n",
        "            print(\"Dead!\")\n",
        "            dead = True\n",
        "            break\n",
        "        plot_obstacles_fire(obstacle_set, fire_set, dim, node)"
      ],
      "execution_count": null,
      "outputs": []
    },
    {
      "cell_type": "code",
      "metadata": {
        "colab": {
          "base_uri": "https://localhost:8080/",
          "height": 1000
        },
        "id": "gEOhzVlytnSq",
        "outputId": "27449e43-8148-4e94-d15d-7816b9c7e563"
      },
      "source": [
        "obstacle_set = set([])\n",
        "dim =10\n",
        "for i in range(dim):\n",
        "    for j in range(dim):\n",
        "        if i == 0 and j == 0 or i == dim-1 and j == dim-1:\n",
        "            continue\n",
        "        if random.uniform(0,1) < .2:\n",
        "            obstacle_set.add((i,j))\n",
        "\n",
        "\n",
        "fire_set_two = set([])\n",
        "fire_set_two.add((5,5))\n",
        "fire_set_two.add((7,2))\n",
        "\n",
        "plot_obstacles_fire(obstacle_set, fire_set_two, dim, (0,0))\n",
        "fire_neighbors = fire_neighbors_fnc(fire_set_two, dim, obstacle_set)\n",
        "starting_path, flag = new_plan(start, goal, obstacle_set, fire_set_two, fire_neighbors)\n",
        "if flag:\n",
        "    execute_each_step_stage3(start, goal, obstacle_set, fire_set_two,fire_neighbors, starting_path, dim)"
      ],
      "execution_count": null,
      "outputs": [
        {
          "output_type": "stream",
          "text": [
            "Clipping input data to the valid range for imshow with RGB data ([0..1] for floats or [0..255] for integers).\n",
            "Clipping input data to the valid range for imshow with RGB data ([0..1] for floats or [0..255] for integers).\n",
            "Clipping input data to the valid range for imshow with RGB data ([0..1] for floats or [0..255] for integers).\n",
            "Clipping input data to the valid range for imshow with RGB data ([0..1] for floats or [0..255] for integers).\n",
            "Clipping input data to the valid range for imshow with RGB data ([0..1] for floats or [0..255] for integers).\n",
            "Clipping input data to the valid range for imshow with RGB data ([0..1] for floats or [0..255] for integers).\n",
            "Clipping input data to the valid range for imshow with RGB data ([0..1] for floats or [0..255] for integers).\n",
            "Clipping input data to the valid range for imshow with RGB data ([0..1] for floats or [0..255] for integers).\n",
            "Clipping input data to the valid range for imshow with RGB data ([0..1] for floats or [0..255] for integers).\n",
            "Clipping input data to the valid range for imshow with RGB data ([0..1] for floats or [0..255] for integers).\n",
            "Clipping input data to the valid range for imshow with RGB data ([0..1] for floats or [0..255] for integers).\n",
            "Clipping input data to the valid range for imshow with RGB data ([0..1] for floats or [0..255] for integers).\n",
            "Clipping input data to the valid range for imshow with RGB data ([0..1] for floats or [0..255] for integers).\n",
            "Clipping input data to the valid range for imshow with RGB data ([0..1] for floats or [0..255] for integers).\n",
            "Clipping input data to the valid range for imshow with RGB data ([0..1] for floats or [0..255] for integers).\n",
            "Clipping input data to the valid range for imshow with RGB data ([0..1] for floats or [0..255] for integers).\n",
            "Clipping input data to the valid range for imshow with RGB data ([0..1] for floats or [0..255] for integers).\n"
          ],
          "name": "stderr"
        },
        {
          "output_type": "stream",
          "text": [
            "You win!\n"
          ],
          "name": "stdout"
        },
        {
          "output_type": "display_data",
          "data": {
            "image/png": "[encoded data removed]",
            "text/plain": [
              "<Figure size 432x288 with 1 Axes>"
            ]
          },
          "metadata": {
            "tags": []
          }
        },
        {
          "output_type": "display_data",
          "data": {
            "image/png": "[encoded data removed]",
            "text/plain": [
              "<Figure size 432x288 with 1 Axes>"
            ]
          },
          "metadata": {
            "tags": []
          }
        },
        {
          "output_type": "display_data",
          "data": {
            "image/png": "[encoded data removed]",
            "text/plain": [
              "<Figure size 432x288 with 1 Axes>"
            ]
          },
          "metadata": {
            "tags": []
          }
        },
        {
          "output_type": "display_data",
          "data": {
            "image/png": "[encoded data removed]",
            "text/plain": [
              "<Figure size 432x288 with 1 Axes>"
            ]
          },
          "metadata": {
            "tags": []
          }
        },
        {
          "output_type": "display_data",
          "data": {
            "image/png": "[encoded data removed]",
            "text/plain": [
              "<Figure size 432x288 with 1 Axes>"
            ]
          },
          "metadata": {
            "tags": []
          }
        },
        {
          "output_type": "display_data",
          "data": {
            "image/png": "[encoded data removed]",
            "text/plain": [
              "<Figure size 432x288 with 1 Axes>"
            ]
          },
          "metadata": {
            "tags": []
          }
        },
        {
          "output_type": "display_data",
          "data": {
            "image/png": "[encoded data removed]",
            "text/plain": [
              "<Figure size 432x288 with 1 Axes>"
            ]
          },
          "metadata": {
            "tags": []
          }
        },
        {
          "output_type": "display_data",
          "data": {
            "image/png": "[encoded data removed]",
            "text/plain": [
              "<Figure size 432x288 with 1 Axes>"
            ]
          },
          "metadata": {
            "tags": []
          }
        },
        {
          "output_type": "display_data",
          "data": {
            "image/png": "[encoded data removed]",
            "text/plain": [
              "<Figure size 432x288 with 1 Axes>"
            ]
          },
          "metadata": {
            "tags": []
          }
        },
        {
          "output_type": "display_data",
          "data": {
            "image/png": "[encoded data removed]",
            "text/plain": [
              "<Figure size 432x288 with 1 Axes>"
            ]
          },
          "metadata": {
            "tags": []
          }
        },
        {
          "output_type": "display_data",
          "data": {
            "image/png": "[encoded data removed]",
            "text/plain": [
              "<Figure size 432x288 with 1 Axes>"
            ]
          },
          "metadata": {
            "tags": []
          }
        },
        {
          "output_type": "display_data",
          "data": {
            "image/png": "[encoded data removed]",
            "text/plain": [
              "<Figure size 432x288 with 1 Axes>"
            ]
          },
          "metadata": {
            "tags": []
          }
        },
        {
          "output_type": "display_data",
          "data": {
            "image/png": "[encoded data removed]",
            "text/plain": [
              "<Figure size 432x288 with 1 Axes>"
            ]
          },
          "metadata": {
            "tags": []
          }
        },
        {
          "output_type": "display_data",
          "data": {
            "image/png": "[encoded data removed]",
            "text/plain": [
              "<Figure size 432x288 with 1 Axes>"
            ]
          },
          "metadata": {
            "tags": []
          }
        },
        {
          "output_type": "display_data",
          "data": {
            "image/png": "[encoded data removed]",
            "text/plain": [
              "<Figure size 432x288 with 1 Axes>"
            ]
          },
          "metadata": {
            "tags": []
          }
        },
        {
          "output_type": "display_data",
          "data": {
            "image/png": "[encoded data removed]",
            "text/plain": [
              "<Figure size 432x288 with 1 Axes>"
            ]
          },
          "metadata": {
            "tags": []
          }
        },
        {
          "output_type": "display_data",
          "data": {
            "image/png": "[encoded data removed]",
            "text/plain": [
              "<Figure size 432x288 with 1 Axes>"
            ]
          },
          "metadata": {
            "tags": []
          }
        },
        {
          "output_type": "display_data",
          "data": {
            "image/png": "[encoded data removed]",
            "text/plain": [
              "<Figure size 432x288 with 1 Axes>"
            ]
          },
          "metadata": {
            "tags": []
          }
        },
        {
          "output_type": "display_data",
          "data": {
            "image/png": "[encoded data removed]",
            "text/plain": [
              "<Figure size 432x288 with 1 Axes>"
            ]
          },
          "metadata": {
            "tags": []
          }
        }
      ]
    },
    {
      "cell_type": "code",
      "metadata": {
        "id": "LPO3bPQqeIsI"
      },
      "source": [
        ""
      ],
      "execution_count": null,
      "outputs": []
    },
    {
      "cell_type": "markdown",
      "metadata": {
        "id": "z8NqUfqBQm6G"
      },
      "source": [
        "## Problem 6 (flamability density plot)"
      ]
    },
    {
      "cell_type": "code",
      "metadata": {
        "colab": {
          "base_uri": "https://localhost:8080/",
          "height": 1000
        },
        "id": "fOzUkVrY-EBS",
        "outputId": "569beff1-5c5e-4df6-ba6f-2d5f1eb379c3"
      },
      "source": [
        "#Flamability Density Chart for Stage 1\n",
        "success = 0\n",
        "probabilities = []\n",
        "success_percentage = []\n",
        "\n",
        "#max dimension set to 80 X 80\n",
        "dim = 80\n",
        "for q in np.arange(0,.3,0.01):\n",
        "  success = 0\n",
        "  count = 0\n",
        "  start = (0,0)\n",
        "  goal = (dim-1, dim-1)\n",
        "  #max_counter prevents infinite loop when no paths are available\n",
        "  max_counter = 0\n",
        "  #get 10 examples for each value of q\n",
        "  while count < 10:\n",
        "    max_counter += 1\n",
        "    obstacle_set = set([])\n",
        "    fire_set = set([])\n",
        "    #get new obstacle_set and new fire_set\n",
        "    for i in range(dim):\n",
        "        for j in range(dim):\n",
        "            if i == 0 and j == 0 or i == dim-1 and j == dim-1:\n",
        "                continue\n",
        "            if random.uniform(0,1) < 0.3:\n",
        "                obstacle_set.add((i,j))\n",
        "    for i in range(dim):\n",
        "        for j in range(dim):\n",
        "            if i == 0 and j == 0 or i == dim-1 and j == dim-1:\n",
        "                continue\n",
        "            if (i,j) in obstacle_set:\n",
        "                continue\n",
        "            if random.uniform(0,1) < 0.01:\n",
        "                fire_set.add((i,j))\n",
        "    #determine if success or not\n",
        "    planned_path, win_flag = plan(start, goal, obstacle_set, fire_set)\n",
        "    if (win_flag is True):\n",
        "      max_counter = 0\n",
        "      count+=1\n",
        "      #if there is a viable path, we will use our strategy 1 to solve the maze\n",
        "      if (execute_plan(start, goal, obstacle_set, fire_set, planned_path, dim, q) is True):\n",
        "        success += 1\n",
        "    #if there are 50 mazes in a row that are not solvable, we will move onto new q value\n",
        "    if max_counter == 50:\n",
        "      count = 10\n",
        "  probabilities.append(q)  \n",
        "  success_percentage.append(success/10)\n",
        "\n",
        "#plot results\n",
        "plt.plot(probabilities, success_percentage)\n",
        "plt.ylabel(\"average strategy success rate for Strategy 1\")\n",
        "plt.xlabel(\"flammability q\")"
      ],
      "execution_count": null,
      "outputs": [
        {
          "output_type": "stream",
          "text": [
            "You won!\n",
            "You won!\n",
            "You won!\n",
            "You won!\n",
            "You won!\n",
            "You won!\n",
            "You won!\n",
            "You won!\n",
            "You won!\n",
            "You won!\n",
            "Dead!\n",
            "Dead!\n",
            "Dead!\n",
            "Dead!\n",
            "Dead!\n",
            "Dead!\n",
            "Dead!\n",
            "Dead!\n",
            "You won!\n",
            "Dead!\n",
            "Dead!\n",
            "Dead!\n",
            "Dead!\n",
            "Dead!\n",
            "Dead!\n",
            "Dead!\n",
            "Dead!\n",
            "Dead!\n",
            "Dead!\n",
            "Dead!\n",
            "Dead!\n",
            "Dead!\n",
            "Dead!\n",
            "Dead!\n",
            "Dead!\n",
            "Dead!\n",
            "Dead!\n",
            "Dead!\n",
            "Dead!\n",
            "Dead!\n",
            "Dead!\n",
            "Dead!\n",
            "Dead!\n",
            "Dead!\n",
            "Dead!\n",
            "Dead!\n",
            "Dead!\n",
            "Dead!\n",
            "Dead!\n",
            "Dead!\n",
            "Dead!\n",
            "Dead!\n",
            "Dead!\n",
            "Dead!\n",
            "Dead!\n",
            "Dead!\n",
            "Dead!\n",
            "Dead!\n",
            "Dead!\n",
            "Dead!\n",
            "Dead!\n",
            "Dead!\n",
            "Dead!\n",
            "Dead!\n",
            "Dead!\n",
            "Dead!\n",
            "Dead!\n",
            "Dead!\n",
            "Dead!\n",
            "Dead!\n",
            "Dead!\n",
            "Dead!\n",
            "Dead!\n",
            "Dead!\n",
            "Dead!\n",
            "Dead!\n",
            "Dead!\n",
            "Dead!\n",
            "Dead!\n",
            "Dead!\n",
            "Dead!\n",
            "Dead!\n",
            "Dead!\n",
            "Dead!\n",
            "Dead!\n",
            "Dead!\n",
            "Dead!\n",
            "Dead!\n",
            "Dead!\n",
            "Dead!\n",
            "Dead!\n",
            "Dead!\n",
            "Dead!\n",
            "Dead!\n",
            "Dead!\n",
            "Dead!\n",
            "Dead!\n",
            "Dead!\n",
            "Dead!\n",
            "Dead!\n",
            "Dead!\n",
            "Dead!\n",
            "Dead!\n",
            "Dead!\n",
            "Dead!\n",
            "Dead!\n",
            "Dead!\n",
            "Dead!\n",
            "Dead!\n",
            "Dead!\n",
            "Dead!\n",
            "Dead!\n",
            "Dead!\n",
            "Dead!\n",
            "Dead!\n",
            "Dead!\n",
            "Dead!\n",
            "Dead!\n",
            "Dead!\n",
            "Dead!\n",
            "Dead!\n",
            "Dead!\n",
            "Dead!\n",
            "Dead!\n",
            "Dead!\n",
            "Dead!\n",
            "Dead!\n",
            "Dead!\n",
            "Dead!\n",
            "Dead!\n",
            "Dead!\n",
            "Dead!\n",
            "Dead!\n",
            "Dead!\n",
            "Dead!\n",
            "Dead!\n",
            "Dead!\n",
            "Dead!\n",
            "Dead!\n",
            "Dead!\n",
            "Dead!\n",
            "Dead!\n",
            "Dead!\n",
            "Dead!\n",
            "Dead!\n",
            "Dead!\n",
            "Dead!\n",
            "Dead!\n",
            "Dead!\n",
            "Dead!\n",
            "Dead!\n",
            "Dead!\n",
            "Dead!\n",
            "Dead!\n",
            "Dead!\n",
            "Dead!\n",
            "Dead!\n",
            "Dead!\n",
            "Dead!\n",
            "Dead!\n",
            "Dead!\n",
            "Dead!\n",
            "Dead!\n",
            "Dead!\n",
            "Dead!\n",
            "Dead!\n",
            "Dead!\n",
            "Dead!\n",
            "Dead!\n",
            "Dead!\n",
            "Dead!\n",
            "Dead!\n",
            "Dead!\n",
            "Dead!\n",
            "Dead!\n",
            "Dead!\n",
            "Dead!\n",
            "Dead!\n",
            "Dead!\n",
            "Dead!\n",
            "Dead!\n",
            "Dead!\n",
            "Dead!\n",
            "Dead!\n",
            "Dead!\n",
            "Dead!\n",
            "Dead!\n",
            "Dead!\n",
            "Dead!\n",
            "Dead!\n",
            "Dead!\n",
            "Dead!\n",
            "Dead!\n",
            "Dead!\n",
            "Dead!\n",
            "Dead!\n",
            "Dead!\n",
            "Dead!\n",
            "Dead!\n",
            "Dead!\n",
            "Dead!\n",
            "Dead!\n",
            "Dead!\n",
            "Dead!\n",
            "Dead!\n",
            "Dead!\n",
            "Dead!\n",
            "Dead!\n",
            "Dead!\n",
            "Dead!\n",
            "Dead!\n",
            "Dead!\n",
            "Dead!\n",
            "Dead!\n",
            "Dead!\n",
            "Dead!\n",
            "Dead!\n",
            "Dead!\n",
            "Dead!\n",
            "Dead!\n",
            "Dead!\n",
            "Dead!\n",
            "Dead!\n",
            "Dead!\n",
            "Dead!\n",
            "Dead!\n",
            "Dead!\n",
            "Dead!\n",
            "Dead!\n",
            "Dead!\n",
            "Dead!\n",
            "Dead!\n",
            "Dead!\n",
            "Dead!\n",
            "Dead!\n",
            "Dead!\n",
            "Dead!\n",
            "Dead!\n",
            "Dead!\n",
            "Dead!\n",
            "Dead!\n",
            "Dead!\n",
            "Dead!\n",
            "Dead!\n",
            "Dead!\n",
            "Dead!\n",
            "Dead!\n",
            "Dead!\n",
            "Dead!\n",
            "Dead!\n",
            "Dead!\n",
            "Dead!\n",
            "Dead!\n",
            "Dead!\n",
            "Dead!\n",
            "Dead!\n",
            "Dead!\n",
            "Dead!\n",
            "Dead!\n",
            "Dead!\n",
            "Dead!\n",
            "Dead!\n",
            "Dead!\n",
            "Dead!\n",
            "Dead!\n",
            "Dead!\n",
            "Dead!\n",
            "Dead!\n",
            "Dead!\n",
            "Dead!\n",
            "Dead!\n",
            "Dead!\n",
            "Dead!\n",
            "Dead!\n",
            "Dead!\n",
            "Dead!\n",
            "Dead!\n",
            "Dead!\n",
            "Dead!\n",
            "Dead!\n",
            "Dead!\n",
            "Dead!\n",
            "Dead!\n",
            "Dead!\n",
            "Dead!\n",
            "Dead!\n",
            "Dead!\n",
            "Dead!\n",
            "Dead!\n",
            "Dead!\n",
            "Dead!\n",
            "Dead!\n",
            "Dead!\n",
            "Dead!\n",
            "Dead!\n",
            "Dead!\n",
            "Dead!\n",
            "Dead!\n",
            "Dead!\n",
            "Dead!\n"
          ],
          "name": "stdout"
        },
        {
          "output_type": "execute_result",
          "data": {
            "text/plain": [
              "Text(0.5, 0, 'flammability q')"
            ]
          },
          "metadata": {
            "tags": []
          },
          "execution_count": 207
        },
        {
          "output_type": "display_data",
          "data": {
            "image/png": "[encoded data removed]",
            "text/plain": [
              "<Figure size 432x288 with 1 Axes>"
            ]
          },
          "metadata": {
            "tags": [],
            "needs_background": "light"
          }
        }
      ]
    },
    {
      "cell_type": "code",
      "metadata": {
        "colab": {
          "base_uri": "https://localhost:8080/",
          "height": 1000
        },
        "id": "oOUi7kblkfI0",
        "outputId": "e0fda5b8-941f-452a-b8bb-c0e23bf17257"
      },
      "source": [
        "#Probability Density Chart for Stage 2\n",
        "success = 0\n",
        "probabilities = []\n",
        "success_percentage = []\n",
        "\n",
        "#max dimension set to 80 X 80\n",
        "dim = 80\n",
        "for q in np.arange(0,.3,0.01):\n",
        "  print(q)\n",
        "  success = 0\n",
        "  count = 0\n",
        "  start = (0,0)\n",
        "  goal = (dim-1, dim-1)\n",
        "  #max_counter prevents infinite loop when no paths are available\n",
        "  max_counter = 0\n",
        "  #get 10 examples for each value of q\n",
        "  while count < 10:\n",
        "    max_counter += 1\n",
        "    obstacle_set = set([])\n",
        "    fire_set = set([])\n",
        "    #get new obstacle_set and fire_set\n",
        "    for i in range(dim):\n",
        "        for j in range(dim):\n",
        "            if i == 0 and j == 0 or i == dim-1 and j == dim-1:\n",
        "                continue\n",
        "            if random.uniform(0,1) < 0.3:\n",
        "                obstacle_set.add((i,j))\n",
        "    for i in range(dim):\n",
        "        for j in range(dim):\n",
        "            if i == 0 and j == 0 or i == dim-1 and j == dim-1:\n",
        "                continue\n",
        "            if (i,j) in obstacle_set:\n",
        "                continue\n",
        "            if random.uniform(0,1) < .01:\n",
        "                fire_set.add((i,j))\n",
        "    #determine if success or not\n",
        "    planned_path, win_flag = plan(start, goal, obstacle_set, fire_set)\n",
        "    if (win_flag is True):\n",
        "      max_counter = 0\n",
        "      count+=1\n",
        "      #if there is a viable path, we will use our strategy 2 to solve the maze\n",
        "      if (execute_each_step(start, goal, obstacle_set, fire_set, planned_path, dim, q) is True):\n",
        "        success += 1\n",
        "    #if there are 10 mazes in a row that are not solvable, we will move onto new q value\n",
        "    if max_counter == 10:\n",
        "      count = 10\n",
        "  probabilities.append(q)  \n",
        "  success_percentage.append(success/10)\n",
        "\n",
        "#plot results\n",
        "plt.plot(probabilities, success_percentage)\n",
        "plt.ylabel(\"average strategy success rate for Strategy 1\")\n",
        "plt.xlabel(\"flammability q\")"
      ],
      "execution_count": null,
      "outputs": [
        {
          "output_type": "stream",
          "text": [
            "0.0\n",
            "You win!\n",
            "You win!\n",
            "You win!\n",
            "You win!\n",
            "You win!\n",
            "You win!\n",
            "You win!\n",
            "You win!\n",
            "You win!\n",
            "You win!\n",
            "0.01\n",
            "No path\n",
            "You win!\n",
            "You win!\n",
            "You win!\n",
            "No path\n",
            "No path\n",
            "No path\n",
            "No path\n",
            "No path\n",
            "No path\n",
            "0.02\n",
            "No path\n",
            "You win!\n",
            "No path\n",
            "No path\n",
            "No path\n",
            "You win!\n",
            "You win!\n",
            "No path\n",
            "No path\n",
            "No path\n",
            "0.03\n",
            "No path\n",
            "No path\n",
            "No path\n",
            "No path\n",
            "You win!\n",
            "No path\n",
            "No path\n",
            "You win!\n",
            "No path\n",
            "No path\n",
            "0.04\n",
            "No path\n",
            "No path\n",
            "No path\n",
            "No path\n",
            "You win!\n",
            "No path\n",
            "No path\n",
            "No path\n",
            "No path\n",
            "No path\n",
            "0.05\n",
            "No path\n",
            "No path\n",
            "No path\n",
            "No path\n",
            "No path\n",
            "No path\n",
            "No path\n",
            "No path\n",
            "No path\n",
            "No path\n",
            "0.06\n",
            "No path\n",
            "No path\n",
            "0.07\n",
            "No path\n",
            "No path\n",
            "No path\n",
            "No path\n",
            "No path\n",
            "No path\n",
            "No path\n",
            "No path\n",
            "No path\n",
            "No path\n",
            "0.08\n",
            "No path\n",
            "No path\n",
            "No path\n",
            "No path\n",
            "No path\n",
            "No path\n",
            "No path\n",
            "No path\n",
            "No path\n",
            "No path\n",
            "0.09\n",
            "No path\n",
            "No path\n",
            "No path\n",
            "No path\n",
            "No path\n",
            "No path\n",
            "No path\n",
            "No path\n",
            "No path\n",
            "No path\n",
            "0.1\n",
            "No path\n",
            "No path\n",
            "No path\n",
            "No path\n",
            "No path\n",
            "No path\n",
            "No path\n",
            "No path\n",
            "No path\n",
            "No path\n",
            "0.11\n",
            "No path\n",
            "No path\n",
            "No path\n",
            "No path\n",
            "No path\n",
            "No path\n",
            "No path\n",
            "No path\n",
            "No path\n",
            "No path\n",
            "0.12\n",
            "No path\n",
            "No path\n",
            "No path\n",
            "No path\n",
            "No path\n",
            "No path\n",
            "No path\n",
            "No path\n",
            "No path\n",
            "No path\n",
            "0.13\n",
            "No path\n",
            "No path\n",
            "No path\n",
            "No path\n",
            "No path\n",
            "No path\n",
            "No path\n",
            "No path\n",
            "No path\n",
            "No path\n",
            "0.14\n",
            "No path\n",
            "No path\n",
            "No path\n",
            "No path\n",
            "No path\n",
            "No path\n",
            "No path\n",
            "No path\n",
            "No path\n",
            "No path\n",
            "0.15\n",
            "No path\n",
            "No path\n",
            "No path\n",
            "No path\n",
            "No path\n",
            "No path\n",
            "No path\n",
            "No path\n",
            "No path\n",
            "No path\n",
            "0.16\n",
            "No path\n",
            "No path\n",
            "No path\n",
            "No path\n",
            "No path\n",
            "No path\n",
            "No path\n",
            "No path\n",
            "No path\n",
            "No path\n",
            "0.17\n",
            "No path\n",
            "No path\n",
            "No path\n",
            "No path\n",
            "No path\n",
            "No path\n",
            "No path\n",
            "No path\n",
            "No path\n",
            "No path\n",
            "0.18\n",
            "No path\n",
            "No path\n",
            "No path\n",
            "No path\n",
            "No path\n",
            "No path\n",
            "No path\n",
            "No path\n",
            "No path\n",
            "No path\n",
            "0.19\n",
            "No path\n",
            "No path\n",
            "No path\n",
            "No path\n",
            "No path\n",
            "No path\n",
            "No path\n",
            "No path\n",
            "No path\n",
            "No path\n",
            "0.2\n",
            "No path\n",
            "No path\n",
            "No path\n",
            "No path\n",
            "No path\n",
            "No path\n",
            "No path\n",
            "No path\n",
            "No path\n",
            "No path\n",
            "0.21\n",
            "No path\n",
            "No path\n",
            "No path\n",
            "No path\n",
            "No path\n",
            "No path\n",
            "No path\n",
            "No path\n",
            "No path\n",
            "No path\n",
            "0.22\n",
            "No path\n",
            "No path\n",
            "No path\n",
            "No path\n",
            "No path\n",
            "No path\n",
            "No path\n",
            "No path\n",
            "No path\n",
            "No path\n",
            "0.23\n",
            "No path\n",
            "No path\n",
            "No path\n",
            "No path\n",
            "No path\n",
            "No path\n",
            "No path\n",
            "No path\n",
            "No path\n",
            "No path\n",
            "0.24\n",
            "No path\n",
            "No path\n",
            "No path\n",
            "No path\n",
            "No path\n",
            "No path\n",
            "No path\n",
            "No path\n",
            "No path\n",
            "No path\n",
            "0.25\n",
            "No path\n",
            "No path\n",
            "No path\n",
            "No path\n",
            "No path\n",
            "No path\n",
            "No path\n",
            "No path\n",
            "No path\n",
            "No path\n",
            "0.26\n",
            "No path\n",
            "No path\n",
            "No path\n",
            "No path\n",
            "No path\n",
            "No path\n",
            "No path\n",
            "No path\n",
            "No path\n",
            "No path\n",
            "0.27\n",
            "No path\n",
            "No path\n",
            "No path\n",
            "No path\n",
            "No path\n",
            "No path\n",
            "No path\n",
            "No path\n",
            "No path\n",
            "No path\n",
            "0.28\n",
            "No path\n",
            "No path\n",
            "No path\n",
            "No path\n",
            "No path\n",
            "No path\n",
            "No path\n",
            "No path\n",
            "No path\n",
            "No path\n",
            "0.29\n",
            "No path\n",
            "No path\n",
            "No path\n",
            "No path\n",
            "No path\n",
            "No path\n",
            "No path\n",
            "No path\n",
            "No path\n",
            "No path\n"
          ],
          "name": "stdout"
        },
        {
          "output_type": "execute_result",
          "data": {
            "text/plain": [
              "Text(0.5, 0, 'flammability q')"
            ]
          },
          "metadata": {
            "tags": []
          },
          "execution_count": 208
        },
        {
          "output_type": "display_data",
          "data": {
            "image/png": "[encoded data removed]",
            "text/plain": [
              "<Figure size 432x288 with 1 Axes>"
            ]
          },
          "metadata": {
            "tags": [],
            "needs_background": "light"
          }
        }
      ]
    },
    {
      "cell_type": "code",
      "metadata": {
        "colab": {
          "base_uri": "https://localhost:8080/",
          "height": 1000
        },
        "id": "m4nL-MpC-gwE",
        "outputId": "7a9810fd-ede6-4515-f0ec-c34e62de2c6d"
      },
      "source": [
        "#Probability Density Chart for Stage 3\n",
        "success = 0\n",
        "probabilities = []\n",
        "success_percentage = []\n",
        "\n",
        "#max dimension set to 80 X 80\n",
        "dim = 80\n",
        "for q in np.arange(0,1,0.05):\n",
        "  print(q)\n",
        "  success = 0\n",
        "  count = 0\n",
        "  start = (0,0)\n",
        "  goal = (dim-1, dim-1)\n",
        "  max_counter = 0\n",
        "\n",
        "  #get 10 examples for each value of q\n",
        "  while count < 10:\n",
        "    max_counter += 1\n",
        "    obstacle_set = set([])\n",
        "    fire_set = set([])\n",
        "\n",
        "    #get new obstacle_set and fire_set\n",
        "    for i in range(dim):\n",
        "        for j in range(dim):\n",
        "            if i == 0 and j == 0 or i == dim-1 and j == dim-1:\n",
        "                continue\n",
        "            if random.uniform(0,1) < 0.3:\n",
        "                obstacle_set.add((i,j))\n",
        "    for i in range(dim):\n",
        "        for j in range(dim):\n",
        "            if i == 0 and j == 0 or i == dim-1 and j == dim-1:\n",
        "                continue\n",
        "            if (i,j) in obstacle_set:\n",
        "                continue\n",
        "            if random.uniform(0,1) < .01:\n",
        "                fire_set.add((i,j))\n",
        "\n",
        "    #determine if success or not\n",
        "    fire_neighbors = fire_neighbors_fnc(fire_set, dim, obstacle_set)\n",
        "    starting_path, flag = new_plan(start, goal, obstacle_set, fire_set, fire_neighbors)\n",
        "    path_start, win_flag = plan(start, goal, obstacle_set, fire_set)\n",
        "    if (win_flag is True):\n",
        "      #max_counter = 0\n",
        "      count+=1\n",
        "      #if there is a viable path, we will use our strategy 3 to solve the maze\n",
        "      if (execute_each_step_stage3(start, goal, obstacle_set, fire_set,fire_neighbors, starting_path, dim, q) is True):\n",
        "        success += 1\n",
        "    #if max_counter == 20:\n",
        "      #count = 10\n",
        "\n",
        "  probabilities.append(q)  \n",
        "  success_percentage.append(success/10)\n",
        "\n",
        "#plot results\n",
        "plt.plot(probabilities, success_percentage)\n",
        "plt.ylabel(\"average strategy success rate for Strategy 1\")\n",
        "plt.xlabel(\"flammability q\")"
      ],
      "execution_count": null,
      "outputs": [
        {
          "output_type": "stream",
          "text": [
            "0.0\n",
            "0.05\n",
            "0.1\n",
            "0.15000000000000002\n",
            "No path\n",
            "No path\n",
            "0.2\n",
            "0.25\n",
            "No path\n",
            "0.30000000000000004\n",
            "No path\n",
            "0.35000000000000003\n",
            "No path\n",
            "0.4\n",
            "No path\n",
            "0.45\n",
            "No path\n",
            "0.5\n",
            "No path\n",
            "No path\n",
            "No path\n",
            "0.55\n",
            "No path\n",
            "0.6000000000000001\n",
            "No path\n",
            "No path\n",
            "No path\n",
            "No path\n",
            "0.65\n",
            "0.7000000000000001\n",
            "No path\n",
            "No path\n",
            "No path\n",
            "No path\n",
            "No path\n",
            "0.75\n",
            "No path\n",
            "No path\n",
            "No path\n",
            "No path\n",
            "No path\n",
            "No path\n",
            "0.8\n",
            "No path\n",
            "No path\n",
            "No path\n",
            "No path\n",
            "No path\n",
            "No path\n",
            "No path\n",
            "No path\n",
            "No path\n",
            "0.8500000000000001\n",
            "No path\n",
            "No path\n",
            "No path\n",
            "No path\n",
            "No path\n",
            "No path\n",
            "No path\n",
            "No path\n",
            "No path\n",
            "0.9\n",
            "No path\n",
            "No path\n",
            "No path\n",
            "No path\n",
            "No path\n",
            "No path\n",
            "No path\n",
            "No path\n",
            "No path\n",
            "No path\n",
            "0.9500000000000001\n",
            "No path\n",
            "No path\n",
            "No path\n",
            "No path\n",
            "No path\n",
            "No path\n",
            "No path\n",
            "No path\n",
            "No path\n",
            "No path\n"
          ],
          "name": "stdout"
        },
        {
          "output_type": "execute_result",
          "data": {
            "text/plain": [
              "Text(0.5, 0, 'flammability q')"
            ]
          },
          "metadata": {
            "tags": []
          },
          "execution_count": 219
        },
        {
          "output_type": "display_data",
          "data": {
            "image/png": "[encoded data removed]",
            "text/plain": [
              "<Figure size 432x288 with 1 Axes>"
            ]
          },
          "metadata": {
            "tags": [],
            "needs_background": "light"
          }
        }
      ]
    }
  ]
}
