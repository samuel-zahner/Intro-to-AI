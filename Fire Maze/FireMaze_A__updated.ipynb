{
  "nbformat": 4,
  "nbformat_minor": 0,
  "metadata": {
    "kernelspec": {
      "display_name": "Python 3",
      "language": "python",
      "name": "python3"
    },
    "language_info": {
      "codemirror_mode": {
        "name": "ipython",
        "version": 3
      },
      "file_extension": ".py",
      "mimetype": "text/x-python",
      "name": "python",
      "nbconvert_exporter": "python",
      "pygments_lexer": "ipython3",
      "version": "3.8.3"
    },
    "colab": {
      "name": "FireMaze-A*_updated.ipynb",
      "provenance": [],
      "include_colab_link": true
    }
  },
  "cells": [
    {
      "cell_type": "markdown",
      "metadata": {
        "id": "view-in-github",
        "colab_type": "text"
      },
      "source": [
        "<a href=\"https://colab.research.google.com/github/samuel-zahner/Intro-to-AI/blob/main/FireMaze_A__updated.ipynb\" target=\"_parent\"><img src=\"https://colab.research.google.com/assets/colab-badge.svg\" alt=\"Open In Colab\"/></a>"
      ]
    },
    {
      "cell_type": "code",
      "metadata": {
        "id": "5qLfQPfSVbOg"
      },
      "source": [
        "#%matplotlib inlin\n",
        "import matplotlib.pyplot as plt\n",
        "import matplotlib.animation as animation\n",
        "from IPython.display import HTML\n",
        "import numpy as np\n",
        "import random\n"
      ],
      "execution_count": 3,
      "outputs": []
    },
    {
      "cell_type": "code",
      "metadata": {
        "id": "B8Zq0nSwVbOh"
      },
      "source": [
        "#** code for plotting **\n",
        "\n",
        "step_size = 10\n",
        "start_color = np.array([0,0,255]) #blue\n",
        "goal_color = np.array([0,255,0]) #green\n",
        "fire_color = np.array([0,0,0])#black\n",
        "neighbor_color = np.array([220,220,220])#gray\n",
        "fringe_color = np.array([128,128,128])#yellow\n",
        "explored_color = np.array([255,0,0])#red\n",
        "node_color = np.array([255,165,0])#orange\n",
        "\n",
        "def plot_fire(fire_set, dim):\n",
        "    fig = plt.figure()\n",
        "\n",
        "    prob_map = np.zeros((step_size*dim,step_size*dim,3)).astype(int) + 255\n",
        "    # add grid\n",
        "    prob_map[step_size-1::step_size,:,:] = 0\n",
        "    prob_map[:,step_size-1::step_size,:] = 0\n",
        "\n",
        "\n",
        "    prob_map[0:step_size-1,:step_size-1] = start_color\n",
        "    prob_map[step_size*(dim-1):step_size*(dim-1)+step_size-1,step_size*(dim-1):step_size*(dim-1)+step_size-1] = goal_color\n",
        "    plt.xticks([], [])\n",
        "    plt.yticks([], [])\n",
        "    \n",
        "    for i in range(dim):\n",
        "        for j in range(dim):\n",
        "            if (i,j) in fire_set:\n",
        "                prob_map[step_size*i:step_size*i + step_size-1, step_size*j:step_size*j + step_size-1] = fire_color\n",
        "    plt.imshow(prob_map)\n",
        "    \n",
        "def node_plot(prob_map, node, color, alpha=1.0):\n",
        "    prob_map[node[0]*step_size:node[0]*step_size+step_size-1,node[1]*step_size:node[1]*step_size+step_size-1] = color*alpha\n",
        "    \n",
        "    \n",
        "def path_plot(path, dim, fire_set):\n",
        "    # plot given the info as listed \n",
        "    #fig = plt.figure()\n",
        "    prob_map = np.zeros((step_size*dim,step_size*dim,3)).astype(int) + 255\n",
        "    # add grid\n",
        "    prob_map[step_size-1::step_size,:,:] = 0\n",
        "    prob_map[:,step_size-1::step_size,:] = 0\n",
        "    \n",
        "    for i in range(dim):\n",
        "        for j in range(dim):\n",
        "            if (i,j) in fire_set:\n",
        "                prob_map[step_size*i:step_size*i + step_size-1, step_size*j:step_size*j + step_size-1] = fire_color\n",
        "\n",
        "    for i in range(len(path)):\n",
        "        node = path[i]\n",
        "        node_plot(prob_map, node, node_color, alpha=i/len(path)+1.0)\n",
        "\n",
        "    prob_map[0:step_size-1,:step_size-1] = start_color\n",
        "    prob_map[step_size*(dim-1):step_size*(dim-1)+step_size-1,step_size*(dim-1):step_size*(dim-1)+step_size-1] = goal_color\n",
        "\n",
        "\n",
        "    plt.xticks([], [])\n",
        "    plt.yticks([], [])\n",
        "\n",
        "    img = plt.imshow(prob_map)\n",
        "    return img"
      ],
      "execution_count": 4,
      "outputs": []
    },
    {
      "cell_type": "code",
      "metadata": {
        "id": "eAc9QCPZVbOi"
      },
      "source": [
        "def dfs_search(dim, fire_set):\n",
        "    transitions = [(0,-1),(-1,0),(0,1),(1,0)]\n",
        "    start = (0,0)\n",
        "    goal = (dim-1, dim-1)\n",
        "    explored_spaces = set([])\n",
        "    fringe = [(start, [])]\n",
        "    #imgs = []\n",
        "    #fig = plt.figure()\n",
        "    win_flag = False\n",
        "\n",
        "    #parent_map = [[(0,0) for i in range(dim)] for i in range(dim)]\n",
        "    #parent_fringe = [(-1,-1)]\n",
        "\n",
        "    while len(fringe) > 0:\n",
        "        node, path = fringe.pop(-1)\n",
        "    \n",
        "        if node in explored_spaces:\n",
        "            continue\n",
        "        if node in fire_set:\n",
        "            continue\n",
        "        \n",
        "        path.append(node)\n",
        "    \n",
        "        if node[0] == goal[0] and node[1] == goal[1]:\n",
        "            print(\"You have found the goal\")\n",
        "            win_flag = True\n",
        "            break\n",
        "        \n",
        "    \n",
        "        for i in range(len(transitions)):\n",
        "            dy, dx = transitions[i]\n",
        "        \n",
        "            x = node[0] + dx\n",
        "            y = node[1] + dy\n",
        "        \n",
        "            if x < 0 or y < 0 or x > dim-1 or y > dim-1:\n",
        "                continue\n",
        "            if (x,y) in explored_spaces:\n",
        "                continue\n",
        "            if (x,y) in fire_set:\n",
        "                continue\n",
        "            if (x,y) not in fringe:\n",
        "                fringe.append(((x,y), path[:]))\n",
        "    \n",
        "        explored_spaces.add(node)\n",
        "        \n",
        "    if win_flag == False:\n",
        "        print(\"There is no path from start to goal\")\n",
        "        return\n",
        "    \n",
        "    \n",
        "    print(\"Path length: \" + str(len(path)-1))\n",
        "    path_plot(path, dim, fire_set)\n",
        "    return True"
      ],
      "execution_count": 5,
      "outputs": []
    },
    {
      "cell_type": "code",
      "metadata": {
        "id": "uLFDBHDaVbOi"
      },
      "source": [
        "def bfs_search(dim, fire_matrix):\n",
        "    transitions = [(0,-1),(-1,0),(0,1),(1,0)]\n",
        "    start = (0,0)\n",
        "    goal = (dim-1, dim-1)\n",
        "    explored_spaces = set([])\n",
        "    fringe = [(start, [])]\n",
        "    win_flag = False\n",
        "\n",
        "\n",
        "    while len(fringe) > 0:\n",
        "        node, shortest_path = fringe.pop(0)\n",
        "        \n",
        "    \n",
        "        if node in explored_spaces:\n",
        "            continue\n",
        "        if node in fire_set:\n",
        "            continue\n",
        "            \n",
        "        shortest_path.append(node)\n",
        "    \n",
        "        if node[0] == goal[0] and node[1] == goal[1]:\n",
        "            print(\"You have found the goal\")\n",
        "            win_flag = True\n",
        "            break\n",
        "\n",
        "    \n",
        "        for i in range(len(transitions)):\n",
        "            dy, dx = transitions[i]\n",
        "        \n",
        "            x = node[0] + dx\n",
        "            y = node[1] + dy\n",
        "        \n",
        "            if x < 0 or y < 0 or x > dim-1 or y > dim-1:\n",
        "                continue\n",
        "            if (x,y) in explored_spaces:\n",
        "                continue\n",
        "            if (x,y) in fire_set:\n",
        "                continue\n",
        "            if (x,y) not in fringe:\n",
        "                fringe.append(((x,y), shortest_path[:]))\n",
        "       \n",
        "    \n",
        "        explored_spaces.add(node)\n",
        "        \n",
        "    if win_flag == False:\n",
        "        print(\"There is no path from start to goal\")\n",
        "        return False\n",
        "    \n",
        "    \n",
        "    print(\"Shortest path: \" + str(len(shortest_path)-1))\n",
        "    path_plot(shortest_path, dim, fire_set)\n",
        "    return True"
      ],
      "execution_count": 4,
      "outputs": []
    },
    {
      "cell_type": "code",
      "metadata": {
        "colab": {
          "base_uri": "https://localhost:8080/",
          "height": 286
        },
        "id": "F1o9r77AVbOj",
        "outputId": "db226274-07d9-480c-b77f-2119bd37cc3c"
      },
      "source": [
        "#take input from user\n",
        "while True:\n",
        "    try:\n",
        "        dim = int(input(\"Enter dimension of maze: \"))\n",
        "        if dim < 3:\n",
        "            raise ValueError #this will send it to the print message and back to the input option\n",
        "        break\n",
        "    except ValueError:\n",
        "        print(\"Invalid integer. Dimension must be at least 3.\")\n",
        "\n",
        "while True:\n",
        "    try:\n",
        "        p = float(input(\"Enter probability of fire: \"))\n",
        "        if 9 < 0 or p > 1:\n",
        "            raise ValueError #this will send it to the print message and back to the input option\n",
        "        break\n",
        "    except ValueError:\n",
        "        print(\"Invalid integer. Probability must be in the range (0,1).\")\n",
        "\n",
        "\n",
        "\n",
        "#print(dim)\n",
        "#print(p)\n",
        "\n",
        "fire_set = set([])\n",
        "for i in range(dim):\n",
        "    for j in range(dim):\n",
        "        if i == 0 and j == 0 or i == dim-1 and j == dim-1:\n",
        "            continue\n",
        "        if random.uniform(0,1) < p:\n",
        "            fire_set.add((i,j))\n",
        "#print(fire_set)            \n",
        "plot_fire(fire_set, dim)\n",
        "\n"
      ],
      "execution_count": 6,
      "outputs": [
        {
          "output_type": "stream",
          "text": [
            "Enter dimension of maze: 10\n",
            "Enter probability of fire: .3\n"
          ],
          "name": "stdout"
        },
        {
          "output_type": "display_data",
          "data": {
            "image/png": "[encoded data removed]",
            "text/plain": [
              "<Figure size 432x288 with 1 Axes>"
            ]
          },
          "metadata": {
            "tags": []
          }
        }
      ]
    },
    {
      "cell_type": "code",
      "metadata": {
        "colab": {
          "base_uri": "https://localhost:8080/",
          "height": 320
        },
        "id": "QEBzmlNPVbOj",
        "outputId": "8a67cfa4-ebfd-4bde-e500-fa60aa392022"
      },
      "source": [
        "#DFS\n",
        "dfs_search(dim, fire_set)"
      ],
      "execution_count": 15,
      "outputs": [
        {
          "output_type": "stream",
          "text": [
            "Clipping input data to the valid range for imshow with RGB data ([0..1] for floats or [0..255] for integers).\n"
          ],
          "name": "stderr"
        },
        {
          "output_type": "stream",
          "text": [
            "You have found the goal\n",
            "Path length: 46\n"
          ],
          "name": "stdout"
        },
        {
          "output_type": "execute_result",
          "data": {
            "text/plain": [
              "True"
            ]
          },
          "metadata": {
            "tags": []
          },
          "execution_count": 15
        },
        {
          "output_type": "display_data",
          "data": {
            "image/png": "[encoded data removed]",
            "text/plain": [
              "<Figure size 432x288 with 1 Axes>"
            ]
          },
          "metadata": {
            "tags": []
          }
        }
      ]
    },
    {
      "cell_type": "code",
      "metadata": {
        "colab": {
          "base_uri": "https://localhost:8080/",
          "height": 320
        },
        "id": "HphD3NVHVbOk",
        "outputId": "a56d097d-320c-4a04-e1c9-90e1721c9f22"
      },
      "source": [
        "#BFS\n",
        "bfs_search(dim, fire_set)"
      ],
      "execution_count": 16,
      "outputs": [
        {
          "output_type": "stream",
          "text": [
            "Clipping input data to the valid range for imshow with RGB data ([0..1] for floats or [0..255] for integers).\n"
          ],
          "name": "stderr"
        },
        {
          "output_type": "stream",
          "text": [
            "You have found the goal\n",
            "Shortest path: 38\n"
          ],
          "name": "stdout"
        },
        {
          "output_type": "execute_result",
          "data": {
            "text/plain": [
              "True"
            ]
          },
          "metadata": {
            "tags": []
          },
          "execution_count": 16
        },
        {
          "output_type": "display_data",
          "data": {
            "image/png": "[encoded data removed]",
            "text/plain": [
              "<Figure size 432x288 with 1 Axes>"
            ]
          },
          "metadata": {
            "tags": []
          }
        }
      ]
    },
    {
      "cell_type": "code",
      "metadata": {
        "colab": {
          "base_uri": "https://localhost:8080/",
          "height": 1000
        },
        "id": "abzJQTmpWEcH",
        "outputId": "6302a8a0-48ad-459d-b91e-c08754f99740"
      },
      "source": [
        "#Check Largest Dimension DFS\n",
        "p = .3\n",
        "for dim in range(4,1000):\n",
        "  for i in range (10):\n",
        "    fire_set = set([])\n",
        "    for i in range(dim):\n",
        "        for j in range(dim):\n",
        "            if i == 0 and j == 0 or i == dim-1 and j == dim-1:\n",
        "                continue\n",
        "            if random.uniform(0,1) < p:\n",
        "                fire_set.add((i,j))\n",
        "    print(\"dimension: \", dim)            \n",
        "    #plot_fire(fire_set, dim)\n",
        "    dfs_search(dim, fire_set)"
      ],
      "execution_count": 19,
      "outputs": [
        {
          "output_type": "stream",
          "text": [
            "Clipping input data to the valid range for imshow with RGB data ([0..1] for floats or [0..255] for integers).\n",
            "Clipping input data to the valid range for imshow with RGB data ([0..1] for floats or [0..255] for integers).\n",
            "Clipping input data to the valid range for imshow with RGB data ([0..1] for floats or [0..255] for integers).\n",
            "Clipping input data to the valid range for imshow with RGB data ([0..1] for floats or [0..255] for integers).\n",
            "Clipping input data to the valid range for imshow with RGB data ([0..1] for floats or [0..255] for integers).\n",
            "Clipping input data to the valid range for imshow with RGB data ([0..1] for floats or [0..255] for integers).\n",
            "Clipping input data to the valid range for imshow with RGB data ([0..1] for floats or [0..255] for integers).\n",
            "Clipping input data to the valid range for imshow with RGB data ([0..1] for floats or [0..255] for integers).\n",
            "Clipping input data to the valid range for imshow with RGB data ([0..1] for floats or [0..255] for integers).\n",
            "Clipping input data to the valid range for imshow with RGB data ([0..1] for floats or [0..255] for integers).\n",
            "Clipping input data to the valid range for imshow with RGB data ([0..1] for floats or [0..255] for integers).\n",
            "Clipping input data to the valid range for imshow with RGB data ([0..1] for floats or [0..255] for integers).\n",
            "Clipping input data to the valid range for imshow with RGB data ([0..1] for floats or [0..255] for integers).\n",
            "Clipping input data to the valid range for imshow with RGB data ([0..1] for floats or [0..255] for integers).\n",
            "Clipping input data to the valid range for imshow with RGB data ([0..1] for floats or [0..255] for integers).\n",
            "Clipping input data to the valid range for imshow with RGB data ([0..1] for floats or [0..255] for integers).\n",
            "Clipping input data to the valid range for imshow with RGB data ([0..1] for floats or [0..255] for integers).\n",
            "Clipping input data to the valid range for imshow with RGB data ([0..1] for floats or [0..255] for integers).\n",
            "Clipping input data to the valid range for imshow with RGB data ([0..1] for floats or [0..255] for integers).\n",
            "Clipping input data to the valid range for imshow with RGB data ([0..1] for floats or [0..255] for integers).\n",
            "Clipping input data to the valid range for imshow with RGB data ([0..1] for floats or [0..255] for integers).\n",
            "Clipping input data to the valid range for imshow with RGB data ([0..1] for floats or [0..255] for integers).\n",
            "Clipping input data to the valid range for imshow with RGB data ([0..1] for floats or [0..255] for integers).\n",
            "Clipping input data to the valid range for imshow with RGB data ([0..1] for floats or [0..255] for integers).\n",
            "Clipping input data to the valid range for imshow with RGB data ([0..1] for floats or [0..255] for integers).\n",
            "Clipping input data to the valid range for imshow with RGB data ([0..1] for floats or [0..255] for integers).\n",
            "Clipping input data to the valid range for imshow with RGB data ([0..1] for floats or [0..255] for integers).\n"
          ],
          "name": "stderr"
        },
        {
          "output_type": "stream",
          "text": [
            "dimension:  4\n",
            "You have found the goal\n",
            "Path length: 8\n",
            "dimension:  4\n",
            "You have found the goal\n",
            "Path length: 6\n",
            "dimension:  4\n",
            "You have found the goal\n",
            "Path length: 6\n",
            "dimension:  5\n",
            "You have found the goal\n",
            "Path length: 8\n",
            "dimension:  5\n",
            "There is no path from start to goal\n",
            "dimension:  5\n",
            "There is no path from start to goal\n",
            "dimension:  6\n",
            "You have found the goal\n",
            "Path length: 10\n",
            "dimension:  6\n",
            "There is no path from start to goal\n",
            "dimension:  6\n",
            "You have found the goal\n",
            "Path length: 12\n",
            "dimension:  7\n",
            "You have found the goal\n",
            "Path length: 12\n",
            "dimension:  7\n",
            "There is no path from start to goal\n",
            "dimension:  7\n",
            "There is no path from start to goal\n",
            "dimension:  8\n",
            "There is no path from start to goal\n",
            "dimension:  8\n",
            "There is no path from start to goal\n",
            "dimension:  8\n",
            "There is no path from start to goal\n",
            "dimension:  9\n",
            "There is no path from start to goal\n",
            "dimension:  9\n",
            "You have found the goal\n",
            "Path length: 18\n",
            "dimension:  9\n",
            "You have found the goal\n",
            "Path length: 20\n",
            "dimension:  10\n",
            "You have found the goal\n",
            "Path length: 22\n",
            "dimension:  10\n",
            "There is no path from start to goal\n",
            "dimension:  10\n",
            "There is no path from start to goal\n",
            "dimension:  11\n",
            "You have found the goal\n",
            "Path length: 24\n",
            "dimension:  11\n",
            "You have found the goal\n",
            "Path length: 24\n",
            "dimension:  11\n",
            "You have found the goal\n",
            "Path length: 26\n",
            "dimension:  12\n",
            "There is no path from start to goal\n",
            "dimension:  12\n",
            "You have found the goal\n",
            "Path length: 24\n",
            "dimension:  12\n",
            "You have found the goal\n",
            "Path length: 26\n",
            "dimension:  13\n",
            "There is no path from start to goal\n",
            "dimension:  13\n",
            "You have found the goal\n",
            "Path length: 26\n",
            "dimension:  13\n",
            "You have found the goal\n",
            "Path length: 26\n",
            "dimension:  14\n",
            "There is no path from start to goal\n",
            "dimension:  14\n",
            "You have found the goal\n",
            "Path length: 34\n",
            "dimension:  14\n",
            "There is no path from start to goal\n",
            "dimension:  15\n",
            "There is no path from start to goal\n",
            "dimension:  15\n",
            "There is no path from start to goal\n",
            "dimension:  15\n",
            "You have found the goal\n",
            "Path length: 34\n",
            "dimension:  16\n",
            "There is no path from start to goal\n",
            "dimension:  16\n",
            "You have found the goal\n",
            "Path length: 32\n",
            "dimension:  16\n",
            "You have found the goal\n",
            "Path length: 42\n",
            "dimension:  17\n",
            "There is no path from start to goal\n",
            "dimension:  17\n",
            "You have found the goal\n",
            "Path length: 42\n",
            "dimension:  17\n",
            "There is no path from start to goal\n",
            "dimension:  18\n",
            "You have found the goal\n",
            "Path length: 46\n",
            "dimension:  18\n",
            "You have found the goal\n",
            "Path length: 42\n",
            "dimension:  18\n",
            "There is no path from start to goal\n",
            "dimension:  19\n",
            "You have found the goal\n",
            "Path length: 38\n",
            "dimension:  19\n",
            "There is no path from start to goal\n",
            "dimension:  19\n",
            "You have found the goal\n",
            "Path length: 46\n",
            "dimension:  20\n",
            "You have found the goal\n",
            "Path length: 46\n",
            "dimension:  20\n",
            "There is no path from start to goal\n",
            "dimension:  20\n",
            "There is no path from start to goal\n",
            "dimension:  21\n",
            "You have found the goal\n",
            "Path length: 50"
          ],
          "name": "stdout"
        },
        {
          "output_type": "stream",
          "text": [
            "Clipping input data to the valid range for imshow with RGB data ([0..1] for floats or [0..255] for integers).\n",
            "Clipping input data to the valid range for imshow with RGB data ([0..1] for floats or [0..255] for integers).\n",
            "Clipping input data to the valid range for imshow with RGB data ([0..1] for floats or [0..255] for integers).\n",
            "Clipping input data to the valid range for imshow with RGB data ([0..1] for floats or [0..255] for integers).\n",
            "Clipping input data to the valid range for imshow with RGB data ([0..1] for floats or [0..255] for integers).\n",
            "Clipping input data to the valid range for imshow with RGB data ([0..1] for floats or [0..255] for integers).\n",
            "Clipping input data to the valid range for imshow with RGB data ([0..1] for floats or [0..255] for integers).\n",
            "Clipping input data to the valid range for imshow with RGB data ([0..1] for floats or [0..255] for integers).\n",
            "Clipping input data to the valid range for imshow with RGB data ([0..1] for floats or [0..255] for integers).\n",
            "Clipping input data to the valid range for imshow with RGB data ([0..1] for floats or [0..255] for integers).\n",
            "Clipping input data to the valid range for imshow with RGB data ([0..1] for floats or [0..255] for integers).\n",
            "Clipping input data to the valid range for imshow with RGB data ([0..1] for floats or [0..255] for integers).\n",
            "Clipping input data to the valid range for imshow with RGB data ([0..1] for floats or [0..255] for integers).\n",
            "Clipping input data to the valid range for imshow with RGB data ([0..1] for floats or [0..255] for integers).\n",
            "Clipping input data to the valid range for imshow with RGB data ([0..1] for floats or [0..255] for integers).\n",
            "Clipping input data to the valid range for imshow with RGB data ([0..1] for floats or [0..255] for integers).\n",
            "Clipping input data to the valid range for imshow with RGB data ([0..1] for floats or [0..255] for integers).\n"
          ],
          "name": "stderr"
        },
        {
          "output_type": "stream",
          "text": [
            "\n",
            "dimension:  21\n",
            "You have found the goal\n",
            "Path length: 52\n",
            "dimension:  21\n",
            "You have found the goal\n",
            "Path length: 62\n",
            "dimension:  22\n",
            "You have found the goal\n",
            "Path length: 54\n",
            "dimension:  22\n",
            "You have found the goal\n",
            "Path length: 50\n",
            "dimension:  22\n",
            "You have found the goal\n",
            "Path length: 56\n",
            "dimension:  23\n",
            "You have found the goal\n",
            "Path length: 48\n",
            "dimension:  23\n",
            "There is no path from start to goal\n",
            "dimension:  23\n",
            "There is no path from start to goal\n",
            "dimension:  24\n",
            "You have found the goal\n",
            "Path length: 56\n",
            "dimension:  24\n",
            "You have found the goal\n",
            "Path length: 58\n",
            "dimension:  24\n",
            "You have found the goal\n",
            "Path length: 60\n",
            "dimension:  25\n",
            "There is no path from start to goal\n",
            "dimension:  25\n",
            "You have found the goal\n",
            "Path length: 64\n",
            "dimension:  25\n",
            "You have found the goal\n",
            "Path length: 82\n",
            "dimension:  26\n",
            "You have found the goal\n",
            "Path length: 60\n",
            "dimension:  26\n",
            "There is no path from start to goal\n",
            "dimension:  26\n",
            "There is no path from start to goal\n",
            "dimension:  27\n",
            "There is no path from start to goal\n",
            "dimension:  27\n",
            "There is no path from start to goal\n",
            "dimension:  27\n",
            "There is no path from start to goal\n",
            "dimension:  28\n",
            "You have found the goal\n",
            "Path length: 80\n",
            "dimension:  28\n",
            "There is no path from start to goal\n",
            "dimension:  28\n",
            "There is no path from start to goal\n",
            "dimension:  29\n",
            "You have found the goal\n",
            "Path length: 72\n",
            "dimension:  29\n",
            "There is no path from start to goal\n",
            "dimension:  29\n",
            "You have found the goal\n",
            "Path length: 58\n",
            "dimension:  30\n",
            "There is no path from start to goal\n",
            "dimension:  30\n",
            "You have found the goal\n",
            "Path length: 64\n"
          ],
          "name": "stdout"
        },
        {
          "output_type": "stream",
          "text": [
            "Clipping input data to the valid range for imshow with RGB data ([0..1] for floats or [0..255] for integers).\n",
            "Clipping input data to the valid range for imshow with RGB data ([0..1] for floats or [0..255] for integers).\n",
            "Clipping input data to the valid range for imshow with RGB data ([0..1] for floats or [0..255] for integers).\n",
            "Clipping input data to the valid range for imshow with RGB data ([0..1] for floats or [0..255] for integers).\n",
            "Clipping input data to the valid range for imshow with RGB data ([0..1] for floats or [0..255] for integers).\n",
            "Clipping input data to the valid range for imshow with RGB data ([0..1] for floats or [0..255] for integers).\n",
            "Clipping input data to the valid range for imshow with RGB data ([0..1] for floats or [0..255] for integers).\n",
            "Clipping input data to the valid range for imshow with RGB data ([0..1] for floats or [0..255] for integers).\n",
            "Clipping input data to the valid range for imshow with RGB data ([0..1] for floats or [0..255] for integers).\n",
            "Clipping input data to the valid range for imshow with RGB data ([0..1] for floats or [0..255] for integers).\n",
            "Clipping input data to the valid range for imshow with RGB data ([0..1] for floats or [0..255] for integers).\n",
            "Clipping input data to the valid range for imshow with RGB data ([0..1] for floats or [0..255] for integers).\n"
          ],
          "name": "stderr"
        },
        {
          "output_type": "stream",
          "text": [
            "dimension:  30\n",
            "You have found the goal\n",
            "Path length: 64\n",
            "dimension:  31\n",
            "There is no path from start to goal\n",
            "dimension:  31\n",
            "You have found the goal\n",
            "Path length: 78\n",
            "dimension:  31\n",
            "You have found the goal\n",
            "Path length: 70\n",
            "dimension:  32\n",
            "You have found the goal\n",
            "Path length: 90\n",
            "dimension:  32\n",
            "You have found the goal\n",
            "Path length: 82\n",
            "dimension:  32\n",
            "You have found the goal\n",
            "Path length: 66\n",
            "dimension:  33\n",
            "There is no path from start to goal\n",
            "dimension:  33\n",
            "There is no path from start to goal\n",
            "dimension:  33\n",
            "You have found the goal\n",
            "Path length: 114\n",
            "dimension:  34\n",
            "You have found the goal\n",
            "Path length: 84\n",
            "dimension:  34\n",
            "There is no path from start to goal\n",
            "dimension:  34\n",
            "There is no path from start to goal\n",
            "dimension:  35\n",
            "There is no path from start to goal\n",
            "dimension:  35\n",
            "You have found the goal\n",
            "Path length: 92\n",
            "dimension:  35\n",
            "There is no path from start to goal\n",
            "dimension:  36\n",
            "There is no path from start to goal\n",
            "dimension:  36\n",
            "There is no path from start to goal\n",
            "dimension:  36\n",
            "There is no path from start to goal\n",
            "dimension:  37\n",
            "You have found the goal\n",
            "Path length: 98\n",
            "dimension:  37\n",
            "You have found the goal\n",
            "Path length: 92\n",
            "dimension:  37\n",
            "You have found the goal\n",
            "Path length: 88\n",
            "dimension:  38\n"
          ],
          "name": "stdout"
        },
        {
          "output_type": "stream",
          "text": [
            "Clipping input data to the valid range for imshow with RGB data ([0..1] for floats or [0..255] for integers).\n",
            "Clipping input data to the valid range for imshow with RGB data ([0..1] for floats or [0..255] for integers).\n",
            "Clipping input data to the valid range for imshow with RGB data ([0..1] for floats or [0..255] for integers).\n",
            "Clipping input data to the valid range for imshow with RGB data ([0..1] for floats or [0..255] for integers).\n",
            "Clipping input data to the valid range for imshow with RGB data ([0..1] for floats or [0..255] for integers).\n",
            "Clipping input data to the valid range for imshow with RGB data ([0..1] for floats or [0..255] for integers).\n"
          ],
          "name": "stderr"
        },
        {
          "output_type": "stream",
          "text": [
            "There is no path from start to goal\n",
            "dimension:  38\n",
            "There is no path from start to goal\n",
            "dimension:  38\n",
            "There is no path from start to goal\n",
            "dimension:  39\n",
            "There is no path from start to goal\n",
            "dimension:  39\n",
            "You have found the goal\n",
            "Path length: 96\n",
            "dimension:  39\n",
            "You have found the goal\n",
            "Path length: 108\n",
            "dimension:  40\n",
            "There is no path from start to goal\n",
            "dimension:  40\n",
            "There is no path from start to goal\n",
            "dimension:  40\n",
            "There is no path from start to goal\n",
            "dimension:  41\n",
            "You have found the goal\n",
            "Path length: 112\n",
            "dimension:  41\n",
            "You have found the goal\n",
            "Path length: 154\n",
            "dimension:  41\n",
            "There is no path from start to goal\n",
            "dimension:  42\n",
            "There is no path from start to goal\n",
            "dimension:  42\n",
            "There is no path from start to goal\n",
            "dimension:  42\n",
            "You have found the goal\n",
            "Path length: 98\n",
            "dimension:  43\n",
            "There is no path from start to goal\n",
            "dimension:  43\n",
            "There is no path from start to goal\n",
            "dimension:  43\n",
            "You have found the goal\n",
            "Path length: 110\n",
            "dimension:  44\n",
            "You have found the goal\n",
            "Path length: 112\n"
          ],
          "name": "stdout"
        },
        {
          "output_type": "stream",
          "text": [
            "Clipping input data to the valid range for imshow with RGB data ([0..1] for floats or [0..255] for integers).\n",
            "Clipping input data to the valid range for imshow with RGB data ([0..1] for floats or [0..255] for integers).\n",
            "Clipping input data to the valid range for imshow with RGB data ([0..1] for floats or [0..255] for integers).\n",
            "Clipping input data to the valid range for imshow with RGB data ([0..1] for floats or [0..255] for integers).\n",
            "Clipping input data to the valid range for imshow with RGB data ([0..1] for floats or [0..255] for integers).\n",
            "Clipping input data to the valid range for imshow with RGB data ([0..1] for floats or [0..255] for integers).\n",
            "Clipping input data to the valid range for imshow with RGB data ([0..1] for floats or [0..255] for integers).\n"
          ],
          "name": "stderr"
        },
        {
          "output_type": "stream",
          "text": [
            "dimension:  44\n",
            "There is no path from start to goal\n",
            "dimension:  44\n",
            "You have found the goal\n",
            "Path length: 142\n",
            "dimension:  45\n",
            "You have found the goal\n",
            "Path length: 108\n",
            "dimension:  45\n",
            "There is no path from start to goal\n",
            "dimension:  45\n",
            "You have found the goal\n",
            "Path length: 182\n",
            "dimension:  46\n",
            "You have found the goal\n",
            "Path length: 172\n",
            "dimension:  46\n",
            "You have found the goal\n",
            "Path length: 114\n",
            "dimension:  46\n",
            "There is no path from start to goal\n",
            "dimension:  47\n",
            "You have found the goal\n",
            "Path length: 182\n",
            "dimension:  47\n",
            "There is no path from start to goal\n",
            "dimension:  47\n",
            "There is no path from start to goal\n",
            "dimension:  48\n"
          ],
          "name": "stdout"
        },
        {
          "output_type": "stream",
          "text": [
            "Clipping input data to the valid range for imshow with RGB data ([0..1] for floats or [0..255] for integers).\n",
            "Clipping input data to the valid range for imshow with RGB data ([0..1] for floats or [0..255] for integers).\n",
            "Clipping input data to the valid range for imshow with RGB data ([0..1] for floats or [0..255] for integers).\n",
            "Clipping input data to the valid range for imshow with RGB data ([0..1] for floats or [0..255] for integers).\n"
          ],
          "name": "stderr"
        },
        {
          "output_type": "stream",
          "text": [
            "There is no path from start to goal\n",
            "dimension:  48\n",
            "There is no path from start to goal\n",
            "dimension:  48\n",
            "There is no path from start to goal\n",
            "dimension:  49\n",
            "There is no path from start to goal\n",
            "dimension:  49\n",
            "You have found the goal\n",
            "Path length: 128\n",
            "dimension:  49\n",
            "There is no path from start to goal\n",
            "dimension:  50\n",
            "You have found the goal\n",
            "Path length: 142\n",
            "dimension:  50\n",
            "There is no path from start to goal\n",
            "dimension:  50\n",
            "You have found the goal\n",
            "Path length: 178\n",
            "dimension:  51\n",
            "You have found the goal\n",
            "Path length: 142\n",
            "dimension:  51\n",
            "There is no path from start to goal\n",
            "dimension:  51\n"
          ],
          "name": "stdout"
        },
        {
          "output_type": "stream",
          "text": [
            "Clipping input data to the valid range for imshow with RGB data ([0..1] for floats or [0..255] for integers).\n",
            "Clipping input data to the valid range for imshow with RGB data ([0..1] for floats or [0..255] for integers).\n",
            "Clipping input data to the valid range for imshow with RGB data ([0..1] for floats or [0..255] for integers).\n",
            "Clipping input data to the valid range for imshow with RGB data ([0..1] for floats or [0..255] for integers).\n",
            "Clipping input data to the valid range for imshow with RGB data ([0..1] for floats or [0..255] for integers).\n",
            "Clipping input data to the valid range for imshow with RGB data ([0..1] for floats or [0..255] for integers).\n",
            "Clipping input data to the valid range for imshow with RGB data ([0..1] for floats or [0..255] for integers).\n"
          ],
          "name": "stderr"
        },
        {
          "output_type": "stream",
          "text": [
            "There is no path from start to goal\n",
            "dimension:  52\n",
            "There is no path from start to goal\n",
            "dimension:  52\n",
            "There is no path from start to goal\n",
            "dimension:  52\n",
            "You have found the goal\n",
            "Path length: 164\n",
            "dimension:  53\n",
            "You have found the goal\n",
            "Path length: 236\n",
            "dimension:  53\n",
            "You have found the goal\n",
            "Path length: 162\n",
            "dimension:  53\n",
            "You have found the goal\n",
            "Path length: 210\n",
            "dimension:  54\n",
            "You have found the goal\n",
            "Path length: 130\n",
            "dimension:  54\n",
            "You have found the goal\n",
            "Path length: 176\n",
            "dimension:  54\n",
            "You have found the goal\n",
            "Path length: 154\n"
          ],
          "name": "stdout"
        },
        {
          "output_type": "stream",
          "text": [
            "Clipping input data to the valid range for imshow with RGB data ([0..1] for floats or [0..255] for integers).\n"
          ],
          "name": "stderr"
        },
        {
          "output_type": "stream",
          "text": [
            "dimension:  55\n",
            "There is no path from start to goal\n",
            "dimension:  55\n",
            "There is no path from start to goal\n",
            "dimension:  55\n",
            "There is no path from start to goal\n",
            "dimension:  56\n",
            "You have found the goal\n",
            "Path length: 184\n",
            "dimension:  56\n",
            "There is no path from start to goal\n",
            "dimension:  56\n",
            "There is no path from start to goal\n",
            "dimension:  57\n",
            "You have found the goal\n",
            "Path length: 174\n"
          ],
          "name": "stdout"
        },
        {
          "output_type": "stream",
          "text": [
            "Clipping input data to the valid range for imshow with RGB data ([0..1] for floats or [0..255] for integers).\n",
            "Clipping input data to the valid range for imshow with RGB data ([0..1] for floats or [0..255] for integers).\n",
            "Clipping input data to the valid range for imshow with RGB data ([0..1] for floats or [0..255] for integers).\n",
            "Clipping input data to the valid range for imshow with RGB data ([0..1] for floats or [0..255] for integers).\n"
          ],
          "name": "stderr"
        },
        {
          "output_type": "stream",
          "text": [
            "dimension:  57\n",
            "You have found the goal\n",
            "Path length: 158\n",
            "dimension:  57\n",
            "You have found the goal\n",
            "Path length: 190\n",
            "dimension:  58\n",
            "There is no path from start to goal\n",
            "dimension:  58\n",
            "You have found the goal\n",
            "Path length: 272\n",
            "dimension:  58\n",
            "There is no path from start to goal\n",
            "dimension:  59\n"
          ],
          "name": "stdout"
        },
        {
          "output_type": "stream",
          "text": [
            "Clipping input data to the valid range for imshow with RGB data ([0..1] for floats or [0..255] for integers).\n",
            "Clipping input data to the valid range for imshow with RGB data ([0..1] for floats or [0..255] for integers).\n",
            "Clipping input data to the valid range for imshow with RGB data ([0..1] for floats or [0..255] for integers).\n",
            "Clipping input data to the valid range for imshow with RGB data ([0..1] for floats or [0..255] for integers).\n",
            "Clipping input data to the valid range for imshow with RGB data ([0..1] for floats or [0..255] for integers).\n"
          ],
          "name": "stderr"
        },
        {
          "output_type": "stream",
          "text": [
            "There is no path from start to goal\n",
            "dimension:  59\n",
            "You have found the goal\n",
            "Path length: 196\n",
            "dimension:  59\n",
            "You have found the goal\n",
            "Path length: 168\n",
            "dimension:  60\n",
            "You have found the goal\n",
            "Path length: 240\n",
            "dimension:  60\n",
            "You have found the goal\n",
            "Path length: 200\n",
            "dimension:  60\n",
            "There is no path from start to goal\n",
            "dimension:  61\n",
            "There is no path from start to goal\n",
            "dimension:  61\n",
            "You have found the goal\n",
            "Path length: 230\n"
          ],
          "name": "stdout"
        },
        {
          "output_type": "stream",
          "text": [
            "Clipping input data to the valid range for imshow with RGB data ([0..1] for floats or [0..255] for integers).\n",
            "Clipping input data to the valid range for imshow with RGB data ([0..1] for floats or [0..255] for integers).\n",
            "Clipping input data to the valid range for imshow with RGB data ([0..1] for floats or [0..255] for integers).\n",
            "Clipping input data to the valid range for imshow with RGB data ([0..1] for floats or [0..255] for integers).\n"
          ],
          "name": "stderr"
        },
        {
          "output_type": "stream",
          "text": [
            "dimension:  61\n",
            "You have found the goal\n",
            "Path length: 218\n",
            "dimension:  62\n",
            "There is no path from start to goal\n",
            "dimension:  62\n",
            "You have found the goal\n",
            "Path length: 172\n",
            "dimension:  62\n",
            "You have found the goal\n",
            "Path length: 204\n",
            "dimension:  63\n",
            "You have found the goal\n",
            "Path length: 188\n",
            "dimension:  63\n"
          ],
          "name": "stdout"
        },
        {
          "output_type": "stream",
          "text": [
            "Clipping input data to the valid range for imshow with RGB data ([0..1] for floats or [0..255] for integers).\n",
            "Clipping input data to the valid range for imshow with RGB data ([0..1] for floats or [0..255] for integers).\n",
            "Clipping input data to the valid range for imshow with RGB data ([0..1] for floats or [0..255] for integers).\n"
          ],
          "name": "stderr"
        },
        {
          "output_type": "stream",
          "text": [
            "There is no path from start to goal\n",
            "dimension:  63\n",
            "You have found the goal\n",
            "Path length: 168\n",
            "dimension:  64\n",
            "There is no path from start to goal\n",
            "dimension:  64\n",
            "There is no path from start to goal\n",
            "dimension:  64\n",
            "You have found the goal\n",
            "Path length: 182\n",
            "dimension:  65\n",
            "You have found the goal\n",
            "Path length: 174\n"
          ],
          "name": "stdout"
        },
        {
          "output_type": "stream",
          "text": [
            "Clipping input data to the valid range for imshow with RGB data ([0..1] for floats or [0..255] for integers).\n"
          ],
          "name": "stderr"
        },
        {
          "output_type": "stream",
          "text": [
            "dimension:  65\n",
            "There is no path from start to goal\n",
            "dimension:  65\n",
            "There is no path from start to goal\n",
            "dimension:  66\n",
            "There is no path from start to goal\n",
            "dimension:  66\n",
            "You have found the goal\n",
            "Path length: 174\n",
            "dimension:  66\n",
            "You have found the goal\n",
            "Path length: 172\n"
          ],
          "name": "stdout"
        },
        {
          "output_type": "stream",
          "text": [
            "Clipping input data to the valid range for imshow with RGB data ([0..1] for floats or [0..255] for integers).\n",
            "Clipping input data to the valid range for imshow with RGB data ([0..1] for floats or [0..255] for integers).\n",
            "Clipping input data to the valid range for imshow with RGB data ([0..1] for floats or [0..255] for integers).\n",
            "Clipping input data to the valid range for imshow with RGB data ([0..1] for floats or [0..255] for integers).\n",
            "Clipping input data to the valid range for imshow with RGB data ([0..1] for floats or [0..255] for integers).\n"
          ],
          "name": "stderr"
        },
        {
          "output_type": "stream",
          "text": [
            "dimension:  67\n",
            "You have found the goal\n",
            "Path length: 182\n",
            "dimension:  67\n",
            "There is no path from start to goal\n",
            "dimension:  67\n",
            "You have found the goal\n",
            "Path length: 238\n",
            "dimension:  68\n",
            "There is no path from start to goal\n",
            "dimension:  68\n",
            "You have found the goal\n",
            "Path length: 200\n",
            "dimension:  68\n",
            "You have found the goal\n",
            "Path length: 314\n",
            "dimension:  69\n",
            "You have found the goal\n",
            "Path length: 264\n"
          ],
          "name": "stdout"
        },
        {
          "output_type": "stream",
          "text": [
            "Clipping input data to the valid range for imshow with RGB data ([0..1] for floats or [0..255] for integers).\n",
            "Clipping input data to the valid range for imshow with RGB data ([0..1] for floats or [0..255] for integers).\n",
            "Clipping input data to the valid range for imshow with RGB data ([0..1] for floats or [0..255] for integers).\n"
          ],
          "name": "stderr"
        },
        {
          "output_type": "stream",
          "text": [
            "dimension:  69\n",
            "You have found the goal\n",
            "Path length: 178\n",
            "dimension:  69\n",
            "There is no path from start to goal\n",
            "dimension:  70\n",
            "There is no path from start to goal\n",
            "dimension:  70\n",
            "You have found the goal\n",
            "Path length: 180\n"
          ],
          "name": "stdout"
        },
        {
          "output_type": "stream",
          "text": [
            "Clipping input data to the valid range for imshow with RGB data ([0..1] for floats or [0..255] for integers).\n"
          ],
          "name": "stderr"
        },
        {
          "output_type": "stream",
          "text": [
            "dimension:  70\n",
            "You have found the goal\n",
            "Path length: 210\n",
            "dimension:  71\n",
            "There is no path from start to goal\n",
            "dimension:  71\n",
            "There is no path from start to goal\n",
            "dimension:  71\n",
            "You have found the goal\n",
            "Path length: 220\n"
          ],
          "name": "stdout"
        },
        {
          "output_type": "stream",
          "text": [
            "Clipping input data to the valid range for imshow with RGB data ([0..1] for floats or [0..255] for integers).\n",
            "Clipping input data to the valid range for imshow with RGB data ([0..1] for floats or [0..255] for integers).\n",
            "Clipping input data to the valid range for imshow with RGB data ([0..1] for floats or [0..255] for integers).\n"
          ],
          "name": "stderr"
        },
        {
          "output_type": "stream",
          "text": [
            "dimension:  72\n",
            "You have found the goal\n",
            "Path length: 196\n",
            "dimension:  72\n",
            "You have found the goal\n",
            "Path length: 224\n",
            "dimension:  72\n"
          ],
          "name": "stdout"
        },
        {
          "output_type": "stream",
          "text": [
            "Clipping input data to the valid range for imshow with RGB data ([0..1] for floats or [0..255] for integers).\n"
          ],
          "name": "stderr"
        },
        {
          "output_type": "stream",
          "text": [
            "There is no path from start to goal\n",
            "dimension:  73\n",
            "There is no path from start to goal\n",
            "dimension:  73\n",
            "There is no path from start to goal\n",
            "dimension:  73\n",
            "You have found the goal\n",
            "Path length: 364\n",
            "dimension:  74\n"
          ],
          "name": "stdout"
        },
        {
          "output_type": "stream",
          "text": [
            "Clipping input data to the valid range for imshow with RGB data ([0..1] for floats or [0..255] for integers).\n"
          ],
          "name": "stderr"
        },
        {
          "output_type": "stream",
          "text": [
            "There is no path from start to goal\n",
            "dimension:  74\n",
            "You have found the goal\n",
            "Path length: 476\n",
            "dimension:  74\n",
            "There is no path from start to goal\n",
            "dimension:  75\n",
            "There is no path from start to goal\n",
            "dimension:  75\n",
            "There is no path from start to goal\n",
            "dimension:  75\n",
            "There is no path from start to goal\n",
            "dimension:  76\n",
            "You have found the goal"
          ],
          "name": "stdout"
        },
        {
          "output_type": "stream",
          "text": [
            "Clipping input data to the valid range for imshow with RGB data ([0..1] for floats or [0..255] for integers).\n",
            "Clipping input data to the valid range for imshow with RGB data ([0..1] for floats or [0..255] for integers).\n"
          ],
          "name": "stderr"
        },
        {
          "output_type": "stream",
          "text": [
            "\n",
            "Path length: 262\n",
            "dimension:  76\n",
            "There is no path from start to goal\n",
            "dimension:  76\n",
            "There is no path from start to goal\n",
            "dimension:  77\n",
            "You have found the goal\n",
            "Path length: 270\n",
            "dimension:  77\n",
            "There is no path from start to goal\n",
            "dimension:  77\n"
          ],
          "name": "stdout"
        },
        {
          "output_type": "stream",
          "text": [
            "Clipping input data to the valid range for imshow with RGB data ([0..1] for floats or [0..255] for integers).\n"
          ],
          "name": "stderr"
        },
        {
          "output_type": "stream",
          "text": [
            "There is no path from start to goal\n",
            "dimension:  78\n",
            "There is no path from start to goal\n",
            "dimension:  78\n",
            "There is no path from start to goal\n",
            "dimension:  78\n",
            "You have found the goal\n",
            "Path length: 218\n"
          ],
          "name": "stdout"
        },
        {
          "output_type": "stream",
          "text": [
            "Clipping input data to the valid range for imshow with RGB data ([0..1] for floats or [0..255] for integers).\n",
            "Clipping input data to the valid range for imshow with RGB data ([0..1] for floats or [0..255] for integers).\n",
            "Clipping input data to the valid range for imshow with RGB data ([0..1] for floats or [0..255] for integers).\n",
            "Clipping input data to the valid range for imshow with RGB data ([0..1] for floats or [0..255] for integers).\n"
          ],
          "name": "stderr"
        },
        {
          "output_type": "stream",
          "text": [
            "dimension:  79\n",
            "You have found the goal\n",
            "Path length: 250\n",
            "dimension:  79\n",
            "You have found the goal\n",
            "Path length: 224\n",
            "dimension:  79\n",
            "You have found the goal\n",
            "Path length: 286\n",
            "dimension:  80\n",
            "You have found the goal\n",
            "Path length: 324\n"
          ],
          "name": "stdout"
        },
        {
          "output_type": "stream",
          "text": [
            "Clipping input data to the valid range for imshow with RGB data ([0..1] for floats or [0..255] for integers).\n",
            "Clipping input data to the valid range for imshow with RGB data ([0..1] for floats or [0..255] for integers).\n",
            "Clipping input data to the valid range for imshow with RGB data ([0..1] for floats or [0..255] for integers).\n"
          ],
          "name": "stderr"
        },
        {
          "output_type": "stream",
          "text": [
            "dimension:  80\n",
            "You have found the goal\n",
            "Path length: 314\n",
            "dimension:  80\n",
            "You have found the goal\n",
            "Path length: 230\n",
            "dimension:  81\n",
            "There is no path from start to goal\n",
            "dimension:  81\n",
            "There is no path from start to goal\n",
            "dimension:  81\n",
            "You have found the goal\n",
            "Path length: 220\n",
            "dimension:  82\n",
            "There is no path from start to goal\n",
            "dimension:  82\n",
            "There is no path from start to goal\n",
            "dimension:  82\n",
            "There is no path from start to goal\n",
            "dimension:  83\n",
            "There is no path from start to goal\n",
            "dimension:  83\n",
            "There is no path from start to goal\n",
            "dimension:  83\n",
            "There is no path from start to goal\n",
            "dimension:  84\n",
            "There is no path from start to goal\n",
            "dimension:  84\n"
          ],
          "name": "stdout"
        },
        {
          "output_type": "stream",
          "text": [
            "Clipping input data to the valid range for imshow with RGB data ([0..1] for floats or [0..255] for integers).\n"
          ],
          "name": "stderr"
        },
        {
          "output_type": "stream",
          "text": [
            "There is no path from start to goal\n",
            "dimension:  84\n",
            "You have found the goal\n",
            "Path length: 312\n",
            "dimension:  85\n",
            "There is no path from start to goal\n",
            "dimension:  85\n",
            "There is no path from start to goal\n",
            "dimension:  85\n",
            "There is no path from start to goal\n",
            "dimension:  86\n",
            "There is no path from start to goal\n",
            "dimension:  86\n",
            "There is no path from start to goal\n",
            "dimension:  86\n",
            "There is no path from start to goal\n",
            "dimension:  87\n",
            "There is no path from start to goal\n",
            "dimension:  87\n",
            "There is no path from start to goal\n",
            "dimension:  87\n"
          ],
          "name": "stdout"
        },
        {
          "output_type": "stream",
          "text": [
            "Clipping input data to the valid range for imshow with RGB data ([0..1] for floats or [0..255] for integers).\n"
          ],
          "name": "stderr"
        },
        {
          "output_type": "stream",
          "text": [
            "There is no path from start to goal\n",
            "dimension:  88\n",
            "You have found the goal\n",
            "Path length: 272\n",
            "dimension:  88\n",
            "There is no path from start to goal\n",
            "dimension:  88\n"
          ],
          "name": "stdout"
        },
        {
          "output_type": "stream",
          "text": [
            "Clipping input data to the valid range for imshow with RGB data ([0..1] for floats or [0..255] for integers).\n",
            "Clipping input data to the valid range for imshow with RGB data ([0..1] for floats or [0..255] for integers).\n",
            "Clipping input data to the valid range for imshow with RGB data ([0..1] for floats or [0..255] for integers).\n"
          ],
          "name": "stderr"
        },
        {
          "output_type": "stream",
          "text": [
            "There is no path from start to goal\n",
            "dimension:  89\n",
            "You have found the goal\n",
            "Path length: 328\n",
            "dimension:  89\n",
            "You have found the goal\n",
            "Path length: 336\n",
            "dimension:  89\n",
            "There is no path from start to goal\n",
            "dimension:  90\n",
            "You have found the goal\n",
            "Path length: 310\n"
          ],
          "name": "stdout"
        },
        {
          "output_type": "stream",
          "text": [
            "Clipping input data to the valid range for imshow with RGB data ([0..1] for floats or [0..255] for integers).\n",
            "Clipping input data to the valid range for imshow with RGB data ([0..1] for floats or [0..255] for integers).\n",
            "Clipping input data to the valid range for imshow with RGB data ([0..1] for floats or [0..255] for integers).\n"
          ],
          "name": "stderr"
        },
        {
          "output_type": "stream",
          "text": [
            "dimension:  90\n",
            "There is no path from start to goal\n",
            "dimension:  90\n",
            "There is no path from start to goal\n",
            "dimension:  91\n",
            "You have found the goal\n",
            "Path length: 234\n",
            "dimension:  91\n",
            "There is no path from start to goal\n",
            "dimension:  91\n",
            "You have found the goal\n",
            "Path length: 294\n",
            "dimension:  92\n",
            "You have found the goal\n",
            "Path length: 252\n"
          ],
          "name": "stdout"
        },
        {
          "output_type": "stream",
          "text": [
            "Clipping input data to the valid range for imshow with RGB data ([0..1] for floats or [0..255] for integers).\n",
            "Clipping input data to the valid range for imshow with RGB data ([0..1] for floats or [0..255] for integers).\n"
          ],
          "name": "stderr"
        },
        {
          "output_type": "stream",
          "text": [
            "dimension:  92\n",
            "You have found the goal\n",
            "Path length: 276\n",
            "dimension:  92\n",
            "You have found the goal\n",
            "Path length: 232\n"
          ],
          "name": "stdout"
        },
        {
          "output_type": "stream",
          "text": [
            "Clipping input data to the valid range for imshow with RGB data ([0..1] for floats or [0..255] for integers).\n"
          ],
          "name": "stderr"
        },
        {
          "output_type": "stream",
          "text": [
            "dimension:  93\n",
            "There is no path from start to goal\n",
            "dimension:  93\n",
            "You have found the goal\n",
            "Path length: 426\n",
            "dimension:  93\n",
            "There is no path from start to goal\n",
            "dimension:  94\n"
          ],
          "name": "stdout"
        },
        {
          "output_type": "stream",
          "text": [
            "Clipping input data to the valid range for imshow with RGB data ([0..1] for floats or [0..255] for integers).\n",
            "Clipping input data to the valid range for imshow with RGB data ([0..1] for floats or [0..255] for integers).\n",
            "Clipping input data to the valid range for imshow with RGB data ([0..1] for floats or [0..255] for integers).\n"
          ],
          "name": "stderr"
        },
        {
          "output_type": "stream",
          "text": [
            "There is no path from start to goal\n",
            "dimension:  94\n",
            "You have found the goal\n",
            "Path length: 300\n",
            "dimension:  94\n",
            "You have found the goal\n",
            "Path length: 288\n",
            "dimension:  95\n",
            "You have found the goal\n",
            "Path length: 334\n"
          ],
          "name": "stdout"
        },
        {
          "output_type": "stream",
          "text": [
            "Clipping input data to the valid range for imshow with RGB data ([0..1] for floats or [0..255] for integers).\n",
            "Clipping input data to the valid range for imshow with RGB data ([0..1] for floats or [0..255] for integers).\n"
          ],
          "name": "stderr"
        },
        {
          "output_type": "stream",
          "text": [
            "dimension:  95\n",
            "You have found the goal\n",
            "Path length: 244\n",
            "dimension:  95\n",
            "You have found the goal\n",
            "Path length: 486\n",
            "dimension:  96\n",
            "You have found the goal\n",
            "Path length: 272\n"
          ],
          "name": "stdout"
        },
        {
          "output_type": "stream",
          "text": [
            "Clipping input data to the valid range for imshow with RGB data ([0..1] for floats or [0..255] for integers).\n",
            "Clipping input data to the valid range for imshow with RGB data ([0..1] for floats or [0..255] for integers).\n",
            "Clipping input data to the valid range for imshow with RGB data ([0..1] for floats or [0..255] for integers).\n"
          ],
          "name": "stderr"
        },
        {
          "output_type": "stream",
          "text": [
            "dimension:  96\n",
            "You have found the goal\n",
            "Path length: 344\n",
            "dimension:  96\n",
            "There is no path from start to goal\n",
            "dimension:  97\n",
            "You have found the goal\n",
            "Path length: 252\n"
          ],
          "name": "stdout"
        },
        {
          "output_type": "stream",
          "text": [
            "Clipping input data to the valid range for imshow with RGB data ([0..1] for floats or [0..255] for integers).\n"
          ],
          "name": "stderr"
        },
        {
          "output_type": "stream",
          "text": [
            "dimension:  97\n",
            "You have found the goal\n",
            "Path length: 384\n",
            "dimension:  97\n",
            "There is no path from start to goal\n",
            "dimension:  98\n"
          ],
          "name": "stdout"
        },
        {
          "output_type": "stream",
          "text": [
            "Clipping input data to the valid range for imshow with RGB data ([0..1] for floats or [0..255] for integers).\n",
            "Clipping input data to the valid range for imshow with RGB data ([0..1] for floats or [0..255] for integers).\n"
          ],
          "name": "stderr"
        },
        {
          "output_type": "stream",
          "text": [
            "There is no path from start to goal\n",
            "dimension:  98\n",
            "You have found the goal\n",
            "Path length: 322\n",
            "dimension:  98\n",
            "You have found the goal\n",
            "Path length: 440\n",
            "dimension:  99\n",
            "You have found the goal\n",
            "Path length: 290\n"
          ],
          "name": "stdout"
        },
        {
          "output_type": "stream",
          "text": [
            "Clipping input data to the valid range for imshow with RGB data ([0..1] for floats or [0..255] for integers).\n",
            "Clipping input data to the valid range for imshow with RGB data ([0..1] for floats or [0..255] for integers).\n"
          ],
          "name": "stderr"
        },
        {
          "output_type": "stream",
          "text": [
            "dimension:  99\n",
            "You have found the goal\n",
            "Path length: 248\n",
            "dimension:  99\n"
          ],
          "name": "stdout"
        },
        {
          "output_type": "stream",
          "text": [
            "Clipping input data to the valid range for imshow with RGB data ([0..1] for floats or [0..255] for integers).\n",
            "Clipping input data to the valid range for imshow with RGB data ([0..1] for floats or [0..255] for integers).\n"
          ],
          "name": "stderr"
        },
        {
          "output_type": "stream",
          "text": [
            "There is no path from start to goal\n",
            "dimension:  100\n",
            "You have found the goal\n",
            "Path length: 282\n",
            "dimension:  100\n",
            "You have found the goal\n",
            "Path length: 334\n"
          ],
          "name": "stdout"
        },
        {
          "output_type": "stream",
          "text": [
            "Clipping input data to the valid range for imshow with RGB data ([0..1] for floats or [0..255] for integers).\n",
            "Clipping input data to the valid range for imshow with RGB data ([0..1] for floats or [0..255] for integers).\n"
          ],
          "name": "stderr"
        },
        {
          "output_type": "stream",
          "text": [
            "dimension:  100\n",
            "You have found the goal\n",
            "Path length: 406\n",
            "dimension:  101\n",
            "There is no path from start to goal\n",
            "dimension:  101\n",
            "You have found the goal\n",
            "Path length: 308\n",
            "dimension:  101\n",
            "There is no path from start to goal\n",
            "dimension:  102\n"
          ],
          "name": "stdout"
        },
        {
          "output_type": "stream",
          "text": [
            "Clipping input data to the valid range for imshow with RGB data ([0..1] for floats or [0..255] for integers).\n"
          ],
          "name": "stderr"
        },
        {
          "output_type": "stream",
          "text": [
            "There is no path from start to goal\n",
            "dimension:  102\n",
            "There is no path from start to goal\n",
            "dimension:  102\n",
            "There is no path from start to goal\n",
            "dimension:  103\n",
            "There is no path from start to goal\n",
            "dimension:  103\n",
            "There is no path from start to goal\n",
            "dimension:  103\n",
            "You have found the goal\n",
            "Path length: 488\n",
            "dimension:  104\n",
            "There is no path from start to goal\n",
            "dimension:  104\n",
            "There is no path from start to goal\n",
            "dimension:  104\n"
          ],
          "name": "stdout"
        },
        {
          "output_type": "stream",
          "text": [
            "Clipping input data to the valid range for imshow with RGB data ([0..1] for floats or [0..255] for integers).\n",
            "Clipping input data to the valid range for imshow with RGB data ([0..1] for floats or [0..255] for integers).\n"
          ],
          "name": "stderr"
        },
        {
          "output_type": "stream",
          "text": [
            "There is no path from start to goal\n",
            "dimension:  105\n",
            "You have found the goal\n",
            "Path length: 324\n",
            "dimension:  105\n",
            "You have found the goal\n",
            "Path length: 432\n",
            "dimension:  105\n",
            "You have found the goal"
          ],
          "name": "stdout"
        },
        {
          "output_type": "stream",
          "text": [
            "Clipping input data to the valid range for imshow with RGB data ([0..1] for floats or [0..255] for integers).\n",
            "Clipping input data to the valid range for imshow with RGB data ([0..1] for floats or [0..255] for integers).\n"
          ],
          "name": "stderr"
        },
        {
          "output_type": "stream",
          "text": [
            "\n",
            "Path length: 314\n",
            "dimension:  106\n",
            "You have found the goal\n",
            "Path length: 464\n",
            "dimension:  106\n",
            "You have found the goal\n",
            "Path length: 462\n"
          ],
          "name": "stdout"
        },
        {
          "output_type": "stream",
          "text": [
            "Clipping input data to the valid range for imshow with RGB data ([0..1] for floats or [0..255] for integers).\n",
            "Clipping input data to the valid range for imshow with RGB data ([0..1] for floats or [0..255] for integers).\n",
            "Clipping input data to the valid range for imshow with RGB data ([0..1] for floats or [0..255] for integers).\n"
          ],
          "name": "stderr"
        },
        {
          "output_type": "stream",
          "text": [
            "dimension:  106\n",
            "You have found the goal\n",
            "Path length: 290\n",
            "dimension:  107\n",
            "There is no path from start to goal\n",
            "dimension:  107\n",
            "You have found the goal\n",
            "Path length: 272\n"
          ],
          "name": "stdout"
        },
        {
          "output_type": "stream",
          "text": [
            "Clipping input data to the valid range for imshow with RGB data ([0..1] for floats or [0..255] for integers).\n"
          ],
          "name": "stderr"
        },
        {
          "output_type": "stream",
          "text": [
            "dimension:  107\n",
            "You have found the goal\n",
            "Path length: 296\n",
            "dimension:  108\n",
            "There is no path from start to goal\n",
            "dimension:  108\n",
            "You have found the goal\n",
            "Path length: 358\n"
          ],
          "name": "stdout"
        },
        {
          "output_type": "stream",
          "text": [
            "Clipping input data to the valid range for imshow with RGB data ([0..1] for floats or [0..255] for integers).\n",
            "Clipping input data to the valid range for imshow with RGB data ([0..1] for floats or [0..255] for integers).\n"
          ],
          "name": "stderr"
        },
        {
          "output_type": "stream",
          "text": [
            "dimension:  108\n",
            "There is no path from start to goal\n",
            "dimension:  109\n",
            "There is no path from start to goal\n",
            "dimension:  109\n",
            "You have found the goal\n",
            "Path length: 434\n",
            "dimension:  109\n",
            "There is no path from start to goal\n",
            "dimension:  110\n"
          ],
          "name": "stdout"
        },
        {
          "output_type": "stream",
          "text": [
            "Clipping input data to the valid range for imshow with RGB data ([0..1] for floats or [0..255] for integers).\n"
          ],
          "name": "stderr"
        },
        {
          "output_type": "stream",
          "text": [
            "There is no path from start to goal\n",
            "dimension:  110\n",
            "There is no path from start to goal\n",
            "dimension:  110\n",
            "There is no path from start to goal\n",
            "dimension:  111\n",
            "You have found the goal\n",
            "Path length: 324\n",
            "dimension:  111\n",
            "There is no path from start to goal\n",
            "dimension:  111\n",
            "You have found the goal\n",
            "Path length: 668\n"
          ],
          "name": "stdout"
        },
        {
          "output_type": "stream",
          "text": [
            "Clipping input data to the valid range for imshow with RGB data ([0..1] for floats or [0..255] for integers).\n"
          ],
          "name": "stderr"
        },
        {
          "output_type": "stream",
          "text": [
            "dimension:  112\n"
          ],
          "name": "stdout"
        },
        {
          "output_type": "stream",
          "text": [
            "Clipping input data to the valid range for imshow with RGB data ([0..1] for floats or [0..255] for integers).\n"
          ],
          "name": "stderr"
        },
        {
          "output_type": "stream",
          "text": [
            "There is no path from start to goal\n",
            "dimension:  112\n",
            "You have found the goal\n",
            "Path length: 356\n",
            "dimension:  112\n",
            "There is no path from start to goal\n",
            "dimension:  113\n"
          ],
          "name": "stdout"
        },
        {
          "output_type": "stream",
          "text": [
            "Clipping input data to the valid range for imshow with RGB data ([0..1] for floats or [0..255] for integers).\n"
          ],
          "name": "stderr"
        },
        {
          "output_type": "stream",
          "text": [
            "There is no path from start to goal\n",
            "dimension:  113\n",
            "There is no path from start to goal\n",
            "dimension:  113\n",
            "You have found the goal\n",
            "Path length: 324\n",
            "dimension:  114\n",
            "There is no path from start to goal\n",
            "dimension:  114\n",
            "You have found the goal\n",
            "Path length: 438\n"
          ],
          "name": "stdout"
        },
        {
          "output_type": "stream",
          "text": [
            "Clipping input data to the valid range for imshow with RGB data ([0..1] for floats or [0..255] for integers).\n",
            "Clipping input data to the valid range for imshow with RGB data ([0..1] for floats or [0..255] for integers).\n"
          ],
          "name": "stderr"
        },
        {
          "output_type": "stream",
          "text": [
            "dimension:  114\n",
            "You have found the goal\n",
            "Path length: 348\n",
            "dimension:  115\n",
            "There is no path from start to goal\n",
            "dimension:  115\n",
            "You have found the goal\n",
            "Path length: 418\n"
          ],
          "name": "stdout"
        },
        {
          "output_type": "stream",
          "text": [
            "Clipping input data to the valid range for imshow with RGB data ([0..1] for floats or [0..255] for integers).\n",
            "Clipping input data to the valid range for imshow with RGB data ([0..1] for floats or [0..255] for integers).\n"
          ],
          "name": "stderr"
        },
        {
          "output_type": "stream",
          "text": [
            "dimension:  115\n",
            "You have found the goal\n",
            "Path length: 598\n",
            "dimension:  116\n",
            "There is no path from start to goal\n",
            "dimension:  116\n",
            "You have found the goal\n",
            "Path length: 416\n"
          ],
          "name": "stdout"
        },
        {
          "output_type": "stream",
          "text": [
            "Clipping input data to the valid range for imshow with RGB data ([0..1] for floats or [0..255] for integers).\n",
            "Clipping input data to the valid range for imshow with RGB data ([0..1] for floats or [0..255] for integers).\n"
          ],
          "name": "stderr"
        },
        {
          "output_type": "stream",
          "text": [
            "dimension:  116\n",
            "You have found the goal\n",
            "Path length: 504\n",
            "dimension:  117\n"
          ],
          "name": "stdout"
        },
        {
          "output_type": "stream",
          "text": [
            "Clipping input data to the valid range for imshow with RGB data ([0..1] for floats or [0..255] for integers).\n",
            "Clipping input data to the valid range for imshow with RGB data ([0..1] for floats or [0..255] for integers).\n"
          ],
          "name": "stderr"
        },
        {
          "output_type": "stream",
          "text": [
            "There is no path from start to goal\n",
            "dimension:  117\n",
            "You have found the goal\n",
            "Path length: 348\n",
            "dimension:  117\n",
            "You have found the goal\n",
            "Path length: 376\n"
          ],
          "name": "stdout"
        },
        {
          "output_type": "stream",
          "text": [
            "Clipping input data to the valid range for imshow with RGB data ([0..1] for floats or [0..255] for integers).\n"
          ],
          "name": "stderr"
        },
        {
          "output_type": "stream",
          "text": [
            "dimension:  118\n",
            "You have found the goal\n",
            "Path length: 484\n",
            "dimension:  118\n"
          ],
          "name": "stdout"
        },
        {
          "output_type": "stream",
          "text": [
            "Clipping input data to the valid range for imshow with RGB data ([0..1] for floats or [0..255] for integers).\n"
          ],
          "name": "stderr"
        },
        {
          "output_type": "stream",
          "text": [
            "There is no path from start to goal\n",
            "dimension:  118\n",
            "You have found the goal\n",
            "Path length: 384\n",
            "dimension:  119\n"
          ],
          "name": "stdout"
        },
        {
          "output_type": "stream",
          "text": [
            "Clipping input data to the valid range for imshow with RGB data ([0..1] for floats or [0..255] for integers).\n",
            "Clipping input data to the valid range for imshow with RGB data ([0..1] for floats or [0..255] for integers).\n"
          ],
          "name": "stderr"
        },
        {
          "output_type": "stream",
          "text": [
            "There is no path from start to goal\n",
            "dimension:  119\n",
            "You have found the goal\n",
            "Path length: 350\n",
            "dimension:  119\n",
            "You have found the goal\n",
            "Path length: 320\n",
            "dimension:  120\n"
          ],
          "name": "stdout"
        },
        {
          "output_type": "stream",
          "text": [
            "Clipping input data to the valid range for imshow with RGB data ([0..1] for floats or [0..255] for integers).\n"
          ],
          "name": "stderr"
        },
        {
          "output_type": "stream",
          "text": [
            "There is no path from start to goal\n",
            "dimension:  120\n",
            "You have found the goal\n",
            "Path length: 468\n",
            "dimension:  120\n",
            "There is no path from start to goal\n",
            "dimension:  121\n"
          ],
          "name": "stdout"
        },
        {
          "output_type": "stream",
          "text": [
            "Clipping input data to the valid range for imshow with RGB data ([0..1] for floats or [0..255] for integers).\n"
          ],
          "name": "stderr"
        },
        {
          "output_type": "stream",
          "text": [
            "There is no path from start to goal\n",
            "dimension:  121\n",
            "You have found the goal\n",
            "Path length: 414\n"
          ],
          "name": "stdout"
        },
        {
          "output_type": "stream",
          "text": [
            "Clipping input data to the valid range for imshow with RGB data ([0..1] for floats or [0..255] for integers).\n"
          ],
          "name": "stderr"
        },
        {
          "output_type": "stream",
          "text": [
            "dimension:  121\n",
            "You have found the goal\n",
            "Path length: 354\n",
            "dimension:  122\n",
            "You have found the goal\n",
            "Path length: 410\n"
          ],
          "name": "stdout"
        },
        {
          "output_type": "stream",
          "text": [
            "Clipping input data to the valid range for imshow with RGB data ([0..1] for floats or [0..255] for integers).\n",
            "Clipping input data to the valid range for imshow with RGB data ([0..1] for floats or [0..255] for integers).\n"
          ],
          "name": "stderr"
        },
        {
          "output_type": "stream",
          "text": [
            "dimension:  122\n",
            "There is no path from start to goal\n",
            "dimension:  122\n",
            "You have found the goal\n",
            "Path length: 442\n",
            "dimension:  123\n",
            "There is no path from start to goal\n",
            "dimension:  123\n",
            "You have found the goal\n",
            "Path length: 364\n"
          ],
          "name": "stdout"
        },
        {
          "output_type": "stream",
          "text": [
            "Clipping input data to the valid range for imshow with RGB data ([0..1] for floats or [0..255] for integers).\n",
            "Clipping input data to the valid range for imshow with RGB data ([0..1] for floats or [0..255] for integers).\n"
          ],
          "name": "stderr"
        },
        {
          "output_type": "stream",
          "text": [
            "dimension:  123\n",
            "You have found the goal\n",
            "Path length: 334\n",
            "dimension:  124\n"
          ],
          "name": "stdout"
        },
        {
          "output_type": "stream",
          "text": [
            "Clipping input data to the valid range for imshow with RGB data ([0..1] for floats or [0..255] for integers).\n"
          ],
          "name": "stderr"
        },
        {
          "output_type": "stream",
          "text": [
            "There is no path from start to goal\n",
            "dimension:  124\n",
            "You have found the goal\n",
            "Path length: 350\n",
            "dimension:  124\n",
            "There is no path from start to goal\n",
            "dimension:  125\n",
            "You have found the goal\n",
            "Path length: 370\n"
          ],
          "name": "stdout"
        },
        {
          "output_type": "stream",
          "text": [
            "Clipping input data to the valid range for imshow with RGB data ([0..1] for floats or [0..255] for integers).\n",
            "Clipping input data to the valid range for imshow with RGB data ([0..1] for floats or [0..255] for integers).\n",
            "Clipping input data to the valid range for imshow with RGB data ([0..1] for floats or [0..255] for integers).\n"
          ],
          "name": "stderr"
        },
        {
          "output_type": "stream",
          "text": [
            "dimension:  125\n",
            "There is no path from start to goal\n",
            "dimension:  125\n",
            "There is no path from start to goal\n",
            "dimension:  126\n",
            "You have found the goal\n",
            "Path length: 360\n",
            "dimension:  126\n",
            "You have found the goal\n",
            "Path length: 450\n"
          ],
          "name": "stdout"
        },
        {
          "output_type": "stream",
          "text": [
            "Clipping input data to the valid range for imshow with RGB data ([0..1] for floats or [0..255] for integers).\n"
          ],
          "name": "stderr"
        },
        {
          "output_type": "stream",
          "text": [
            "dimension:  126\n",
            "There is no path from start to goal\n",
            "dimension:  127\n",
            "You have found the goal\n",
            "Path length: 322\n",
            "dimension:  127\n",
            "There is no path from start to goal\n",
            "dimension:  127\n"
          ],
          "name": "stdout"
        },
        {
          "output_type": "stream",
          "text": [
            "Clipping input data to the valid range for imshow with RGB data ([0..1] for floats or [0..255] for integers).\n"
          ],
          "name": "stderr"
        },
        {
          "output_type": "stream",
          "text": [
            "There is no path from start to goal\n",
            "dimension:  128\n",
            "There is no path from start to goal\n",
            "dimension:  128\n",
            "There is no path from start to goal\n",
            "dimension:  128\n",
            "There is no path from start to goal\n",
            "dimension:  129\n",
            "You have found the goal\n",
            "Path length: 360\n",
            "dimension:  129\n",
            "You have found the goal\n",
            "Path length: 400\n"
          ],
          "name": "stdout"
        },
        {
          "output_type": "stream",
          "text": [
            "Clipping input data to the valid range for imshow with RGB data ([0..1] for floats or [0..255] for integers).\n",
            "Clipping input data to the valid range for imshow with RGB data ([0..1] for floats or [0..255] for integers).\n",
            "Clipping input data to the valid range for imshow with RGB data ([0..1] for floats or [0..255] for integers).\n"
          ],
          "name": "stderr"
        },
        {
          "output_type": "stream",
          "text": [
            "dimension:  129\n",
            "You have found the goal\n",
            "Path length: 428\n",
            "dimension:  130\n",
            "You have found the goal\n",
            "Path length: 416\n",
            "dimension:  130\n"
          ],
          "name": "stdout"
        },
        {
          "output_type": "stream",
          "text": [
            "Clipping input data to the valid range for imshow with RGB data ([0..1] for floats or [0..255] for integers).\n"
          ],
          "name": "stderr"
        },
        {
          "output_type": "stream",
          "text": [
            "There is no path from start to goal\n",
            "dimension:  130\n",
            "You have found the goal\n",
            "Path length: 368\n",
            "dimension:  131\n",
            "There is no path from start to goal\n",
            "dimension:  131\n",
            "There is no path from start to goal\n",
            "dimension:  131\n",
            "There is no path from start to goal\n",
            "dimension:  132\n",
            "There is no path from start to goal\n",
            "dimension:  132\n"
          ],
          "name": "stdout"
        },
        {
          "output_type": "stream",
          "text": [
            "Clipping input data to the valid range for imshow with RGB data ([0..1] for floats or [0..255] for integers).\n"
          ],
          "name": "stderr"
        },
        {
          "output_type": "stream",
          "text": [
            "There is no path from start to goal\n",
            "dimension:  132\n",
            "You have found the goal\n",
            "Path length: 426\n",
            "dimension:  133\n",
            "You have found the goal\n",
            "Path length: 432\n"
          ],
          "name": "stdout"
        },
        {
          "output_type": "stream",
          "text": [
            "Clipping input data to the valid range for imshow with RGB data ([0..1] for floats or [0..255] for integers).\n",
            "Clipping input data to the valid range for imshow with RGB data ([0..1] for floats or [0..255] for integers).\n"
          ],
          "name": "stderr"
        },
        {
          "output_type": "stream",
          "text": [
            "dimension:  133\n",
            "You have found the goal\n",
            "Path length: 528\n",
            "dimension:  133\n",
            "There is no path from start to goal\n",
            "dimension:  134\n"
          ],
          "name": "stdout"
        },
        {
          "output_type": "stream",
          "text": [
            "Clipping input data to the valid range for imshow with RGB data ([0..1] for floats or [0..255] for integers).\n"
          ],
          "name": "stderr"
        },
        {
          "output_type": "stream",
          "text": [
            "You have found the goal\n",
            "Path length: 462\n",
            "dimension:  134\n",
            "There is no path from start to goal\n",
            "dimension:  134\n",
            "There is no path from start to goal\n",
            "dimension:  135\n",
            "You have found the goal\n",
            "Path length: 380\n"
          ],
          "name": "stdout"
        },
        {
          "output_type": "stream",
          "text": [
            "Clipping input data to the valid range for imshow with RGB data ([0..1] for floats or [0..255] for integers).\n"
          ],
          "name": "stderr"
        },
        {
          "output_type": "stream",
          "text": [
            "dimension:  135\n",
            "There is no path from start to goal\n",
            "dimension:  135\n",
            "There is no path from start to goal\n",
            "dimension:  136\n",
            "There is no path from start to goal\n",
            "dimension:  136\n"
          ],
          "name": "stdout"
        },
        {
          "output_type": "stream",
          "text": [
            "Clipping input data to the valid range for imshow with RGB data ([0..1] for floats or [0..255] for integers).\n"
          ],
          "name": "stderr"
        },
        {
          "output_type": "stream",
          "text": [
            "There is no path from start to goal\n",
            "dimension:  136\n",
            "You have found the goal\n",
            "Path length: 388\n",
            "dimension:  137\n"
          ],
          "name": "stdout"
        },
        {
          "output_type": "stream",
          "text": [
            "Clipping input data to the valid range for imshow with RGB data ([0..1] for floats or [0..255] for integers).\n"
          ],
          "name": "stderr"
        },
        {
          "output_type": "stream",
          "text": [
            "There is no path from start to goal\n",
            "dimension:  137\n",
            "You have found the goal\n",
            "Path length: 548\n",
            "dimension:  137\n",
            "You have found the goal\n",
            "Path length: 664\n"
          ],
          "name": "stdout"
        },
        {
          "output_type": "stream",
          "text": [
            "Clipping input data to the valid range for imshow with RGB data ([0..1] for floats or [0..255] for integers).\n",
            "Clipping input data to the valid range for imshow with RGB data ([0..1] for floats or [0..255] for integers).\n"
          ],
          "name": "stderr"
        },
        {
          "output_type": "stream",
          "text": [
            "dimension:  138\n",
            "You have found the goal\n",
            "Path length: 520\n",
            "dimension:  138\n",
            "There is no path from start to goal\n",
            "dimension:  138\n",
            "There is no path from start to goal\n",
            "dimension:  139\n",
            "There is no path from start to goal\n",
            "dimension:  139\n",
            "There is no path from start to goal\n",
            "dimension:  139\n",
            "There is no path from start to goal\n",
            "dimension:  140\n"
          ],
          "name": "stdout"
        },
        {
          "output_type": "stream",
          "text": [
            "Clipping input data to the valid range for imshow with RGB data ([0..1] for floats or [0..255] for integers).\n"
          ],
          "name": "stderr"
        },
        {
          "output_type": "stream",
          "text": [
            "There is no path from start to goal\n",
            "dimension:  140\n",
            "You have found the goal\n",
            "Path length: 358\n",
            "dimension:  140\n",
            "There is no path from start to goal\n",
            "dimension:  141\n",
            "There is no path from start to goal\n",
            "dimension:  141\n"
          ],
          "name": "stdout"
        },
        {
          "output_type": "stream",
          "text": [
            "Clipping input data to the valid range for imshow with RGB data ([0..1] for floats or [0..255] for integers).\n"
          ],
          "name": "stderr"
        },
        {
          "output_type": "stream",
          "text": [
            "There is no path from start to goal\n",
            "dimension:  141\n",
            "You have found the goal\n",
            "Path length: 450\n",
            "dimension:  142\n",
            "There is no path from start to goal\n",
            "dimension:  142\n"
          ],
          "name": "stdout"
        },
        {
          "output_type": "stream",
          "text": [
            "Clipping input data to the valid range for imshow with RGB data ([0..1] for floats or [0..255] for integers).\n"
          ],
          "name": "stderr"
        },
        {
          "output_type": "stream",
          "text": [
            "You have found the goal\n",
            "Path length: 720\n",
            "dimension:  142\n",
            "You have found the goal\n",
            "Path length: 522\n"
          ],
          "name": "stdout"
        },
        {
          "output_type": "stream",
          "text": [
            "Clipping input data to the valid range for imshow with RGB data ([0..1] for floats or [0..255] for integers).\n"
          ],
          "name": "stderr"
        },
        {
          "output_type": "stream",
          "text": [
            "dimension:  143\n",
            "There is no path from start to goal\n",
            "dimension:  143\n",
            "There is no path from start to goal\n",
            "dimension:  143\n",
            "There is no path from start to goal\n",
            "dimension:  144\n",
            "There is no path from start to goal\n",
            "dimension:  144\n"
          ],
          "name": "stdout"
        },
        {
          "output_type": "stream",
          "text": [
            "Clipping input data to the valid range for imshow with RGB data ([0..1] for floats or [0..255] for integers).\n"
          ],
          "name": "stderr"
        },
        {
          "output_type": "stream",
          "text": [
            "There is no path from start to goal\n",
            "dimension:  144\n",
            "You have found the goal\n",
            "Path length: 630\n",
            "dimension:  145\n",
            "There is no path from start to goal\n",
            "dimension:  145\n",
            "There is no path from start to goal\n",
            "dimension:  145\n",
            "There is no path from start to goal\n",
            "dimension:  146\n",
            "There is no path from start to goal\n",
            "dimension:  146\n",
            "There is no path from start to goal\n",
            "dimension:  146\n"
          ],
          "name": "stdout"
        },
        {
          "output_type": "stream",
          "text": [
            "Clipping input data to the valid range for imshow with RGB data ([0..1] for floats or [0..255] for integers).\n"
          ],
          "name": "stderr"
        },
        {
          "output_type": "stream",
          "text": [
            "There is no path from start to goal\n",
            "dimension:  147\n",
            "You have found the goal\n",
            "Path length: 676\n",
            "dimension:  147\n",
            "There is no path from start to goal\n",
            "dimension:  147\n",
            "There is no path from start to goal\n",
            "dimension:  148\n",
            "There is no path from start to goal\n",
            "dimension:  148\n",
            "You have found the goal\n",
            "Path length: 598\n"
          ],
          "name": "stdout"
        },
        {
          "output_type": "stream",
          "text": [
            "Clipping input data to the valid range for imshow with RGB data ([0..1] for floats or [0..255] for integers).\n"
          ],
          "name": "stderr"
        },
        {
          "output_type": "stream",
          "text": [
            "dimension:  148\n"
          ],
          "name": "stdout"
        },
        {
          "output_type": "stream",
          "text": [
            "Clipping input data to the valid range for imshow with RGB data ([0..1] for floats or [0..255] for integers).\n"
          ],
          "name": "stderr"
        },
        {
          "output_type": "stream",
          "text": [
            "You have found the goal\n",
            "Path length: 428\n",
            "dimension:  149\n"
          ],
          "name": "stdout"
        },
        {
          "output_type": "stream",
          "text": [
            "Clipping input data to the valid range for imshow with RGB data ([0..1] for floats or [0..255] for integers).\n"
          ],
          "name": "stderr"
        },
        {
          "output_type": "stream",
          "text": [
            "There is no path from start to goal\n",
            "dimension:  149\n",
            "There is no path from start to goal\n",
            "dimension:  149\n",
            "There is no path from start to goal\n",
            "dimension:  150\n",
            "You have found the goal\n",
            "Path length: 512\n",
            "dimension:  150\n",
            "There is no path from start to goal\n"
          ],
          "name": "stdout"
        },
        {
          "output_type": "stream",
          "text": [
            "Clipping input data to the valid range for imshow with RGB data ([0..1] for floats or [0..255] for integers).\n"
          ],
          "name": "stderr"
        },
        {
          "output_type": "stream",
          "text": [
            "dimension:  150\n",
            "You have found the goal\n",
            "Path length: 390\n",
            "dimension:  151\n"
          ],
          "name": "stdout"
        },
        {
          "output_type": "stream",
          "text": [
            "Clipping input data to the valid range for imshow with RGB data ([0..1] for floats or [0..255] for integers).\n"
          ],
          "name": "stderr"
        },
        {
          "output_type": "stream",
          "text": [
            "You have found the goal\n",
            "Path length: 704\n",
            "dimension:  151\n",
            "You have found the goal\n",
            "Path length: 526\n"
          ],
          "name": "stdout"
        },
        {
          "output_type": "stream",
          "text": [
            "Clipping input data to the valid range for imshow with RGB data ([0..1] for floats or [0..255] for integers).\n",
            "Clipping input data to the valid range for imshow with RGB data ([0..1] for floats or [0..255] for integers).\n"
          ],
          "name": "stderr"
        },
        {
          "output_type": "stream",
          "text": [
            "dimension:  151\n",
            "You have found the goal\n",
            "Path length: 574\n",
            "dimension:  152\n",
            "There is no path from start to goal\n",
            "dimension:  152\n",
            "There is no path from start to goal\n",
            "dimension:  152\n"
          ],
          "name": "stdout"
        },
        {
          "output_type": "stream",
          "text": [
            "Clipping input data to the valid range for imshow with RGB data ([0..1] for floats or [0..255] for integers).\n"
          ],
          "name": "stderr"
        },
        {
          "output_type": "stream",
          "text": [
            "There is no path from start to goal\n",
            "dimension:  153\n",
            "You have found the goal\n",
            "Path length: 422\n",
            "dimension:  153\n"
          ],
          "name": "stdout"
        },
        {
          "output_type": "stream",
          "text": [
            "Clipping input data to the valid range for imshow with RGB data ([0..1] for floats or [0..255] for integers).\n"
          ],
          "name": "stderr"
        },
        {
          "output_type": "stream",
          "text": [
            "You have found the goal\n",
            "Path length: 446\n",
            "dimension:  153\n",
            "You have found the goal\n",
            "Path length: 598\n"
          ],
          "name": "stdout"
        },
        {
          "output_type": "stream",
          "text": [
            "Clipping input data to the valid range for imshow with RGB data ([0..1] for floats or [0..255] for integers).\n"
          ],
          "name": "stderr"
        },
        {
          "output_type": "stream",
          "text": [
            "dimension:  154\n"
          ],
          "name": "stdout"
        },
        {
          "output_type": "stream",
          "text": [
            "Clipping input data to the valid range for imshow with RGB data ([0..1] for floats or [0..255] for integers).\n"
          ],
          "name": "stderr"
        },
        {
          "output_type": "stream",
          "text": [
            "There is no path from start to goal\n",
            "dimension:  154\n",
            "You have found the goal\n",
            "Path length: 520\n",
            "dimension:  154\n",
            "There is no path from start to goal\n",
            "dimension:  155\n",
            "You have found the goal\n",
            "Path length: 572\n"
          ],
          "name": "stdout"
        },
        {
          "output_type": "stream",
          "text": [
            "Clipping input data to the valid range for imshow with RGB data ([0..1] for floats or [0..255] for integers).\n",
            "Clipping input data to the valid range for imshow with RGB data ([0..1] for floats or [0..255] for integers).\n"
          ],
          "name": "stderr"
        },
        {
          "output_type": "stream",
          "text": [
            "dimension:  155\n",
            "There is no path from start to goal\n",
            "dimension:  155\n",
            "You have found the goal\n",
            "Path length: 442\n",
            "dimension:  156\n",
            "You have found the goal\n",
            "Path length: 416\n"
          ],
          "name": "stdout"
        },
        {
          "output_type": "stream",
          "text": [
            "Clipping input data to the valid range for imshow with RGB data ([0..1] for floats or [0..255] for integers).\n",
            "Clipping input data to the valid range for imshow with RGB data ([0..1] for floats or [0..255] for integers).\n"
          ],
          "name": "stderr"
        },
        {
          "output_type": "stream",
          "text": [
            "dimension:  156\n",
            "You have found the goal\n",
            "Path length: 674\n",
            "dimension:  156\n",
            "There is no path from start to goal\n",
            "dimension:  157\n"
          ],
          "name": "stdout"
        },
        {
          "output_type": "stream",
          "text": [
            "Clipping input data to the valid range for imshow with RGB data ([0..1] for floats or [0..255] for integers).\n"
          ],
          "name": "stderr"
        },
        {
          "output_type": "stream",
          "text": [
            "You have found the goal\n",
            "Path length: 690\n",
            "dimension:  157\n",
            "You have found the goal\n",
            "Path length: 570\n"
          ],
          "name": "stdout"
        },
        {
          "output_type": "stream",
          "text": [
            "Clipping input data to the valid range for imshow with RGB data ([0..1] for floats or [0..255] for integers).\n",
            "Clipping input data to the valid range for imshow with RGB data ([0..1] for floats or [0..255] for integers).\n"
          ],
          "name": "stderr"
        },
        {
          "output_type": "stream",
          "text": [
            "dimension:  157\n",
            "You have found the goal\n",
            "Path length: 480\n",
            "dimension:  158\n",
            "There is no path from start to goal\n",
            "dimension:  158\n"
          ],
          "name": "stdout"
        },
        {
          "output_type": "stream",
          "text": [
            "Clipping input data to the valid range for imshow with RGB data ([0..1] for floats or [0..255] for integers).\n"
          ],
          "name": "stderr"
        },
        {
          "output_type": "stream",
          "text": [
            "There is no path from start to goal\n",
            "dimension:  158\n",
            "There is no path from start to goal\n",
            "dimension:  159\n",
            "You have found the goal\n",
            "Path length: 544\n",
            "dimension:  159\n",
            "There is no path from start to goal\n"
          ],
          "name": "stdout"
        },
        {
          "output_type": "stream",
          "text": [
            "Clipping input data to the valid range for imshow with RGB data ([0..1] for floats or [0..255] for integers).\n"
          ],
          "name": "stderr"
        },
        {
          "output_type": "stream",
          "text": [
            "dimension:  159\n",
            "There is no path from start to goal\n",
            "dimension:  160\n",
            "You have found the goal\n",
            "Path length: 682\n",
            "dimension:  160\n",
            "There is no path from start to goal\n",
            "dimension:  160\n"
          ],
          "name": "stdout"
        },
        {
          "output_type": "stream",
          "text": [
            "Clipping input data to the valid range for imshow with RGB data ([0..1] for floats or [0..255] for integers).\n"
          ],
          "name": "stderr"
        },
        {
          "output_type": "stream",
          "text": [
            "There is no path from start to goal\n",
            "dimension:  161\n",
            "You have found the goal\n",
            "Path length: 452\n",
            "dimension:  161\n"
          ],
          "name": "stdout"
        },
        {
          "output_type": "stream",
          "text": [
            "Clipping input data to the valid range for imshow with RGB data ([0..1] for floats or [0..255] for integers).\n"
          ],
          "name": "stderr"
        },
        {
          "output_type": "stream",
          "text": [
            "You have found the goal\n",
            "Path length: 564\n",
            "dimension:  161\n",
            "There is no path from start to goal\n",
            "dimension:  162\n"
          ],
          "name": "stdout"
        },
        {
          "output_type": "stream",
          "text": [
            "Clipping input data to the valid range for imshow with RGB data ([0..1] for floats or [0..255] for integers).\n"
          ],
          "name": "stderr"
        },
        {
          "output_type": "stream",
          "text": [
            "You have found the goal\n",
            "Path length: 476\n",
            "dimension:  162\n",
            "There is no path from start to goal\n",
            "dimension:  162\n",
            "You have found the goal\n",
            "Path length: 572\n"
          ],
          "name": "stdout"
        },
        {
          "output_type": "stream",
          "text": [
            "Clipping input data to the valid range for imshow with RGB data ([0..1] for floats or [0..255] for integers).\n"
          ],
          "name": "stderr"
        },
        {
          "output_type": "stream",
          "text": [
            "dimension:  163\n",
            "You have found the goal\n",
            "Path length: 512\n"
          ],
          "name": "stdout"
        },
        {
          "output_type": "stream",
          "text": [
            "Clipping input data to the valid range for imshow with RGB data ([0..1] for floats or [0..255] for integers).\n",
            "Clipping input data to the valid range for imshow with RGB data ([0..1] for floats or [0..255] for integers).\n"
          ],
          "name": "stderr"
        },
        {
          "output_type": "stream",
          "text": [
            "dimension:  163\n",
            "You have found the goal\n",
            "Path length: 518\n",
            "dimension:  163\n",
            "You have found the goal\n",
            "Path length: 528\n"
          ],
          "name": "stdout"
        },
        {
          "output_type": "stream",
          "text": [
            "Clipping input data to the valid range for imshow with RGB data ([0..1] for floats or [0..255] for integers).\n",
            "Clipping input data to the valid range for imshow with RGB data ([0..1] for floats or [0..255] for integers).\n"
          ],
          "name": "stderr"
        },
        {
          "output_type": "stream",
          "text": [
            "dimension:  164\n",
            "You have found the goal\n",
            "Path length: 702\n",
            "dimension:  164\n"
          ],
          "name": "stdout"
        },
        {
          "output_type": "stream",
          "text": [
            "Clipping input data to the valid range for imshow with RGB data ([0..1] for floats or [0..255] for integers).\n"
          ],
          "name": "stderr"
        },
        {
          "output_type": "stream",
          "text": [
            "You have found the goal\n",
            "Path length: 456\n",
            "dimension:  164\n",
            "There is no path from start to goal\n",
            "dimension:  165\n"
          ],
          "name": "stdout"
        },
        {
          "output_type": "stream",
          "text": [
            "Clipping input data to the valid range for imshow with RGB data ([0..1] for floats or [0..255] for integers).\n"
          ],
          "name": "stderr"
        },
        {
          "output_type": "stream",
          "text": [
            "You have found the goal\n",
            "Path length: 602\n",
            "dimension:  165\n",
            "There is no path from start to goal\n",
            "dimension:  165\n"
          ],
          "name": "stdout"
        },
        {
          "output_type": "stream",
          "text": [
            "Clipping input data to the valid range for imshow with RGB data ([0..1] for floats or [0..255] for integers).\n"
          ],
          "name": "stderr"
        },
        {
          "output_type": "stream",
          "text": [
            "There is no path from start to goal\n",
            "dimension:  166\n",
            "You have found the goal\n",
            "Path length: 572\n"
          ],
          "name": "stdout"
        },
        {
          "output_type": "stream",
          "text": [
            "Clipping input data to the valid range for imshow with RGB data ([0..1] for floats or [0..255] for integers).\n"
          ],
          "name": "stderr"
        },
        {
          "output_type": "stream",
          "text": [
            "dimension:  166\n",
            "You have found the goal\n",
            "Path length: 452\n",
            "dimension:  166\n",
            "There is no path from start to goal\n",
            "dimension:  167\n"
          ],
          "name": "stdout"
        },
        {
          "output_type": "stream",
          "text": [
            "Clipping input data to the valid range for imshow with RGB data ([0..1] for floats or [0..255] for integers).\n"
          ],
          "name": "stderr"
        },
        {
          "output_type": "stream",
          "text": [
            "You have found the goal\n",
            "Path length: 538\n",
            "dimension:  167\n",
            "There is no path from start to goal\n",
            "dimension:  167\n",
            "You have found the goal"
          ],
          "name": "stdout"
        },
        {
          "output_type": "stream",
          "text": [
            "Clipping input data to the valid range for imshow with RGB data ([0..1] for floats or [0..255] for integers).\n"
          ],
          "name": "stderr"
        },
        {
          "output_type": "stream",
          "text": [
            "\n",
            "Path length: 544\n",
            "dimension:  168\n",
            "There is no path from start to goal\n",
            "dimension:  168\n",
            "There is no path from start to goal\n"
          ],
          "name": "stdout"
        },
        {
          "output_type": "stream",
          "text": [
            "Clipping input data to the valid range for imshow with RGB data ([0..1] for floats or [0..255] for integers).\n"
          ],
          "name": "stderr"
        },
        {
          "output_type": "stream",
          "text": [
            "dimension:  168\n",
            "You have found the goal\n",
            "Path length: 532\n"
          ],
          "name": "stdout"
        },
        {
          "output_type": "stream",
          "text": [
            "Clipping input data to the valid range for imshow with RGB data ([0..1] for floats or [0..255] for integers).\n"
          ],
          "name": "stderr"
        },
        {
          "output_type": "stream",
          "text": [
            "dimension:  169\n",
            "You have found the goal\n",
            "Path length: 532\n"
          ],
          "name": "stdout"
        },
        {
          "output_type": "stream",
          "text": [
            "Clipping input data to the valid range for imshow with RGB data ([0..1] for floats or [0..255] for integers).\n"
          ],
          "name": "stderr"
        },
        {
          "output_type": "stream",
          "text": [
            "dimension:  169\n",
            "You have found the goal\n",
            "Path length: 500\n",
            "dimension:  169\n"
          ],
          "name": "stdout"
        },
        {
          "output_type": "stream",
          "text": [
            "Clipping input data to the valid range for imshow with RGB data ([0..1] for floats or [0..255] for integers).\n"
          ],
          "name": "stderr"
        },
        {
          "output_type": "stream",
          "text": [
            "You have found the goal\n",
            "Path length: 466\n",
            "dimension:  170\n",
            "You have found the goal\n",
            "Path length: 564\n"
          ],
          "name": "stdout"
        },
        {
          "output_type": "stream",
          "text": [
            "Clipping input data to the valid range for imshow with RGB data ([0..1] for floats or [0..255] for integers).\n",
            "Clipping input data to the valid range for imshow with RGB data ([0..1] for floats or [0..255] for integers).\n"
          ],
          "name": "stderr"
        },
        {
          "output_type": "stream",
          "text": [
            "dimension:  170\n",
            "You have found the goal\n",
            "Path length: 708\n"
          ],
          "name": "stdout"
        },
        {
          "output_type": "stream",
          "text": [
            "Clipping input data to the valid range for imshow with RGB data ([0..1] for floats or [0..255] for integers).\n"
          ],
          "name": "stderr"
        },
        {
          "output_type": "stream",
          "text": [
            "dimension:  170\n",
            "You have found the goal\n",
            "Path length: 642\n",
            "dimension:  171\n"
          ],
          "name": "stdout"
        },
        {
          "output_type": "stream",
          "text": [
            "Clipping input data to the valid range for imshow with RGB data ([0..1] for floats or [0..255] for integers).\n"
          ],
          "name": "stderr"
        },
        {
          "output_type": "stream",
          "text": [
            "You have found the goal\n",
            "Path length: 724\n"
          ],
          "name": "stdout"
        },
        {
          "output_type": "stream",
          "text": [
            "Clipping input data to the valid range for imshow with RGB data ([0..1] for floats or [0..255] for integers).\n"
          ],
          "name": "stderr"
        },
        {
          "output_type": "stream",
          "text": [
            "dimension:  171\n",
            "You have found the goal\n",
            "Path length: 492\n",
            "dimension:  171\n"
          ],
          "name": "stdout"
        },
        {
          "output_type": "stream",
          "text": [
            "Clipping input data to the valid range for imshow with RGB data ([0..1] for floats or [0..255] for integers).\n"
          ],
          "name": "stderr"
        },
        {
          "output_type": "stream",
          "text": [
            "You have found the goal\n",
            "Path length: 650\n",
            "dimension:  172\n"
          ],
          "name": "stdout"
        },
        {
          "output_type": "stream",
          "text": [
            "Clipping input data to the valid range for imshow with RGB data ([0..1] for floats or [0..255] for integers).\n"
          ],
          "name": "stderr"
        },
        {
          "output_type": "stream",
          "text": [
            "You have found the goal\n",
            "Path length: 464\n",
            "dimension:  172\n",
            "There is no path from start to goal\n",
            "dimension:  172\n",
            "There is no path from start to goal\n",
            "dimension:  173\n",
            "You have found the goal\n",
            "Path length: 646\n"
          ],
          "name": "stdout"
        },
        {
          "output_type": "stream",
          "text": [
            "Clipping input data to the valid range for imshow with RGB data ([0..1] for floats or [0..255] for integers).\n",
            "Clipping input data to the valid range for imshow with RGB data ([0..1] for floats or [0..255] for integers).\n"
          ],
          "name": "stderr"
        },
        {
          "output_type": "stream",
          "text": [
            "dimension:  173\n",
            "There is no path from start to goal\n",
            "dimension:  173\n",
            "You have found the goal\n",
            "Path length: 642\n",
            "dimension:  174\n",
            "There is no path from start to goal\n",
            "dimension:  174\n",
            "There is no path from start to goal\n",
            "dimension:  174\n",
            "There is no path from start to goal\n",
            "dimension:  175\n"
          ],
          "name": "stdout"
        },
        {
          "output_type": "stream",
          "text": [
            "Clipping input data to the valid range for imshow with RGB data ([0..1] for floats or [0..255] for integers).\n"
          ],
          "name": "stderr"
        },
        {
          "output_type": "stream",
          "text": [
            "There is no path from start to goal\n",
            "dimension:  175\n",
            "You have found the goal\n",
            "Path length: 606\n",
            "dimension:  175\n",
            "You have found the goal\n",
            "Path length: 666\n"
          ],
          "name": "stdout"
        },
        {
          "output_type": "stream",
          "text": [
            "Clipping input data to the valid range for imshow with RGB data ([0..1] for floats or [0..255] for integers).\n",
            "Clipping input data to the valid range for imshow with RGB data ([0..1] for floats or [0..255] for integers).\n"
          ],
          "name": "stderr"
        },
        {
          "output_type": "stream",
          "text": [
            "dimension:  176\n",
            "There is no path from start to goal\n",
            "dimension:  176\n",
            "You have found the goal\n",
            "Path length: 578\n"
          ],
          "name": "stdout"
        },
        {
          "output_type": "stream",
          "text": [
            "Clipping input data to the valid range for imshow with RGB data ([0..1] for floats or [0..255] for integers).\n"
          ],
          "name": "stderr"
        },
        {
          "output_type": "stream",
          "text": [
            "dimension:  176\n",
            "There is no path from start to goal\n",
            "dimension:  177\n",
            "You have found the goal\n",
            "Path length: 628\n"
          ],
          "name": "stdout"
        },
        {
          "output_type": "stream",
          "text": [
            "Clipping input data to the valid range for imshow with RGB data ([0..1] for floats or [0..255] for integers).\n"
          ],
          "name": "stderr"
        },
        {
          "output_type": "stream",
          "text": [
            "dimension:  177\n",
            "There is no path from start to goal\n",
            "dimension:  177\n",
            "You have found the goal\n",
            "Path length: 550\n",
            "dimension:  178\n",
            "There is no path from start to goal\n",
            "dimension:  178\n",
            "You have found the goal\n",
            "Path length: 990\n"
          ],
          "name": "stdout"
        },
        {
          "output_type": "stream",
          "text": [
            "Clipping input data to the valid range for imshow with RGB data ([0..1] for floats or [0..255] for integers).\n"
          ],
          "name": "stderr"
        },
        {
          "output_type": "stream",
          "text": [
            "dimension:  178\n",
            "You have found the goal\n",
            "Path length: 704\n"
          ],
          "name": "stdout"
        },
        {
          "output_type": "stream",
          "text": [
            "Clipping input data to the valid range for imshow with RGB data ([0..1] for floats or [0..255] for integers).\n",
            "Clipping input data to the valid range for imshow with RGB data ([0..1] for floats or [0..255] for integers).\n"
          ],
          "name": "stderr"
        },
        {
          "output_type": "stream",
          "text": [
            "dimension:  179\n",
            "There is no path from start to goal\n",
            "dimension:  179\n",
            "There is no path from start to goal\n",
            "dimension:  179\n",
            "You have found the goal\n",
            "Path length: 762\n"
          ],
          "name": "stdout"
        },
        {
          "output_type": "stream",
          "text": [
            "Clipping input data to the valid range for imshow with RGB data ([0..1] for floats or [0..255] for integers).\n"
          ],
          "name": "stderr"
        },
        {
          "output_type": "stream",
          "text": [
            "dimension:  180\n",
            "There is no path from start to goal\n",
            "dimension:  180\n",
            "You have found the goal\n",
            "Path length: 646\n",
            "dimension:  180\n",
            "There is no path from start to goal\n",
            "dimension:  181\n",
            "You have found the goal"
          ],
          "name": "stdout"
        },
        {
          "output_type": "stream",
          "text": [
            "Clipping input data to the valid range for imshow with RGB data ([0..1] for floats or [0..255] for integers).\n"
          ],
          "name": "stderr"
        },
        {
          "output_type": "stream",
          "text": [
            "\n",
            "Path length: 566\n",
            "dimension:  181\n",
            "There is no path from start to goal\n",
            "dimension:  181\n"
          ],
          "name": "stdout"
        },
        {
          "output_type": "stream",
          "text": [
            "Clipping input data to the valid range for imshow with RGB data ([0..1] for floats or [0..255] for integers).\n"
          ],
          "name": "stderr"
        },
        {
          "output_type": "stream",
          "text": [
            "You have found the goal\n",
            "Path length: 630\n"
          ],
          "name": "stdout"
        },
        {
          "output_type": "stream",
          "text": [
            "Clipping input data to the valid range for imshow with RGB data ([0..1] for floats or [0..255] for integers).\n"
          ],
          "name": "stderr"
        },
        {
          "output_type": "stream",
          "text": [
            "dimension:  182\n",
            "There is no path from start to goal\n",
            "dimension:  182\n",
            "There is no path from start to goal\n",
            "dimension:  182\n",
            "You have found the goal\n",
            "Path length: 656\n",
            "dimension:  183\n",
            "You have found the goal\n",
            "Path length: 600\n"
          ],
          "name": "stdout"
        },
        {
          "output_type": "stream",
          "text": [
            "Clipping input data to the valid range for imshow with RGB data ([0..1] for floats or [0..255] for integers).\n",
            "Clipping input data to the valid range for imshow with RGB data ([0..1] for floats or [0..255] for integers).\n"
          ],
          "name": "stderr"
        },
        {
          "output_type": "stream",
          "text": [
            "dimension:  183\n",
            "You have found the goal\n",
            "Path length: 680\n",
            "dimension:  183\n",
            "You have found the goal\n",
            "Path length: 644\n"
          ],
          "name": "stdout"
        },
        {
          "output_type": "stream",
          "text": [
            "Clipping input data to the valid range for imshow with RGB data ([0..1] for floats or [0..255] for integers).\n",
            "Clipping input data to the valid range for imshow with RGB data ([0..1] for floats or [0..255] for integers).\n"
          ],
          "name": "stderr"
        },
        {
          "output_type": "stream",
          "text": [
            "dimension:  184\n",
            "You have found the goal\n",
            "Path length: 764\n",
            "dimension:  184\n",
            "There is no path from start to goal\n",
            "dimension:  184\n",
            "You have found the goal\n",
            "Path length: 716\n"
          ],
          "name": "stdout"
        },
        {
          "output_type": "stream",
          "text": [
            "Clipping input data to the valid range for imshow with RGB data ([0..1] for floats or [0..255] for integers).\n"
          ],
          "name": "stderr"
        },
        {
          "output_type": "stream",
          "text": [
            "dimension:  185\n"
          ],
          "name": "stdout"
        },
        {
          "output_type": "stream",
          "text": [
            "Clipping input data to the valid range for imshow with RGB data ([0..1] for floats or [0..255] for integers).\n"
          ],
          "name": "stderr"
        },
        {
          "output_type": "stream",
          "text": [
            "There is no path from start to goal\n",
            "dimension:  185\n",
            "You have found the goal\n",
            "Path length: 758\n"
          ],
          "name": "stdout"
        },
        {
          "output_type": "stream",
          "text": [
            "Clipping input data to the valid range for imshow with RGB data ([0..1] for floats or [0..255] for integers).\n"
          ],
          "name": "stderr"
        },
        {
          "output_type": "stream",
          "text": [
            "dimension:  185\n",
            "There is no path from start to goal\n",
            "dimension:  186\n",
            "You have found the goal\n",
            "Path length: 568\n",
            "dimension:  186\n",
            "There is no path from start to goal\n",
            "dimension:  186\n",
            "There is no path from start to goal\n",
            "dimension:  187\n"
          ],
          "name": "stdout"
        },
        {
          "output_type": "stream",
          "text": [
            "Clipping input data to the valid range for imshow with RGB data ([0..1] for floats or [0..255] for integers).\n"
          ],
          "name": "stderr"
        },
        {
          "output_type": "stream",
          "text": [
            "You have found the goal\n",
            "Path length: 558\n"
          ],
          "name": "stdout"
        },
        {
          "output_type": "stream",
          "text": [
            "Clipping input data to the valid range for imshow with RGB data ([0..1] for floats or [0..255] for integers).\n"
          ],
          "name": "stderr"
        },
        {
          "output_type": "stream",
          "text": [
            "dimension:  187\n",
            "You have found the goal\n",
            "Path length: 646\n"
          ],
          "name": "stdout"
        },
        {
          "output_type": "stream",
          "text": [
            "Clipping input data to the valid range for imshow with RGB data ([0..1] for floats or [0..255] for integers).\n"
          ],
          "name": "stderr"
        },
        {
          "output_type": "stream",
          "text": [
            "dimension:  187\n",
            "You have found the goal\n",
            "Path length: 736\n",
            "dimension:  188\n",
            "There is no path from start to goal\n",
            "dimension:  188\n",
            "There is no path from start to goal\n",
            "dimension:  188\n",
            "There is no path from start to goal\n",
            "dimension:  189\n",
            "There is no path from start to goal\n",
            "dimension:  189\n",
            "You have found the goal\n",
            "Path length: 724\n"
          ],
          "name": "stdout"
        },
        {
          "output_type": "stream",
          "text": [
            "Clipping input data to the valid range for imshow with RGB data ([0..1] for floats or [0..255] for integers).\n",
            "Clipping input data to the valid range for imshow with RGB data ([0..1] for floats or [0..255] for integers).\n"
          ],
          "name": "stderr"
        },
        {
          "output_type": "stream",
          "text": [
            "dimension:  189\n",
            "You have found the goal\n",
            "Path length: 668\n",
            "dimension:  190\n",
            "There is no path from start to goal\n",
            "dimension:  190\n",
            "There is no path from start to goal\n",
            "dimension:  190\n"
          ],
          "name": "stdout"
        },
        {
          "output_type": "stream",
          "text": [
            "Clipping input data to the valid range for imshow with RGB data ([0..1] for floats or [0..255] for integers).\n"
          ],
          "name": "stderr"
        },
        {
          "output_type": "stream",
          "text": [
            "You have found the goal\n",
            "Path length: 546\n",
            "dimension:  191\n"
          ],
          "name": "stdout"
        },
        {
          "output_type": "stream",
          "text": [
            "Clipping input data to the valid range for imshow with RGB data ([0..1] for floats or [0..255] for integers).\n"
          ],
          "name": "stderr"
        },
        {
          "output_type": "stream",
          "text": [
            "You have found the goal\n",
            "Path length: 636\n",
            "dimension:  191\n",
            "You have found the goal\n",
            "Path length: 830\n"
          ],
          "name": "stdout"
        },
        {
          "output_type": "stream",
          "text": [
            "Clipping input data to the valid range for imshow with RGB data ([0..1] for floats or [0..255] for integers).\n"
          ],
          "name": "stderr"
        },
        {
          "output_type": "stream",
          "text": [
            "dimension:  191\n",
            "There is no path from start to goal\n",
            "dimension:  192\n",
            "There is no path from start to goal\n",
            "dimension:  192\n"
          ],
          "name": "stdout"
        },
        {
          "output_type": "stream",
          "text": [
            "Clipping input data to the valid range for imshow with RGB data ([0..1] for floats or [0..255] for integers).\n"
          ],
          "name": "stderr"
        },
        {
          "output_type": "stream",
          "text": [
            "There is no path from start to goal\n",
            "dimension:  192\n",
            "You have found the goal\n",
            "Path length: 604\n",
            "dimension:  193\n",
            "There is no path from start to goal\n",
            "dimension:  193\n",
            "There is no path from start to goal\n",
            "dimension:  193\n",
            "There is no path from start to goal\n",
            "dimension:  194\n",
            "You have found the goal\n",
            "Path length: 808\n"
          ],
          "name": "stdout"
        },
        {
          "output_type": "stream",
          "text": [
            "Clipping input data to the valid range for imshow with RGB data ([0..1] for floats or [0..255] for integers).\n",
            "Clipping input data to the valid range for imshow with RGB data ([0..1] for floats or [0..255] for integers).\n"
          ],
          "name": "stderr"
        },
        {
          "output_type": "stream",
          "text": [
            "dimension:  194\n",
            "You have found the goal\n",
            "Path length: 780\n",
            "dimension:  194\n"
          ],
          "name": "stdout"
        },
        {
          "output_type": "stream",
          "text": [
            "Clipping input data to the valid range for imshow with RGB data ([0..1] for floats or [0..255] for integers).\n"
          ],
          "name": "stderr"
        },
        {
          "output_type": "stream",
          "text": [
            "There is no path from start to goal\n",
            "dimension:  195\n",
            "You have found the goal\n",
            "Path length: 596\n",
            "dimension:  195\n"
          ],
          "name": "stdout"
        },
        {
          "output_type": "stream",
          "text": [
            "Clipping input data to the valid range for imshow with RGB data ([0..1] for floats or [0..255] for integers).\n"
          ],
          "name": "stderr"
        },
        {
          "output_type": "stream",
          "text": [
            "You have found the goal\n",
            "Path length: 706\n"
          ],
          "name": "stdout"
        },
        {
          "output_type": "stream",
          "text": [
            "Clipping input data to the valid range for imshow with RGB data ([0..1] for floats or [0..255] for integers).\n"
          ],
          "name": "stderr"
        },
        {
          "output_type": "stream",
          "text": [
            "dimension:  195\n",
            "There is no path from start to goal\n",
            "dimension:  196\n",
            "You have found the goal\n",
            "Path length: 584\n",
            "dimension:  196\n",
            "You have found the goal\n",
            "Path length: 700\n"
          ],
          "name": "stdout"
        },
        {
          "output_type": "stream",
          "text": [
            "Clipping input data to the valid range for imshow with RGB data ([0..1] for floats or [0..255] for integers).\n"
          ],
          "name": "stderr"
        },
        {
          "output_type": "stream",
          "text": [
            "dimension:  196\n",
            "There is no path from start to goal\n",
            "dimension:  197\n",
            "There is no path from start to goal\n",
            "dimension:  197\n",
            "There is no path from start to goal\n",
            "dimension:  197\n",
            "You have found the goal\n",
            "Path length: 686\n"
          ],
          "name": "stdout"
        },
        {
          "output_type": "stream",
          "text": [
            "Clipping input data to the valid range for imshow with RGB data ([0..1] for floats or [0..255] for integers).\n"
          ],
          "name": "stderr"
        },
        {
          "output_type": "stream",
          "text": [
            "dimension:  198\n"
          ],
          "name": "stdout"
        },
        {
          "output_type": "stream",
          "text": [
            "Clipping input data to the valid range for imshow with RGB data ([0..1] for floats or [0..255] for integers).\n"
          ],
          "name": "stderr"
        },
        {
          "output_type": "stream",
          "text": [
            "You have found the goal\n",
            "Path length: 704\n",
            "dimension:  198\n",
            "There is no path from start to goal\n",
            "dimension:  198\n",
            "You have found the goal\n",
            "Path length: 646\n"
          ],
          "name": "stdout"
        },
        {
          "output_type": "stream",
          "text": [
            "Clipping input data to the valid range for imshow with RGB data ([0..1] for floats or [0..255] for integers).\n",
            "Clipping input data to the valid range for imshow with RGB data ([0..1] for floats or [0..255] for integers).\n"
          ],
          "name": "stderr"
        },
        {
          "output_type": "stream",
          "text": [
            "dimension:  199\n",
            "You have found the goal\n",
            "Path length: 832\n"
          ],
          "name": "stdout"
        },
        {
          "output_type": "stream",
          "text": [
            "Clipping input data to the valid range for imshow with RGB data ([0..1] for floats or [0..255] for integers).\n"
          ],
          "name": "stderr"
        },
        {
          "output_type": "stream",
          "text": [
            "dimension:  199\n",
            "You have found the goal\n",
            "Path length: 790\n",
            "dimension:  199\n"
          ],
          "name": "stdout"
        },
        {
          "output_type": "stream",
          "text": [
            "Clipping input data to the valid range for imshow with RGB data ([0..1] for floats or [0..255] for integers).\n"
          ],
          "name": "stderr"
        },
        {
          "output_type": "stream",
          "text": [
            "You have found the goal\n",
            "Path length: 686\n",
            "dimension:  200\n",
            "There is no path from start to goal\n",
            "dimension:  200\n",
            "There is no path from start to goal\n",
            "dimension:  200\n",
            "There is no path from start to goal\n",
            "dimension:  201\n",
            "There is no path from start to goal\n",
            "dimension:  201\n",
            "There is no path from start to goal\n",
            "dimension:  201\n",
            "There is no path from start to goal\n",
            "dimension:  202\n",
            "There is no path from start to goal\n",
            "dimension:  202\n",
            "There is no path from start to goal\n",
            "dimension:  202\n",
            "You have found the goal\n",
            "Path length: 744\n"
          ],
          "name": "stdout"
        },
        {
          "output_type": "stream",
          "text": [
            "Clipping input data to the valid range for imshow with RGB data ([0..1] for floats or [0..255] for integers).\n"
          ],
          "name": "stderr"
        },
        {
          "output_type": "stream",
          "text": [
            "dimension:  203\n",
            "There is no path from start to goal\n",
            "dimension:  203\n"
          ],
          "name": "stdout"
        },
        {
          "output_type": "stream",
          "text": [
            "Clipping input data to the valid range for imshow with RGB data ([0..1] for floats or [0..255] for integers).\n"
          ],
          "name": "stderr"
        },
        {
          "output_type": "stream",
          "text": [
            "You have found the goal\n",
            "Path length: 578\n"
          ],
          "name": "stdout"
        },
        {
          "output_type": "stream",
          "text": [
            "Clipping input data to the valid range for imshow with RGB data ([0..1] for floats or [0..255] for integers).\n"
          ],
          "name": "stderr"
        },
        {
          "output_type": "stream",
          "text": [
            "dimension:  203\n",
            "There is no path from start to goal\n",
            "dimension:  204\n",
            "You have found the goal\n",
            "Path length: 650\n",
            "dimension:  204\n",
            "There is no path from start to goal\n",
            "dimension:  204\n",
            "There is no path from start to goal\n",
            "dimension:  205\n"
          ],
          "name": "stdout"
        },
        {
          "output_type": "stream",
          "text": [
            "Clipping input data to the valid range for imshow with RGB data ([0..1] for floats or [0..255] for integers).\n"
          ],
          "name": "stderr"
        },
        {
          "output_type": "stream",
          "text": [
            "You have found the goal\n",
            "Path length: 644\n",
            "dimension:  205\n",
            "You have found the goal\n",
            "Path length: 872\n"
          ],
          "name": "stdout"
        },
        {
          "output_type": "stream",
          "text": [
            "Clipping input data to the valid range for imshow with RGB data ([0..1] for floats or [0..255] for integers).\n"
          ],
          "name": "stderr"
        },
        {
          "output_type": "stream",
          "text": [
            "dimension:  205\n",
            "There is no path from start to goal\n",
            "dimension:  206\n",
            "You have found the goal\n",
            "Path length: 724\n"
          ],
          "name": "stdout"
        },
        {
          "output_type": "stream",
          "text": [
            "Clipping input data to the valid range for imshow with RGB data ([0..1] for floats or [0..255] for integers).\n"
          ],
          "name": "stderr"
        },
        {
          "output_type": "stream",
          "text": [
            "dimension:  206\n"
          ],
          "name": "stdout"
        },
        {
          "output_type": "stream",
          "text": [
            "Clipping input data to the valid range for imshow with RGB data ([0..1] for floats or [0..255] for integers).\n"
          ],
          "name": "stderr"
        },
        {
          "output_type": "stream",
          "text": [
            "You have found the goal\n",
            "Path length: 794\n"
          ],
          "name": "stdout"
        },
        {
          "output_type": "stream",
          "text": [
            "Clipping input data to the valid range for imshow with RGB data ([0..1] for floats or [0..255] for integers).\n"
          ],
          "name": "stderr"
        },
        {
          "output_type": "stream",
          "text": [
            "dimension:  206\n",
            "You have found the goal\n",
            "Path length: 878\n",
            "dimension:  207\n",
            "There is no path from start to goal\n",
            "dimension:  207\n",
            "You have found the goal\n",
            "Path length: 1242\n"
          ],
          "name": "stdout"
        },
        {
          "output_type": "stream",
          "text": [
            "Clipping input data to the valid range for imshow with RGB data ([0..1] for floats or [0..255] for integers).\n"
          ],
          "name": "stderr"
        },
        {
          "output_type": "stream",
          "text": [
            "dimension:  207\n",
            "You have found the goal\n",
            "Path length: 1130\n"
          ],
          "name": "stdout"
        },
        {
          "output_type": "stream",
          "text": [
            "Clipping input data to the valid range for imshow with RGB data ([0..1] for floats or [0..255] for integers).\n"
          ],
          "name": "stderr"
        },
        {
          "output_type": "stream",
          "text": [
            "dimension:  208\n",
            "There is no path from start to goal\n",
            "dimension:  208\n",
            "There is no path from start to goal\n",
            "dimension:  208\n",
            "There is no path from start to goal\n",
            "dimension:  209\n",
            "There is no path from start to goal\n",
            "dimension:  209\n",
            "You have found the goal\n",
            "Path length: 702\n"
          ],
          "name": "stdout"
        },
        {
          "output_type": "stream",
          "text": [
            "Clipping input data to the valid range for imshow with RGB data ([0..1] for floats or [0..255] for integers).\n"
          ],
          "name": "stderr"
        },
        {
          "output_type": "stream",
          "text": [
            "dimension:  209\n",
            "There is no path from start to goal\n",
            "dimension:  210\n",
            "There is no path from start to goal\n",
            "dimension:  210\n",
            "There is no path from start to goal\n",
            "dimension:  210\n",
            "There is no path from start to goal\n",
            "dimension:  211\n",
            "There is no path from start to goal\n",
            "dimension:  211\n",
            "There is no path from start to goal\n",
            "dimension:  211\n",
            "There is no path from start to goal\n",
            "dimension:  212\n",
            "You have found the goal\n",
            "Path length: 674\n"
          ],
          "name": "stdout"
        },
        {
          "output_type": "stream",
          "text": [
            "Clipping input data to the valid range for imshow with RGB data ([0..1] for floats or [0..255] for integers).\n"
          ],
          "name": "stderr"
        },
        {
          "output_type": "stream",
          "text": [
            "dimension:  212\n",
            "There is no path from start to goal\n",
            "dimension:  212\n",
            "You have found the goal\n",
            "Path length: 764\n"
          ],
          "name": "stdout"
        },
        {
          "output_type": "stream",
          "text": [
            "Clipping input data to the valid range for imshow with RGB data ([0..1] for floats or [0..255] for integers).\n"
          ],
          "name": "stderr"
        },
        {
          "output_type": "stream",
          "text": [
            "dimension:  213\n",
            "There is no path from start to goal\n",
            "dimension:  213\n"
          ],
          "name": "stdout"
        },
        {
          "output_type": "stream",
          "text": [
            "Clipping input data to the valid range for imshow with RGB data ([0..1] for floats or [0..255] for integers).\n"
          ],
          "name": "stderr"
        },
        {
          "output_type": "stream",
          "text": [
            "You have found the goal\n",
            "Path length: 616\n"
          ],
          "name": "stdout"
        },
        {
          "output_type": "stream",
          "text": [
            "Clipping input data to the valid range for imshow with RGB data ([0..1] for floats or [0..255] for integers).\n"
          ],
          "name": "stderr"
        },
        {
          "output_type": "stream",
          "text": [
            "dimension:  213\n",
            "You have found the goal\n",
            "Path length: 764\n",
            "dimension:  214\n",
            "There is no path from start to goal\n",
            "dimension:  214\n",
            "You have found the goal\n",
            "Path length: 804\n"
          ],
          "name": "stdout"
        },
        {
          "output_type": "stream",
          "text": [
            "Clipping input data to the valid range for imshow with RGB data ([0..1] for floats or [0..255] for integers).\n"
          ],
          "name": "stderr"
        },
        {
          "output_type": "stream",
          "text": [
            "dimension:  214\n",
            "You have found the goal\n",
            "Path length: 998\n"
          ],
          "name": "stdout"
        },
        {
          "output_type": "stream",
          "text": [
            "Clipping input data to the valid range for imshow with RGB data ([0..1] for floats or [0..255] for integers).\n",
            "Clipping input data to the valid range for imshow with RGB data ([0..1] for floats or [0..255] for integers).\n"
          ],
          "name": "stderr"
        },
        {
          "output_type": "stream",
          "text": [
            "dimension:  215\n",
            "You have found the goal\n",
            "Path length: 734\n"
          ],
          "name": "stdout"
        },
        {
          "output_type": "stream",
          "text": [
            "Clipping input data to the valid range for imshow with RGB data ([0..1] for floats or [0..255] for integers).\n"
          ],
          "name": "stderr"
        },
        {
          "output_type": "stream",
          "text": [
            "dimension:  215\n",
            "You have found the goal\n",
            "Path length: 676\n",
            "dimension:  215\n",
            "You have found the goal\n",
            "Path length: 882\n"
          ],
          "name": "stdout"
        },
        {
          "output_type": "stream",
          "text": [
            "Clipping input data to the valid range for imshow with RGB data ([0..1] for floats or [0..255] for integers).\n",
            "Clipping input data to the valid range for imshow with RGB data ([0..1] for floats or [0..255] for integers).\n"
          ],
          "name": "stderr"
        },
        {
          "output_type": "stream",
          "text": [
            "dimension:  216\n",
            "You have found the goal\n",
            "Path length: 700\n",
            "dimension:  216\n",
            "There is no path from start to goal\n",
            "dimension:  216\n",
            "There is no path from start to goal\n",
            "dimension:  217\n",
            "There is no path from start to goal\n",
            "dimension:  217\n"
          ],
          "name": "stdout"
        },
        {
          "output_type": "stream",
          "text": [
            "Clipping input data to the valid range for imshow with RGB data ([0..1] for floats or [0..255] for integers).\n"
          ],
          "name": "stderr"
        },
        {
          "output_type": "stream",
          "text": [
            "You have found the goal\n",
            "Path length: 704\n",
            "dimension:  217\n",
            "You have found the goal\n",
            "Path length: 892\n"
          ],
          "name": "stdout"
        },
        {
          "output_type": "stream",
          "text": [
            "Clipping input data to the valid range for imshow with RGB data ([0..1] for floats or [0..255] for integers).\n"
          ],
          "name": "stderr"
        },
        {
          "output_type": "stream",
          "text": [
            "dimension:  218\n",
            "There is no path from start to goal\n",
            "dimension:  218\n",
            "There is no path from start to goal\n",
            "dimension:  218\n",
            "There is no path from start to goal\n",
            "dimension:  219\n",
            "There is no path from start to goal\n",
            "dimension:  219\n",
            "There is no path from start to goal\n",
            "dimension:  219\n",
            "You have found the goal\n",
            "Path length: 902\n"
          ],
          "name": "stdout"
        },
        {
          "output_type": "stream",
          "text": [
            "Clipping input data to the valid range for imshow with RGB data ([0..1] for floats or [0..255] for integers).\n"
          ],
          "name": "stderr"
        },
        {
          "output_type": "stream",
          "text": [
            "dimension:  220\n",
            "There is no path from start to goal\n",
            "dimension:  220\n"
          ],
          "name": "stdout"
        },
        {
          "output_type": "stream",
          "text": [
            "Clipping input data to the valid range for imshow with RGB data ([0..1] for floats or [0..255] for integers).\n"
          ],
          "name": "stderr"
        },
        {
          "output_type": "stream",
          "text": [
            "You have found the goal\n",
            "Path length: 736\n"
          ],
          "name": "stdout"
        },
        {
          "output_type": "stream",
          "text": [
            "Clipping input data to the valid range for imshow with RGB data ([0..1] for floats or [0..255] for integers).\n"
          ],
          "name": "stderr"
        },
        {
          "output_type": "stream",
          "text": [
            "dimension:  220\n",
            "You have found the goal\n",
            "Path length: 728\n",
            "dimension:  221\n",
            "You have found the goal\n",
            "Path length: 1006\n"
          ],
          "name": "stdout"
        },
        {
          "output_type": "stream",
          "text": [
            "Clipping input data to the valid range for imshow with RGB data ([0..1] for floats or [0..255] for integers).\n"
          ],
          "name": "stderr"
        },
        {
          "output_type": "stream",
          "text": [
            "dimension:  221\n",
            "You have found the goal\n",
            "Path length: 712\n"
          ],
          "name": "stdout"
        },
        {
          "output_type": "stream",
          "text": [
            "Clipping input data to the valid range for imshow with RGB data ([0..1] for floats or [0..255] for integers).\n"
          ],
          "name": "stderr"
        },
        {
          "output_type": "stream",
          "text": [
            "dimension:  221\n",
            "There is no path from start to goal\n",
            "dimension:  222\n",
            "You have found the goal\n",
            "Path length: 1092\n"
          ],
          "name": "stdout"
        },
        {
          "output_type": "stream",
          "text": [
            "Clipping input data to the valid range for imshow with RGB data ([0..1] for floats or [0..255] for integers).\n",
            "Clipping input data to the valid range for imshow with RGB data ([0..1] for floats or [0..255] for integers).\n"
          ],
          "name": "stderr"
        },
        {
          "output_type": "stream",
          "text": [
            "dimension:  222\n",
            "You have found the goal\n",
            "Path length: 636\n",
            "dimension:  222\n",
            "There is no path from start to goal\n",
            "dimension:  223\n",
            "You have found the goal\n",
            "Path length: 874\n"
          ],
          "name": "stdout"
        },
        {
          "output_type": "stream",
          "text": [
            "Clipping input data to the valid range for imshow with RGB data ([0..1] for floats or [0..255] for integers).\n"
          ],
          "name": "stderr"
        },
        {
          "output_type": "stream",
          "text": [
            "dimension:  223\n"
          ],
          "name": "stdout"
        },
        {
          "output_type": "stream",
          "text": [
            "Clipping input data to the valid range for imshow with RGB data ([0..1] for floats or [0..255] for integers).\n"
          ],
          "name": "stderr"
        },
        {
          "output_type": "stream",
          "text": [
            "You have found the goal\n",
            "Path length: 784\n",
            "dimension:  223\n"
          ],
          "name": "stdout"
        },
        {
          "output_type": "stream",
          "text": [
            "Clipping input data to the valid range for imshow with RGB data ([0..1] for floats or [0..255] for integers).\n"
          ],
          "name": "stderr"
        },
        {
          "output_type": "stream",
          "text": [
            "You have found the goal\n",
            "Path length: 590\n",
            "dimension:  224\n",
            "You have found the goal\n",
            "Path length: 782\n"
          ],
          "name": "stdout"
        },
        {
          "output_type": "stream",
          "text": [
            "Clipping input data to the valid range for imshow with RGB data ([0..1] for floats or [0..255] for integers).\n"
          ],
          "name": "stderr"
        },
        {
          "output_type": "stream",
          "text": [
            "dimension:  224\n",
            "You have found the goal\n",
            "Path length: 822\n"
          ],
          "name": "stdout"
        },
        {
          "output_type": "stream",
          "text": [
            "Clipping input data to the valid range for imshow with RGB data ([0..1] for floats or [0..255] for integers).\n"
          ],
          "name": "stderr"
        },
        {
          "output_type": "stream",
          "text": [
            "dimension:  224\n",
            "There is no path from start to goal\n",
            "dimension:  225\n",
            "There is no path from start to goal\n",
            "dimension:  225\n",
            "You have found the goal\n",
            "Path length: 780\n"
          ],
          "name": "stdout"
        },
        {
          "output_type": "stream",
          "text": [
            "Clipping input data to the valid range for imshow with RGB data ([0..1] for floats or [0..255] for integers).\n"
          ],
          "name": "stderr"
        },
        {
          "output_type": "stream",
          "text": [
            "dimension:  225\n",
            "There is no path from start to goal\n",
            "dimension:  226\n",
            "There is no path from start to goal\n",
            "dimension:  226\n",
            "There is no path from start to goal\n",
            "dimension:  226\n",
            "You have found the goal\n",
            "Path length: 782\n"
          ],
          "name": "stdout"
        },
        {
          "output_type": "stream",
          "text": [
            "Clipping input data to the valid range for imshow with RGB data ([0..1] for floats or [0..255] for integers).\n"
          ],
          "name": "stderr"
        },
        {
          "output_type": "stream",
          "text": [
            "dimension:  227\n",
            "There is no path from start to goal\n",
            "dimension:  227\n"
          ],
          "name": "stdout"
        },
        {
          "output_type": "stream",
          "text": [
            "Clipping input data to the valid range for imshow with RGB data ([0..1] for floats or [0..255] for integers).\n"
          ],
          "name": "stderr"
        },
        {
          "output_type": "stream",
          "text": [
            "You have found the goal\n",
            "Path length: 1442\n",
            "dimension:  227\n",
            "There is no path from start to goal\n",
            "dimension:  228\n",
            "You have found the goal\n",
            "Path length: 722\n"
          ],
          "name": "stdout"
        },
        {
          "output_type": "stream",
          "text": [
            "Clipping input data to the valid range for imshow with RGB data ([0..1] for floats or [0..255] for integers).\n"
          ],
          "name": "stderr"
        },
        {
          "output_type": "stream",
          "text": [
            "dimension:  228\n",
            "You have found the goal\n",
            "Path length: 686\n"
          ],
          "name": "stdout"
        },
        {
          "output_type": "stream",
          "text": [
            "Clipping input data to the valid range for imshow with RGB data ([0..1] for floats or [0..255] for integers).\n"
          ],
          "name": "stderr"
        },
        {
          "output_type": "stream",
          "text": [
            "dimension:  228\n",
            "You have found the goal\n",
            "Path length: 746\n"
          ],
          "name": "stdout"
        },
        {
          "output_type": "stream",
          "text": [
            "Clipping input data to the valid range for imshow with RGB data ([0..1] for floats or [0..255] for integers).\n"
          ],
          "name": "stderr"
        },
        {
          "output_type": "stream",
          "text": [
            "dimension:  229\n"
          ],
          "name": "stdout"
        },
        {
          "output_type": "stream",
          "text": [
            "Clipping input data to the valid range for imshow with RGB data ([0..1] for floats or [0..255] for integers).\n"
          ],
          "name": "stderr"
        },
        {
          "output_type": "stream",
          "text": [
            "You have found the goal\n",
            "Path length: 716\n",
            "dimension:  229\n",
            "There is no path from start to goal\n",
            "dimension:  229\n",
            "There is no path from start to goal\n",
            "dimension:  230\n",
            "You have found the goal\n",
            "Path length: 858\n"
          ],
          "name": "stdout"
        },
        {
          "output_type": "stream",
          "text": [
            "Clipping input data to the valid range for imshow with RGB data ([0..1] for floats or [0..255] for integers).\n"
          ],
          "name": "stderr"
        },
        {
          "output_type": "stream",
          "text": [
            "dimension:  230\n",
            "There is no path from start to goal\n",
            "dimension:  230\n",
            "You have found the goal\n",
            "Path length: 770\n"
          ],
          "name": "stdout"
        },
        {
          "output_type": "stream",
          "text": [
            "Clipping input data to the valid range for imshow with RGB data ([0..1] for floats or [0..255] for integers).\n"
          ],
          "name": "stderr"
        },
        {
          "output_type": "stream",
          "text": [
            "dimension:  231\n",
            "There is no path from start to goal\n",
            "dimension:  231\n",
            "There is no path from start to goal\n",
            "dimension:  231\n",
            "There is no path from start to goal\n",
            "dimension:  232\n"
          ],
          "name": "stdout"
        },
        {
          "output_type": "stream",
          "text": [
            "Clipping input data to the valid range for imshow with RGB data ([0..1] for floats or [0..255] for integers).\n"
          ],
          "name": "stderr"
        },
        {
          "output_type": "stream",
          "text": [
            "You have found the goal\n",
            "Path length: 726\n",
            "dimension:  232\n",
            "There is no path from start to goal\n",
            "dimension:  232\n",
            "There is no path from start to goal\n",
            "dimension:  233\n",
            "You have found the goal\n",
            "Path length: 782\n"
          ],
          "name": "stdout"
        },
        {
          "output_type": "stream",
          "text": [
            "Clipping input data to the valid range for imshow with RGB data ([0..1] for floats or [0..255] for integers).\n"
          ],
          "name": "stderr"
        },
        {
          "output_type": "stream",
          "text": [
            "dimension:  233\n",
            "There is no path from start to goal\n",
            "dimension:  233\n",
            "There is no path from start to goal\n",
            "dimension:  234\n",
            "You have found the goal\n",
            "Path length: 1018\n"
          ],
          "name": "stdout"
        },
        {
          "output_type": "stream",
          "text": [
            "Clipping input data to the valid range for imshow with RGB data ([0..1] for floats or [0..255] for integers).\n"
          ],
          "name": "stderr"
        },
        {
          "output_type": "stream",
          "text": [
            "dimension:  234\n",
            "There is no path from start to goal\n",
            "dimension:  234\n",
            "You have found the goal\n",
            "Path length: 728\n"
          ],
          "name": "stdout"
        },
        {
          "output_type": "stream",
          "text": [
            "Clipping input data to the valid range for imshow with RGB data ([0..1] for floats or [0..255] for integers).\n"
          ],
          "name": "stderr"
        },
        {
          "output_type": "stream",
          "text": [
            "dimension:  235\n",
            "There is no path from start to goal\n",
            "dimension:  235\n",
            "You have found the goal\n",
            "Path length: 830\n"
          ],
          "name": "stdout"
        },
        {
          "output_type": "stream",
          "text": [
            "Clipping input data to the valid range for imshow with RGB data ([0..1] for floats or [0..255] for integers).\n"
          ],
          "name": "stderr"
        },
        {
          "output_type": "stream",
          "text": [
            "dimension:  235\n",
            "There is no path from start to goal\n",
            "dimension:  236\n",
            "You have found the goal\n",
            "Path length: 888\n"
          ],
          "name": "stdout"
        },
        {
          "output_type": "stream",
          "text": [
            "Clipping input data to the valid range for imshow with RGB data ([0..1] for floats or [0..255] for integers).\n"
          ],
          "name": "stderr"
        },
        {
          "output_type": "stream",
          "text": [
            "dimension:  236\n"
          ],
          "name": "stdout"
        },
        {
          "output_type": "stream",
          "text": [
            "Clipping input data to the valid range for imshow with RGB data ([0..1] for floats or [0..255] for integers).\n"
          ],
          "name": "stderr"
        },
        {
          "output_type": "stream",
          "text": [
            "You have found the goal\n",
            "Path length: 708\n",
            "dimension:  236\n",
            "There is no path from start to goal\n",
            "dimension:  237\n",
            "There is no path from start to goal\n",
            "dimension:  237\n",
            "You have found the goal\n",
            "Path length: 792\n"
          ],
          "name": "stdout"
        },
        {
          "output_type": "stream",
          "text": [
            "Clipping input data to the valid range for imshow with RGB data ([0..1] for floats or [0..255] for integers).\n"
          ],
          "name": "stderr"
        },
        {
          "output_type": "stream",
          "text": [
            "dimension:  237\n",
            "You have found the goal\n",
            "Path length: 724\n"
          ],
          "name": "stdout"
        },
        {
          "output_type": "stream",
          "text": [
            "Clipping input data to the valid range for imshow with RGB data ([0..1] for floats or [0..255] for integers).\n"
          ],
          "name": "stderr"
        },
        {
          "output_type": "stream",
          "text": [
            "dimension:  238\n",
            "You have found the goal\n",
            "Path length: 770\n"
          ],
          "name": "stdout"
        },
        {
          "output_type": "stream",
          "text": [
            "Clipping input data to the valid range for imshow with RGB data ([0..1] for floats or [0..255] for integers).\n"
          ],
          "name": "stderr"
        },
        {
          "output_type": "stream",
          "text": [
            "dimension:  238\n",
            "There is no path from start to goal\n",
            "dimension:  238\n",
            "You have found the goal\n",
            "Path length: 960\n"
          ],
          "name": "stdout"
        },
        {
          "output_type": "stream",
          "text": [
            "Clipping input data to the valid range for imshow with RGB data ([0..1] for floats or [0..255] for integers).\n"
          ],
          "name": "stderr"
        },
        {
          "output_type": "stream",
          "text": [
            "dimension:  239\n",
            "There is no path from start to goal\n",
            "dimension:  239\n",
            "There is no path from start to goal\n",
            "dimension:  239\n",
            "There is no path from start to goal\n",
            "dimension:  240\n",
            "There is no path from start to goal\n",
            "dimension:  240\n",
            "You have found the goal\n",
            "Path length: 812\n"
          ],
          "name": "stdout"
        },
        {
          "output_type": "stream",
          "text": [
            "Clipping input data to the valid range for imshow with RGB data ([0..1] for floats or [0..255] for integers).\n"
          ],
          "name": "stderr"
        },
        {
          "output_type": "stream",
          "text": [
            "dimension:  240\n",
            "There is no path from start to goal\n",
            "dimension:  241\n",
            "There is no path from start to goal\n",
            "dimension:  241\n",
            "You have found the goal\n",
            "Path length: 1004\n"
          ],
          "name": "stdout"
        },
        {
          "output_type": "stream",
          "text": [
            "Clipping input data to the valid range for imshow with RGB data ([0..1] for floats or [0..255] for integers).\n"
          ],
          "name": "stderr"
        },
        {
          "output_type": "stream",
          "text": [
            "dimension:  241\n",
            "You have found the goal\n",
            "Path length: 1190\n"
          ],
          "name": "stdout"
        },
        {
          "output_type": "stream",
          "text": [
            "Clipping input data to the valid range for imshow with RGB data ([0..1] for floats or [0..255] for integers).\n"
          ],
          "name": "stderr"
        },
        {
          "output_type": "stream",
          "text": [
            "dimension:  242\n",
            "You have found the goal\n",
            "Path length: 962\n"
          ],
          "name": "stdout"
        },
        {
          "output_type": "stream",
          "text": [
            "Clipping input data to the valid range for imshow with RGB data ([0..1] for floats or [0..255] for integers).\n"
          ],
          "name": "stderr"
        },
        {
          "output_type": "stream",
          "text": [
            "dimension:  242\n",
            "There is no path from start to goal\n",
            "dimension:  242\n",
            "There is no path from start to goal\n",
            "dimension:  243\n",
            "You have found the goal\n",
            "Path length: 1180\n"
          ],
          "name": "stdout"
        },
        {
          "output_type": "stream",
          "text": [
            "Clipping input data to the valid range for imshow with RGB data ([0..1] for floats or [0..255] for integers).\n"
          ],
          "name": "stderr"
        },
        {
          "output_type": "stream",
          "text": [
            "dimension:  243\n",
            "There is no path from start to goal\n",
            "dimension:  243\n",
            "There is no path from start to goal\n",
            "dimension:  244\n",
            "There is no path from start to goal\n",
            "dimension:  244\n",
            "There is no path from start to goal\n",
            "dimension:  244\n",
            "You have found the goal\n",
            "Path length: 968\n"
          ],
          "name": "stdout"
        },
        {
          "output_type": "stream",
          "text": [
            "Clipping input data to the valid range for imshow with RGB data ([0..1] for floats or [0..255] for integers).\n"
          ],
          "name": "stderr"
        },
        {
          "output_type": "stream",
          "text": [
            "dimension:  245\n",
            "There is no path from start to goal\n",
            "dimension:  245\n",
            "There is no path from start to goal\n",
            "dimension:  245\n",
            "You have found the goal\n",
            "Path length: 906\n"
          ],
          "name": "stdout"
        },
        {
          "output_type": "stream",
          "text": [
            "Clipping input data to the valid range for imshow with RGB data ([0..1] for floats or [0..255] for integers).\n"
          ],
          "name": "stderr"
        },
        {
          "output_type": "stream",
          "text": [
            "dimension:  246\n",
            "There is no path from start to goal\n",
            "dimension:  246\n",
            "You have found the goal\n",
            "Path length: 1052\n"
          ],
          "name": "stdout"
        },
        {
          "output_type": "stream",
          "text": [
            "Clipping input data to the valid range for imshow with RGB data ([0..1] for floats or [0..255] for integers).\n"
          ],
          "name": "stderr"
        },
        {
          "output_type": "stream",
          "text": [
            "dimension:  246\n",
            "You have found the goal\n",
            "Path length: 1052\n"
          ],
          "name": "stdout"
        },
        {
          "output_type": "stream",
          "text": [
            "Clipping input data to the valid range for imshow with RGB data ([0..1] for floats or [0..255] for integers).\n"
          ],
          "name": "stderr"
        },
        {
          "output_type": "stream",
          "text": [
            "dimension:  247\n",
            "You have found the goal\n",
            "Path length: 858\n"
          ],
          "name": "stdout"
        },
        {
          "output_type": "stream",
          "text": [
            "Clipping input data to the valid range for imshow with RGB data ([0..1] for floats or [0..255] for integers).\n"
          ],
          "name": "stderr"
        },
        {
          "output_type": "stream",
          "text": [
            "dimension:  247\n",
            "There is no path from start to goal\n",
            "dimension:  247\n",
            "There is no path from start to goal\n",
            "dimension:  248\n",
            "There is no path from start to goal\n",
            "dimension:  248\n",
            "There is no path from start to goal\n",
            "dimension:  248\n",
            "You have found the goal\n",
            "Path length: 922\n"
          ],
          "name": "stdout"
        },
        {
          "output_type": "stream",
          "text": [
            "Clipping input data to the valid range for imshow with RGB data ([0..1] for floats or [0..255] for integers).\n"
          ],
          "name": "stderr"
        },
        {
          "output_type": "stream",
          "text": [
            "dimension:  249\n",
            "There is no path from start to goal\n",
            "dimension:  249\n",
            "There is no path from start to goal\n",
            "dimension:  249\n"
          ],
          "name": "stdout"
        },
        {
          "output_type": "error",
          "ename": "KeyboardInterrupt",
          "evalue": "ignored",
          "traceback": [
            "\u001b[0;31m---------------------------------------------------------------------------\u001b[0m",
            "\u001b[0;31mKeyboardInterrupt\u001b[0m                         Traceback (most recent call last)",
            "\u001b[0;32m<ipython-input-19-14501066c2ed>\u001b[0m in \u001b[0;36m<module>\u001b[0;34m()\u001b[0m\n\u001b[1;32m     12\u001b[0m     \u001b[0mprint\u001b[0m\u001b[0;34m(\u001b[0m\u001b[0;34m\"dimension: \"\u001b[0m\u001b[0;34m,\u001b[0m \u001b[0mdim\u001b[0m\u001b[0;34m)\u001b[0m\u001b[0;34m\u001b[0m\u001b[0;34m\u001b[0m\u001b[0m\n\u001b[1;32m     13\u001b[0m     \u001b[0;31m#plot_fire(fire_set, dim)\u001b[0m\u001b[0;34m\u001b[0m\u001b[0;34m\u001b[0m\u001b[0;34m\u001b[0m\u001b[0m\n\u001b[0;32m---> 14\u001b[0;31m     \u001b[0mdfs_search\u001b[0m\u001b[0;34m(\u001b[0m\u001b[0mdim\u001b[0m\u001b[0;34m,\u001b[0m \u001b[0mfire_set\u001b[0m\u001b[0;34m)\u001b[0m\u001b[0;34m\u001b[0m\u001b[0;34m\u001b[0m\u001b[0m\n\u001b[0m",
            "\u001b[0;32m<ipython-input-3-2a63acf2c1a9>\u001b[0m in \u001b[0;36mdfs_search\u001b[0;34m(dim, fire_set)\u001b[0m\n\u001b[1;32m     41\u001b[0m                 \u001b[0;32mcontinue\u001b[0m\u001b[0;34m\u001b[0m\u001b[0;34m\u001b[0m\u001b[0m\n\u001b[1;32m     42\u001b[0m             \u001b[0;32mif\u001b[0m \u001b[0;34m(\u001b[0m\u001b[0mx\u001b[0m\u001b[0;34m,\u001b[0m\u001b[0my\u001b[0m\u001b[0;34m)\u001b[0m \u001b[0;32mnot\u001b[0m \u001b[0;32min\u001b[0m \u001b[0mfringe\u001b[0m\u001b[0;34m:\u001b[0m\u001b[0;34m\u001b[0m\u001b[0;34m\u001b[0m\u001b[0m\n\u001b[0;32m---> 43\u001b[0;31m                 \u001b[0mfringe\u001b[0m\u001b[0;34m.\u001b[0m\u001b[0mappend\u001b[0m\u001b[0;34m(\u001b[0m\u001b[0;34m(\u001b[0m\u001b[0;34m(\u001b[0m\u001b[0mx\u001b[0m\u001b[0;34m,\u001b[0m\u001b[0my\u001b[0m\u001b[0;34m)\u001b[0m\u001b[0;34m,\u001b[0m \u001b[0mpath\u001b[0m\u001b[0;34m[\u001b[0m\u001b[0;34m:\u001b[0m\u001b[0;34m]\u001b[0m\u001b[0;34m)\u001b[0m\u001b[0;34m)\u001b[0m\u001b[0;34m\u001b[0m\u001b[0;34m\u001b[0m\u001b[0m\n\u001b[0m\u001b[1;32m     44\u001b[0m \u001b[0;34m\u001b[0m\u001b[0m\n\u001b[1;32m     45\u001b[0m         \u001b[0mexplored_spaces\u001b[0m\u001b[0;34m.\u001b[0m\u001b[0madd\u001b[0m\u001b[0;34m(\u001b[0m\u001b[0mnode\u001b[0m\u001b[0;34m)\u001b[0m\u001b[0;34m\u001b[0m\u001b[0;34m\u001b[0m\u001b[0m\n",
            "\u001b[0;31mKeyboardInterrupt\u001b[0m: "
          ]
        },
        {
          "output_type": "display_data",
          "data": {
            "image/png": "[encoded data removed]",
            "text/plain": [
              "<Figure size 432x288 with 1 Axes>"
            ]
          },
          "metadata": {
            "tags": []
          }
        }
      ]
    },
    {
      "cell_type": "code",
      "metadata": {
        "colab": {
          "base_uri": "https://localhost:8080/",
          "height": 232
        },
        "id": "Xc2rAQktYYCl",
        "outputId": "6e4e5819-461b-4e44-a878-8352c09ef615"
      },
      "source": [
        "#Probability Density Chart\n",
        "success = 0\n",
        "pairs = []\n",
        "dim = 200\n",
        "for p in np.arange(0,1,0.01):\n",
        "  success = 0\n",
        "  for count in range(50):\n",
        "    fire_set = set([])\n",
        "    for i in range(dim):\n",
        "        for j in range(dim):\n",
        "            if i == 0 and j == 0 or i == dim-1 and j == dim-1:\n",
        "                continue\n",
        "            if random.uniform(0,1) < p:\n",
        "                fire_set.add((i,j))\n",
        "    if dfs_search(dim, fire_set) == True:\n",
        "      success += 1\n",
        "  pair_to_be_added = (p,success/50)\n",
        "  pairs.append(pair_to_be_added)\n",
        "print(pairs)"
      ],
      "execution_count": 1,
      "outputs": [
        {
          "output_type": "error",
          "ename": "NameError",
          "evalue": "ignored",
          "traceback": [
            "\u001b[0;31m---------------------------------------------------------------------------\u001b[0m",
            "\u001b[0;31mNameError\u001b[0m                                 Traceback (most recent call last)",
            "\u001b[0;32m<ipython-input-1-d585ff152688>\u001b[0m in \u001b[0;36m<module>\u001b[0;34m()\u001b[0m\n\u001b[1;32m      3\u001b[0m \u001b[0mpairs\u001b[0m \u001b[0;34m=\u001b[0m \u001b[0;34m[\u001b[0m\u001b[0;34m]\u001b[0m\u001b[0;34m\u001b[0m\u001b[0;34m\u001b[0m\u001b[0m\n\u001b[1;32m      4\u001b[0m \u001b[0mdim\u001b[0m \u001b[0;34m=\u001b[0m \u001b[0;36m200\u001b[0m\u001b[0;34m\u001b[0m\u001b[0;34m\u001b[0m\u001b[0m\n\u001b[0;32m----> 5\u001b[0;31m \u001b[0;32mfor\u001b[0m \u001b[0mp\u001b[0m \u001b[0;32min\u001b[0m \u001b[0mnp\u001b[0m\u001b[0;34m.\u001b[0m\u001b[0marange\u001b[0m\u001b[0;34m(\u001b[0m\u001b[0;36m0\u001b[0m\u001b[0;34m,\u001b[0m\u001b[0;36m1\u001b[0m\u001b[0;34m,\u001b[0m\u001b[0;36m0.1\u001b[0m\u001b[0;34m)\u001b[0m\u001b[0;34m:\u001b[0m\u001b[0;34m\u001b[0m\u001b[0;34m\u001b[0m\u001b[0m\n\u001b[0m\u001b[1;32m      6\u001b[0m   \u001b[0msuccess\u001b[0m \u001b[0;34m=\u001b[0m \u001b[0;36m0\u001b[0m\u001b[0;34m\u001b[0m\u001b[0;34m\u001b[0m\u001b[0m\n\u001b[1;32m      7\u001b[0m   \u001b[0;32mfor\u001b[0m \u001b[0mcount\u001b[0m \u001b[0;32min\u001b[0m \u001b[0mrange\u001b[0m\u001b[0;34m(\u001b[0m\u001b[0;36m50\u001b[0m\u001b[0;34m)\u001b[0m\u001b[0;34m:\u001b[0m\u001b[0;34m\u001b[0m\u001b[0;34m\u001b[0m\u001b[0m\n",
            "\u001b[0;31mNameError\u001b[0m: name 'np' is not defined"
          ]
        }
      ]
    },
    {
      "cell_type": "code",
      "metadata": {
        "id": "t9Wj8o5ujK28"
      },
      "source": [
        "#A*\n",
        "def euclidean (start,end):\n",
        "  distance = np.sqrt((start[0]-end[0])^2 + (start[1]-end[1])^2)\n",
        "  return distance\n",
        "\n",
        "def A_search(dim, fire_matrix):\n",
        "    transitions = [(0,-1),(-1,0),(0,1),(1,0)]\n",
        "    start = (0,0)\n",
        "    goal = (dim-1, dim-1)\n",
        "    explored_spaces = set([])\n",
        "    fringe = [(start, [], euclidean(start,goal))]\n",
        "    win_flag = False\n",
        "\n",
        "\n",
        "    while len(fringe) > 0:\n",
        "      shortest_distance = 10000000000000\n",
        "      for i in range(len(fringe)):\n",
        "        node1, shortest_path1, distance1 = fringe.pop(i)\n",
        "        if distance1 < shortest_distance:\n",
        "          node, shortest_path, distance = fringe.pop(i)\n",
        "    \n",
        "      if node in explored_spaces:\n",
        "          continue\n",
        "      if node in fire_set:\n",
        "          continue\n",
        "            \n",
        "      shortest_path.append(node)\n",
        "    \n",
        "      if node[0] == goal[0] and node[1] == goal[1]:\n",
        "          print(\"You have found the goal\")\n",
        "          win_flag = True\n",
        "          break\n",
        "\n",
        "    \n",
        "      for i in range(len(transitions)):\n",
        "          dy, dx = transitions[i]\n",
        "        \n",
        "          x = node[0] + dx\n",
        "          y = node[1] + dy\n",
        "        \n",
        "          if x < 0 or y < 0 or x > dim-1 or y > dim-1:\n",
        "                continue\n",
        "          if (x,y) in explored_spaces:\n",
        "                continue\n",
        "          if (x,y) in fire_set:\n",
        "                continue\n",
        "          if (x,y) not in fringe:\n",
        "                fringe.append(((x,y), shortest_path[:]),euclidean((x,y),goal))\n",
        "       \n",
        "      explored_spaces.add(node)\n",
        "        \n",
        "    if win_flag == False:\n",
        "        print(\"There is no path from start to goal\")\n",
        "        return False\n",
        "    \n",
        "    \n",
        "    print(\"Shortest path: \" + str(len(shortest_path)-1))\n",
        "    path_plot(shortest_path, dim, fire_set)\n",
        "    return True"
      ],
      "execution_count": 4,
      "outputs": []
    },
    {
      "cell_type": "code",
      "metadata": {
        "colab": {
          "base_uri": "https://localhost:8080/",
          "height": 181
        },
        "id": "9-6xnwP_puXJ",
        "outputId": "2c5cd445-b5f7-449c-8639-4eccf78c568c"
      },
      "source": [
        "#A\n",
        "A_search(dim, fire_set)"
      ],
      "execution_count": 5,
      "outputs": [
        {
          "output_type": "error",
          "ename": "NameError",
          "evalue": "ignored",
          "traceback": [
            "\u001b[0;31m---------------------------------------------------------------------------\u001b[0m",
            "\u001b[0;31mNameError\u001b[0m                                 Traceback (most recent call last)",
            "\u001b[0;32m<ipython-input-5-91d9e294802f>\u001b[0m in \u001b[0;36m<module>\u001b[0;34m()\u001b[0m\n\u001b[1;32m      1\u001b[0m \u001b[0;31m#A\u001b[0m\u001b[0;34m\u001b[0m\u001b[0;34m\u001b[0m\u001b[0;34m\u001b[0m\u001b[0m\n\u001b[0;32m----> 2\u001b[0;31m \u001b[0mA_search\u001b[0m\u001b[0;34m(\u001b[0m\u001b[0mdim\u001b[0m\u001b[0;34m,\u001b[0m \u001b[0mfire_set\u001b[0m\u001b[0;34m)\u001b[0m\u001b[0;34m\u001b[0m\u001b[0;34m\u001b[0m\u001b[0m\n\u001b[0m",
            "\u001b[0;31mNameError\u001b[0m: name 'fire_set' is not defined"
          ]
        }
      ]
    }
  ]
}
