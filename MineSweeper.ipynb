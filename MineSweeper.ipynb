{
  "nbformat": 4,
  "nbformat_minor": 0,
  "metadata": {
    "colab": {
      "name": "MineSweeper.ipynb",
      "provenance": [],
      "authorship_tag": "ABX9TyMX3aeqilHfS/7Qb+pYroH3",
      "include_colab_link": true
    },
    "kernelspec": {
      "name": "python3",
      "display_name": "Python 3"
    }
  },
  "cells": [
    {
      "cell_type": "markdown",
      "metadata": {
        "id": "view-in-github",
        "colab_type": "text"
      },
      "source": [
        "<a href=\"https://colab.research.google.com/github/samuel-zahner/Intro-to-AI/blob/main/MineSweeper.ipynb\" target=\"_parent\"><img src=\"https://colab.research.google.com/assets/colab-badge.svg\" alt=\"Open In Colab\"/></a>"
      ]
    },
    {
      "cell_type": "code",
      "metadata": {
        "id": "rfBKw3l05m0u"
      },
      "source": [
        "import numpy as np\r\n",
        "import numpy.random as rand"
      ],
      "execution_count": 1,
      "outputs": []
    },
    {
      "cell_type": "code",
      "metadata": {
        "colab": {
          "base_uri": "https://localhost:8080/"
        },
        "id": "VI0Qj-Zy4Nsy",
        "outputId": "4ad03f3a-239d-4ac8-f647-792b3f554fb1"
      },
      "source": [
        "#create environment\r\n",
        "#take input from user\r\n",
        "while True:\r\n",
        "  try:\r\n",
        "    dimension = int(input(\"Enter dimension of board: \"))\r\n",
        "    break\r\n",
        "  except ValueError:\r\n",
        "    print(\"Must be an integer\")\r\n",
        "\r\n",
        "while True: \r\n",
        "  try:\r\n",
        "    num_mines = int(input(\"Enter number of mines: \"))\r\n",
        "    if num_mines > dimension**2:\r\n",
        "      raise ValueError\r\n",
        "    break\r\n",
        "  except ValueError:\r\n",
        "    print(\"Must be an integer and less than dimension^2\")\r\n",
        "\r\n"
      ],
      "execution_count": 2,
      "outputs": [
        {
          "output_type": "stream",
          "text": [
            "Enter dimension of board: 5\n",
            "Enter number of mines: 4\n"
          ],
          "name": "stdout"
        }
      ]
    },
    {
      "cell_type": "code",
      "metadata": {
        "colab": {
          "base_uri": "https://localhost:8080/"
        },
        "id": "41CJUr1o50qI",
        "outputId": "d5e42907-93a9-44b4-cb06-57e9e9f3d55f"
      },
      "source": [
        "#initialize board\r\n",
        "board = np.zeros((dimension, dimension))\r\n",
        "\r\n",
        "#initialize mines\r\n",
        "counter = 0\r\n",
        "mines_set = set([])\r\n",
        "while counter < num_mines:\r\n",
        "  x = rand.randint(0, dimension)\r\n",
        "  y = rand.randint(0, dimension)\r\n",
        "  if (x,y) in mines_set:\r\n",
        "    continue\r\n",
        "  else:\r\n",
        "    mines_set.add((x,y))\r\n",
        "    board[x][y] = 1\r\n",
        "    counter += 1\r\n",
        "\r\n",
        "print(board)"
      ],
      "execution_count": 6,
      "outputs": [
        {
          "output_type": "stream",
          "text": [
            "[[0. 0. 0. 0. 0.]\n",
            " [0. 1. 0. 1. 0.]\n",
            " [0. 0. 1. 1. 0.]\n",
            " [0. 0. 0. 0. 0.]\n",
            " [0. 0. 0. 0. 0.]]\n"
          ],
          "name": "stdout"
        }
      ]
    },
    {
      "cell_type": "code",
      "metadata": {
        "id": "D9GrSTuj7q2j"
      },
      "source": [
        "#clue that our agent will receive\r\n",
        "#returns the total sum of the neighbors of current_position\r\n",
        "def clue(current_position, board,  dimension):\r\n",
        "  x = current_position[0]\r\n",
        "  y = current_position[1]\r\n",
        "  sum = 0\r\n",
        "\r\n",
        "  if x+1 < dimension:\r\n",
        "    sum += board[x+1][y]\r\n",
        "    if y+1 < dimension:\r\n",
        "      sum += board[x+1][y+1]\r\n",
        "    if y-1 >= 0:\r\n",
        "      sum += board[x+1][y-1]\r\n",
        "\r\n",
        "  if x-1 >= 0:\r\n",
        "    sum += board[x-1][y]\r\n",
        "    if y+1 < dimension:\r\n",
        "      sum += board[x-1][y+1]\r\n",
        "    if y-1 >= 0:\r\n",
        "      sum += board[x-1][y-1]\r\n",
        "\r\n",
        "  if y+1 < dimension:\r\n",
        "    sum += board[x][y+1]\r\n",
        "  \r\n",
        "  if y-1 >= 0:\r\n",
        "    sum += board[x][y-1]\r\n",
        "\r\n",
        "  return sum\r\n",
        "  "
      ],
      "execution_count": 7,
      "outputs": []
    }
  ]
}